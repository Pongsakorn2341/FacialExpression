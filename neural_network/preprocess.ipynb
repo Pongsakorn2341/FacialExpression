{
 "cells": [
  {
   "cell_type": "code",
   "execution_count": 27,
   "metadata": {},
   "outputs": [],
   "source": [
    "import os\n",
    "import pandas as pd\n",
    "import numpy as np\n",
    "import shutil\n",
    "import cv2\n",
    "from sklearn.model_selection import train_test_split"
   ]
  },
  {
   "cell_type": "code",
   "execution_count": 28,
   "metadata": {},
   "outputs": [],
   "source": [
    "cwd = os.getcwd()\n",
    "df = pd.read_csv(cwd + \"/../data_csv/all_data.csv\")"
   ]
  },
  {
   "cell_type": "code",
   "execution_count": 29,
   "metadata": {},
   "outputs": [],
   "source": [
    "# create folder\n",
    "dir_img = cwd + '/cleaned_images'\n",
    "if os.path.exists(dir_img):\n",
    "    shutil.rmtree(dir_img)\n",
    "os.makedirs(dir_img)"
   ]
  },
  {
   "cell_type": "code",
   "execution_count": 30,
   "metadata": {},
   "outputs": [],
   "source": [
    "dictionary = ['ANGER', 'CONTEMPT', 'DISGUST', 'FEAR', 'HAPPINESS',  'NEUTRAL', 'SADNESS', 'SURPRISE']\n",
    "for emo in dictionary:\n",
    "    os.makedirs(dir_img + \"/\" + emo)\n",
    "\n",
    "all_image = []\n",
    "\n",
    "# set size\n",
    "dim = (224, 224)\n",
    "\n",
    "for idx, row in df.iterrows():\n",
    "    imagePath = cwd + \"/../images/\" + row.image\n",
    "\n",
    "    image = cv2.imread(imagePath)\n",
    "\n",
    "    # resize\n",
    "    image = cv2.resize(image, dim, interpolation = cv2.INTER_AREA)\n",
    "\n",
    "    # change color\n",
    "    image = cv2.cvtColor(image, cv2.COLOR_BGR2GRAY)\n",
    "    \n",
    "    # apply clahe\n",
    "    clahe = cv2.createCLAHE(clipLimit=2.0, tileGridSize=(8, 8))\n",
    "    image = clahe.apply(image)\n",
    "\n",
    "    # collect preprocessed data\n",
    "    all_image.append([row.image, row.emotion])\n",
    "\n",
    "    # write preprocessed image \n",
    "    cv2.imwrite(os.path.join(dir_img, row.image), image)\n",
    "\n",
    "# export proprocessed data\n",
    "new_df = pd.DataFrame(all_image, columns=[\"image\", \"emotion\"])\n",
    "new_df.to_csv(cwd + \"/preprocess_data.csv\", index=False)"
   ]
  },
  {
   "cell_type": "code",
   "execution_count": 45,
   "metadata": {},
   "outputs": [],
   "source": [
    "df = pd.read_csv(cwd + \"/preprocess_data.csv\")\n",
    "\n",
    "# change label\n",
    "df[\"emotion\"].replace({\"anger\": \"ANGER\", \"contempt\": \"CONTEMPT\", \"disgust\": \"DISGUST\", \"fear\": \"FEAR\", \\\n",
    "                        \"happiness\": \"HAPPINESS\", \"neutral\": \"NEUTRAL\", \"sadness\": \"SADNESS\", \"surprise\": \"SURPRISE\"}, inplace=True)\n",
    "                        # replace string emotion label with integer\n",
    "df['emotion'].replace({'ANGER': 0, 'CONTEMPT': 1, 'DISGUST': 2, 'FEAR': 3, \\\n",
    "                        'HAPPINESS': 4,  'NEUTRAL': 5, 'SADNESS': 6, 'SURPRISE': 7}, inplace=True)"
   ]
  },
  {
   "cell_type": "code",
   "execution_count": 46,
   "metadata": {},
   "outputs": [],
   "source": [
    "def create_state(df, split_fraction, file_name):\n",
    "    # arrange data\n",
    "    X = list(df['image'][i] for i in range(len(df)))\n",
    "    y = list(df['emotion'][i] for i in range(len(df)))\n",
    "\n",
    "    # train test split\n",
    "    X_train, X_test, y_train, y_test = train_test_split(X, y, test_size=split_fraction)\n",
    "\n",
    "    # prepare data to export\n",
    "    new_df = pd.DataFrame(columns=['image', 'emotion'])\n",
    "    new_df['image'] = X_test\n",
    "    new_df['emotion'] = y_test\n",
    "\n",
    "    # add split data to new csv file\n",
    "    new_df.to_csv(cwd + '/state/' + file_name + '.csv', index=False)\n",
    "\n",
    "    print(new_df.groupby('emotion').count())\n",
    "\n",
    "    # drop split data from all data\n",
    "    data = {\n",
    "        'image': X_train,\n",
    "        'emotion': y_train\n",
    "    }\n",
    "    df = pd.DataFrame(data)\n",
    "\n",
    "    return df"
   ]
  },
  {
   "cell_type": "code",
   "execution_count": 47,
   "metadata": {},
   "outputs": [],
   "source": [
    "dir_img = cwd + '/state'\n",
    "if os.path.exists(dir_img):\n",
    "    shutil.rmtree(dir_img)\n",
    "os.makedirs(dir_img)"
   ]
  },
  {
   "cell_type": "code",
   "execution_count": 48,
   "metadata": {},
   "outputs": [
    {
     "name": "stdout",
     "output_type": "stream",
     "text": [
      "         image\n",
      "emotion       \n",
      "0          251\n",
      "1          254\n",
      "2          248\n",
      "3          236\n",
      "4          990\n",
      "5         1158\n",
      "6          347\n",
      "7          391\n"
     ]
    }
   ],
   "source": [
    "# split test data\n",
    "df = create_state(df, 0.1, \"test\")"
   ]
  },
  {
   "cell_type": "code",
   "execution_count": 49,
   "metadata": {},
   "outputs": [
    {
     "data": {
      "text/html": [
       "<div>\n",
       "<style scoped>\n",
       "    .dataframe tbody tr th:only-of-type {\n",
       "        vertical-align: middle;\n",
       "    }\n",
       "\n",
       "    .dataframe tbody tr th {\n",
       "        vertical-align: top;\n",
       "    }\n",
       "\n",
       "    .dataframe thead th {\n",
       "        text-align: right;\n",
       "    }\n",
       "</style>\n",
       "<table border=\"1\" class=\"dataframe\">\n",
       "  <thead>\n",
       "    <tr style=\"text-align: right;\">\n",
       "      <th></th>\n",
       "      <th>image</th>\n",
       "      <th>emotion</th>\n",
       "    </tr>\n",
       "  </thead>\n",
       "  <tbody>\n",
       "    <tr>\n",
       "      <th>0</th>\n",
       "      <td>NEUTRAL/neutral (507).jpg</td>\n",
       "      <td>5</td>\n",
       "    </tr>\n",
       "    <tr>\n",
       "      <th>1</th>\n",
       "      <td>HAPPINESS/happiness (399).png</td>\n",
       "      <td>4</td>\n",
       "    </tr>\n",
       "    <tr>\n",
       "      <th>2</th>\n",
       "      <td>NEUTRAL/neutral (2668).png</td>\n",
       "      <td>5</td>\n",
       "    </tr>\n",
       "    <tr>\n",
       "      <th>3</th>\n",
       "      <td>Yory_Boy_Campas_0001.jpg</td>\n",
       "      <td>4</td>\n",
       "    </tr>\n",
       "    <tr>\n",
       "      <th>4</th>\n",
       "      <td>SURPRISE/surprise (1342).png</td>\n",
       "      <td>7</td>\n",
       "    </tr>\n",
       "    <tr>\n",
       "      <th>...</th>\n",
       "      <td>...</td>\n",
       "      <td>...</td>\n",
       "    </tr>\n",
       "    <tr>\n",
       "      <th>34866</th>\n",
       "      <td>SADNESS/sadness (800).jpg</td>\n",
       "      <td>6</td>\n",
       "    </tr>\n",
       "    <tr>\n",
       "      <th>34867</th>\n",
       "      <td>SADNESS/sadness (5823).jpg</td>\n",
       "      <td>6</td>\n",
       "    </tr>\n",
       "    <tr>\n",
       "      <th>34868</th>\n",
       "      <td>SADNESS/sadness (1844).jpg</td>\n",
       "      <td>6</td>\n",
       "    </tr>\n",
       "    <tr>\n",
       "      <th>34869</th>\n",
       "      <td>HAPPINESS/happiness (4360).png</td>\n",
       "      <td>4</td>\n",
       "    </tr>\n",
       "    <tr>\n",
       "      <th>34870</th>\n",
       "      <td>FEAR/fear (3925).jpg</td>\n",
       "      <td>3</td>\n",
       "    </tr>\n",
       "  </tbody>\n",
       "</table>\n",
       "<p>34871 rows × 2 columns</p>\n",
       "</div>"
      ],
      "text/plain": [
       "                                image  emotion\n",
       "0           NEUTRAL/neutral (507).jpg        5\n",
       "1       HAPPINESS/happiness (399).png        4\n",
       "2          NEUTRAL/neutral (2668).png        5\n",
       "3            Yory_Boy_Campas_0001.jpg        4\n",
       "4        SURPRISE/surprise (1342).png        7\n",
       "...                               ...      ...\n",
       "34866       SADNESS/sadness (800).jpg        6\n",
       "34867      SADNESS/sadness (5823).jpg        6\n",
       "34868      SADNESS/sadness (1844).jpg        6\n",
       "34869  HAPPINESS/happiness (4360).png        4\n",
       "34870            FEAR/fear (3925).jpg        3\n",
       "\n",
       "[34871 rows x 2 columns]"
      ]
     },
     "execution_count": 49,
     "metadata": {},
     "output_type": "execute_result"
    }
   ],
   "source": [
    "df"
   ]
  },
  {
   "cell_type": "code",
   "execution_count": 50,
   "metadata": {},
   "outputs": [
    {
     "name": "stdout",
     "output_type": "stream",
     "text": [
      "         image\n",
      "emotion       \n",
      "0          232\n",
      "1          221\n",
      "2          224\n",
      "3          225\n",
      "4          947\n",
      "5         1020\n",
      "6          297\n",
      "7          322\n"
     ]
    }
   ],
   "source": [
    "# split val data\n",
    "df = create_state(df, 0.1, \"val\")"
   ]
  },
  {
   "cell_type": "code",
   "execution_count": 51,
   "metadata": {},
   "outputs": [],
   "source": [
    "df.to_csv(cwd + \"/state/train.csv\", index=False)"
   ]
  }
 ],
 "metadata": {
  "interpreter": {
   "hash": "186c8c6637da87bf1b48281a4203551e6bea7fd5e6b5755ebb6ce2cf054369ca"
  },
  "kernelspec": {
   "display_name": "Python 3.9.7 ('base')",
   "language": "python",
   "name": "python3"
  },
  "language_info": {
   "codemirror_mode": {
    "name": "ipython",
    "version": 3
   },
   "file_extension": ".py",
   "mimetype": "text/x-python",
   "name": "python",
   "nbconvert_exporter": "python",
   "pygments_lexer": "ipython3",
   "version": "3.9.7"
  },
  "orig_nbformat": 4
 },
 "nbformat": 4,
 "nbformat_minor": 2
}
