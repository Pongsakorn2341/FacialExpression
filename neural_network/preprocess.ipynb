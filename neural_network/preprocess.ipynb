{
 "cells": [
  {
   "cell_type": "code",
   "execution_count": 18,
   "metadata": {},
   "outputs": [],
   "source": [
    "import os\n",
    "import pandas as pd\n",
    "import numpy as np\n",
    "import shutil\n",
    "import cv2\n",
    "from sklearn.model_selection import train_test_split"
   ]
  },
  {
   "cell_type": "code",
   "execution_count": 19,
   "metadata": {},
   "outputs": [],
   "source": [
    "cwd = os.getcwd()\n",
    "df = pd.read_csv(cwd + \"/../data_csv/preprocessing_data.csv\")"
   ]
  },
  {
   "cell_type": "code",
   "execution_count": 20,
   "metadata": {},
   "outputs": [],
   "source": [
    "def create_state(df, split_fraction, file_name):\n",
    "    # arrange data\n",
    "    X = list(df['image'][i] for i in range(len(df)))\n",
    "    y = list(df['emotion'][i] for i in range(len(df)))\n",
    "\n",
    "    # train test split\n",
    "    X_train, X_test, y_train, y_test = train_test_split(X, y, test_size=split_fraction)\n",
    "\n",
    "    # prepare data to export\n",
    "    new_df = pd.DataFrame(columns=['image', 'emotion'])\n",
    "    new_df['image'] = X_test\n",
    "    new_df['emotion'] = y_test\n",
    "\n",
    "    # add split data to new csv file\n",
    "    new_df.to_csv(cwd + '/state/' + file_name + '.csv', index=False)\n",
    "\n",
    "    print(new_df.groupby('emotion').count())\n",
    "\n",
    "    # drop split data from all data\n",
    "    data = {\n",
    "        'image': X_train,\n",
    "        'emotion': y_train\n",
    "    }\n",
    "    df = pd.DataFrame(data)\n",
    "\n",
    "    return df"
   ]
  },
  {
   "cell_type": "code",
   "execution_count": 21,
   "metadata": {},
   "outputs": [],
   "source": [
    "dir_img = cwd + '/state'\n",
    "if os.path.exists(dir_img):\n",
    "    shutil.rmtree(dir_img)\n",
    "os.makedirs(dir_img)"
   ]
  },
  {
   "cell_type": "code",
   "execution_count": 22,
   "metadata": {},
   "outputs": [
    {
     "name": "stdout",
     "output_type": "stream",
     "text": [
      "         image\n",
      "emotion       \n",
      "0          219\n",
      "1          202\n",
      "2          250\n",
      "3          249\n",
      "4          870\n",
      "5          970\n",
      "6          334\n",
      "7          374\n"
     ]
    }
   ],
   "source": [
    "# split test data\n",
    "df = create_state(df, 0.1, \"test\")"
   ]
  },
  {
   "cell_type": "code",
   "execution_count": 23,
   "metadata": {},
   "outputs": [
    {
     "name": "stdout",
     "output_type": "stream",
     "text": [
      "         image\n",
      "emotion       \n",
      "0          227\n",
      "1          200\n",
      "2          204\n",
      "3          224\n",
      "4          795\n",
      "5          881\n",
      "6          280\n",
      "7          310\n"
     ]
    }
   ],
   "source": [
    "# split val data\n",
    "df = create_state(df, 0.1, \"val\")"
   ]
  },
  {
   "cell_type": "code",
   "execution_count": 24,
   "metadata": {},
   "outputs": [
    {
     "data": {
      "text/html": [
       "<div>\n",
       "<style scoped>\n",
       "    .dataframe tbody tr th:only-of-type {\n",
       "        vertical-align: middle;\n",
       "    }\n",
       "\n",
       "    .dataframe tbody tr th {\n",
       "        vertical-align: top;\n",
       "    }\n",
       "\n",
       "    .dataframe thead th {\n",
       "        text-align: right;\n",
       "    }\n",
       "</style>\n",
       "<table border=\"1\" class=\"dataframe\">\n",
       "  <thead>\n",
       "    <tr style=\"text-align: right;\">\n",
       "      <th></th>\n",
       "      <th>image</th>\n",
       "      <th>emotion</th>\n",
       "    </tr>\n",
       "  </thead>\n",
       "  <tbody>\n",
       "    <tr>\n",
       "      <th>0</th>\n",
       "      <td>SADNESS/sadness (236).png</td>\n",
       "      <td>6</td>\n",
       "    </tr>\n",
       "    <tr>\n",
       "      <th>1</th>\n",
       "      <td>FEAR/fear (1117).jpg</td>\n",
       "      <td>3</td>\n",
       "    </tr>\n",
       "    <tr>\n",
       "      <th>2</th>\n",
       "      <td>Yoriko_Kawaguchi_0014.jpg</td>\n",
       "      <td>5</td>\n",
       "    </tr>\n",
       "    <tr>\n",
       "      <th>3</th>\n",
       "      <td>ANGER/anger (2512).jpg</td>\n",
       "      <td>0</td>\n",
       "    </tr>\n",
       "    <tr>\n",
       "      <th>4</th>\n",
       "      <td>SADNESS/sadness (243).jpg</td>\n",
       "      <td>6</td>\n",
       "    </tr>\n",
       "    <tr>\n",
       "      <th>...</th>\n",
       "      <td>...</td>\n",
       "      <td>...</td>\n",
       "    </tr>\n",
       "    <tr>\n",
       "      <th>28081</th>\n",
       "      <td>SURPRISE/surprise (730).png</td>\n",
       "      <td>7</td>\n",
       "    </tr>\n",
       "    <tr>\n",
       "      <th>28082</th>\n",
       "      <td>Heath_Ledger_0001.jpg</td>\n",
       "      <td>5</td>\n",
       "    </tr>\n",
       "    <tr>\n",
       "      <th>28083</th>\n",
       "      <td>Nathalie_Baye_0004.jpg</td>\n",
       "      <td>4</td>\n",
       "    </tr>\n",
       "    <tr>\n",
       "      <th>28084</th>\n",
       "      <td>SADNESS/sadness (1787).jpg</td>\n",
       "      <td>6</td>\n",
       "    </tr>\n",
       "    <tr>\n",
       "      <th>28085</th>\n",
       "      <td>ANGER/anger (656).jpg</td>\n",
       "      <td>0</td>\n",
       "    </tr>\n",
       "  </tbody>\n",
       "</table>\n",
       "<p>28086 rows × 2 columns</p>\n",
       "</div>"
      ],
      "text/plain": [
       "                             image  emotion\n",
       "0        SADNESS/sadness (236).png        6\n",
       "1             FEAR/fear (1117).jpg        3\n",
       "2        Yoriko_Kawaguchi_0014.jpg        5\n",
       "3           ANGER/anger (2512).jpg        0\n",
       "4        SADNESS/sadness (243).jpg        6\n",
       "...                            ...      ...\n",
       "28081  SURPRISE/surprise (730).png        7\n",
       "28082        Heath_Ledger_0001.jpg        5\n",
       "28083       Nathalie_Baye_0004.jpg        4\n",
       "28084   SADNESS/sadness (1787).jpg        6\n",
       "28085        ANGER/anger (656).jpg        0\n",
       "\n",
       "[28086 rows x 2 columns]"
      ]
     },
     "execution_count": 24,
     "metadata": {},
     "output_type": "execute_result"
    }
   ],
   "source": [
    "df"
   ]
  },
  {
   "cell_type": "code",
   "execution_count": 25,
   "metadata": {},
   "outputs": [],
   "source": [
    "df.to_csv(cwd + \"/state/train.csv\", index=False)"
   ]
  }
 ],
 "metadata": {
  "interpreter": {
   "hash": "186c8c6637da87bf1b48281a4203551e6bea7fd5e6b5755ebb6ce2cf054369ca"
  },
  "kernelspec": {
   "display_name": "Python 3.9.7 ('base')",
   "language": "python",
   "name": "python3"
  },
  "language_info": {
   "codemirror_mode": {
    "name": "ipython",
    "version": 3
   },
   "file_extension": ".py",
   "mimetype": "text/x-python",
   "name": "python",
   "nbconvert_exporter": "python",
   "pygments_lexer": "ipython3",
   "version": "3.9.7"
  },
  "orig_nbformat": 4
 },
 "nbformat": 4,
 "nbformat_minor": 2
}
