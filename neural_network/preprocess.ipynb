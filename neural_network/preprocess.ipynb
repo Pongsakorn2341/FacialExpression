{
 "cells": [
  {
   "cell_type": "code",
   "execution_count": 18,
   "metadata": {},
   "outputs": [],
   "source": [
    "import os\n",
    "import pandas as pd\n",
    "import numpy as np\n",
    "import shutil\n",
    "import cv2\n",
    "from sklearn.model_selection import train_test_split"
   ]
  },
  {
   "cell_type": "code",
   "execution_count": 19,
   "metadata": {},
   "outputs": [],
   "source": [
    "cwd = os.getcwd()\n",
    "df = pd.read_csv(cwd + \"/../data_csv/preprocessing_data.csv\")"
   ]
  },
  {
   "cell_type": "code",
   "execution_count": 20,
   "metadata": {},
   "outputs": [
    {
     "data": {
      "text/html": [
       "<div>\n",
       "<style scoped>\n",
       "    .dataframe tbody tr th:only-of-type {\n",
       "        vertical-align: middle;\n",
       "    }\n",
       "\n",
       "    .dataframe tbody tr th {\n",
       "        vertical-align: top;\n",
       "    }\n",
       "\n",
       "    .dataframe thead th {\n",
       "        text-align: right;\n",
       "    }\n",
       "</style>\n",
       "<table border=\"1\" class=\"dataframe\">\n",
       "  <thead>\n",
       "    <tr style=\"text-align: right;\">\n",
       "      <th></th>\n",
       "      <th>image</th>\n",
       "      <th>emotion</th>\n",
       "    </tr>\n",
       "  </thead>\n",
       "  <tbody>\n",
       "    <tr>\n",
       "      <th>0</th>\n",
       "      <td>facial-expressions_2868585k.jpg</td>\n",
       "      <td>7</td>\n",
       "    </tr>\n",
       "    <tr>\n",
       "      <th>1</th>\n",
       "      <td>facial-expressions_2868582k.jpg</td>\n",
       "      <td>3</td>\n",
       "    </tr>\n",
       "    <tr>\n",
       "      <th>2</th>\n",
       "      <td>Aaron_Peirsol_0003.jpg</td>\n",
       "      <td>4</td>\n",
       "    </tr>\n",
       "    <tr>\n",
       "      <th>3</th>\n",
       "      <td>Aaron_Sorkin_0002.jpg</td>\n",
       "      <td>4</td>\n",
       "    </tr>\n",
       "    <tr>\n",
       "      <th>4</th>\n",
       "      <td>Abdel_Nasser_Assidi_0002.jpg</td>\n",
       "      <td>5</td>\n",
       "    </tr>\n",
       "    <tr>\n",
       "      <th>...</th>\n",
       "      <td>...</td>\n",
       "      <td>...</td>\n",
       "    </tr>\n",
       "    <tr>\n",
       "      <th>15891</th>\n",
       "      <td>SURPRISE/surprise (91).jpg</td>\n",
       "      <td>7</td>\n",
       "    </tr>\n",
       "    <tr>\n",
       "      <th>15892</th>\n",
       "      <td>SURPRISE/surprise (941).png</td>\n",
       "      <td>7</td>\n",
       "    </tr>\n",
       "    <tr>\n",
       "      <th>15893</th>\n",
       "      <td>SURPRISE/surprise (967).png</td>\n",
       "      <td>7</td>\n",
       "    </tr>\n",
       "    <tr>\n",
       "      <th>15894</th>\n",
       "      <td>SURPRISE/surprise (970).png</td>\n",
       "      <td>7</td>\n",
       "    </tr>\n",
       "    <tr>\n",
       "      <th>15895</th>\n",
       "      <td>SURPRISE/surprise (978).jpg</td>\n",
       "      <td>7</td>\n",
       "    </tr>\n",
       "  </tbody>\n",
       "</table>\n",
       "<p>15896 rows × 2 columns</p>\n",
       "</div>"
      ],
      "text/plain": [
       "                                 image  emotion\n",
       "0      facial-expressions_2868585k.jpg        7\n",
       "1      facial-expressions_2868582k.jpg        3\n",
       "2               Aaron_Peirsol_0003.jpg        4\n",
       "3                Aaron_Sorkin_0002.jpg        4\n",
       "4         Abdel_Nasser_Assidi_0002.jpg        5\n",
       "...                                ...      ...\n",
       "15891       SURPRISE/surprise (91).jpg        7\n",
       "15892      SURPRISE/surprise (941).png        7\n",
       "15893      SURPRISE/surprise (967).png        7\n",
       "15894      SURPRISE/surprise (970).png        7\n",
       "15895      SURPRISE/surprise (978).jpg        7\n",
       "\n",
       "[15896 rows x 2 columns]"
      ]
     },
     "execution_count": 20,
     "metadata": {},
     "output_type": "execute_result"
    }
   ],
   "source": [
    "df"
   ]
  },
  {
   "cell_type": "code",
   "execution_count": 21,
   "metadata": {},
   "outputs": [],
   "source": [
    "def create_state(df, split_fraction, file_name):\n",
    "    # arrange data\n",
    "    X = list(df['image'][i] for i in range(len(df)))\n",
    "    y = list(df['emotion'][i] for i in range(len(df)))\n",
    "\n",
    "    # train test split\n",
    "    X_train, X_test, y_train, y_test = train_test_split(X, y, test_size=split_fraction)\n",
    "\n",
    "    # prepare data to export\n",
    "    new_df = pd.DataFrame(columns=['image', 'emotion'])\n",
    "    new_df['image'] = X_test\n",
    "    new_df['emotion'] = y_test\n",
    "\n",
    "    # add split data to new csv file\n",
    "    new_df.to_csv(cwd + '/state/' + file_name + '.csv', index=False)\n",
    "\n",
    "    print(new_df.groupby('emotion').count())\n",
    "\n",
    "    # drop split data from all data\n",
    "    data = {\n",
    "        'image': X_train,\n",
    "        'emotion': y_train\n",
    "    }\n",
    "    df = pd.DataFrame(data)\n",
    "\n",
    "    return df"
   ]
  },
  {
   "cell_type": "code",
   "execution_count": 22,
   "metadata": {},
   "outputs": [],
   "source": [
    "dir_img = cwd + '/state'\n",
    "if os.path.exists(dir_img):\n",
    "    shutil.rmtree(dir_img)\n",
    "os.makedirs(dir_img)"
   ]
  },
  {
   "cell_type": "code",
   "execution_count": 23,
   "metadata": {},
   "outputs": [
    {
     "name": "stdout",
     "output_type": "stream",
     "text": [
      "         image\n",
      "emotion       \n",
      "0          108\n",
      "1          160\n",
      "2          114\n",
      "3          128\n",
      "4          393\n",
      "5          412\n",
      "6          142\n",
      "7          133\n"
     ]
    }
   ],
   "source": [
    "# split test data\n",
    "df = create_state(df, 0.1, \"test\")"
   ]
  },
  {
   "cell_type": "code",
   "execution_count": 24,
   "metadata": {},
   "outputs": [
    {
     "data": {
      "text/html": [
       "<div>\n",
       "<style scoped>\n",
       "    .dataframe tbody tr th:only-of-type {\n",
       "        vertical-align: middle;\n",
       "    }\n",
       "\n",
       "    .dataframe tbody tr th {\n",
       "        vertical-align: top;\n",
       "    }\n",
       "\n",
       "    .dataframe thead th {\n",
       "        text-align: right;\n",
       "    }\n",
       "</style>\n",
       "<table border=\"1\" class=\"dataframe\">\n",
       "  <thead>\n",
       "    <tr style=\"text-align: right;\">\n",
       "      <th></th>\n",
       "      <th>image</th>\n",
       "      <th>emotion</th>\n",
       "    </tr>\n",
       "  </thead>\n",
       "  <tbody>\n",
       "    <tr>\n",
       "      <th>0</th>\n",
       "      <td>SURPRISE/surprise (5512).jpg</td>\n",
       "      <td>7</td>\n",
       "    </tr>\n",
       "    <tr>\n",
       "      <th>1</th>\n",
       "      <td>Rachel_Hunter_0002.jpg</td>\n",
       "      <td>4</td>\n",
       "    </tr>\n",
       "    <tr>\n",
       "      <th>2</th>\n",
       "      <td>CONTEMPT/contempt (1751).jpg</td>\n",
       "      <td>1</td>\n",
       "    </tr>\n",
       "    <tr>\n",
       "      <th>3</th>\n",
       "      <td>Sedigh_Barmak_0001.jpg</td>\n",
       "      <td>4</td>\n",
       "    </tr>\n",
       "    <tr>\n",
       "      <th>4</th>\n",
       "      <td>HAPPINESS/happiness (8451).png</td>\n",
       "      <td>4</td>\n",
       "    </tr>\n",
       "    <tr>\n",
       "      <th>...</th>\n",
       "      <td>...</td>\n",
       "      <td>...</td>\n",
       "    </tr>\n",
       "    <tr>\n",
       "      <th>14301</th>\n",
       "      <td>HAPPINESS/happiness (7909).png</td>\n",
       "      <td>4</td>\n",
       "    </tr>\n",
       "    <tr>\n",
       "      <th>14302</th>\n",
       "      <td>CONTEMPT/contempt (1628).jpg</td>\n",
       "      <td>1</td>\n",
       "    </tr>\n",
       "    <tr>\n",
       "      <th>14303</th>\n",
       "      <td>CONTEMPT/contempt (1847).jpg</td>\n",
       "      <td>1</td>\n",
       "    </tr>\n",
       "    <tr>\n",
       "      <th>14304</th>\n",
       "      <td>SADNESS/sadness (4741).jpg</td>\n",
       "      <td>6</td>\n",
       "    </tr>\n",
       "    <tr>\n",
       "      <th>14305</th>\n",
       "      <td>CONTEMPT/contempt (2325).jpg</td>\n",
       "      <td>1</td>\n",
       "    </tr>\n",
       "  </tbody>\n",
       "</table>\n",
       "<p>14306 rows × 2 columns</p>\n",
       "</div>"
      ],
      "text/plain": [
       "                                image  emotion\n",
       "0        SURPRISE/surprise (5512).jpg        7\n",
       "1              Rachel_Hunter_0002.jpg        4\n",
       "2        CONTEMPT/contempt (1751).jpg        1\n",
       "3              Sedigh_Barmak_0001.jpg        4\n",
       "4      HAPPINESS/happiness (8451).png        4\n",
       "...                               ...      ...\n",
       "14301  HAPPINESS/happiness (7909).png        4\n",
       "14302    CONTEMPT/contempt (1628).jpg        1\n",
       "14303    CONTEMPT/contempt (1847).jpg        1\n",
       "14304      SADNESS/sadness (4741).jpg        6\n",
       "14305    CONTEMPT/contempt (2325).jpg        1\n",
       "\n",
       "[14306 rows x 2 columns]"
      ]
     },
     "execution_count": 24,
     "metadata": {},
     "output_type": "execute_result"
    }
   ],
   "source": [
    "df"
   ]
  },
  {
   "cell_type": "code",
   "execution_count": 25,
   "metadata": {},
   "outputs": [
    {
     "name": "stdout",
     "output_type": "stream",
     "text": [
      "         image\n",
      "emotion       \n",
      "0          107\n",
      "1          121\n",
      "2           96\n",
      "3          122\n",
      "4          393\n",
      "5          383\n",
      "6           90\n",
      "7          119\n"
     ]
    }
   ],
   "source": [
    "# split val data\n",
    "df = create_state(df, 0.1, \"val\")"
   ]
  },
  {
   "cell_type": "code",
   "execution_count": 26,
   "metadata": {},
   "outputs": [],
   "source": [
    "df.to_csv(cwd + \"/state/train.csv\", index=False)"
   ]
  }
 ],
 "metadata": {
  "interpreter": {
   "hash": "186c8c6637da87bf1b48281a4203551e6bea7fd5e6b5755ebb6ce2cf054369ca"
  },
  "kernelspec": {
   "display_name": "Python 3.9.7 ('base')",
   "language": "python",
   "name": "python3"
  },
  "language_info": {
   "codemirror_mode": {
    "name": "ipython",
    "version": 3
   },
   "file_extension": ".py",
   "mimetype": "text/x-python",
   "name": "python",
   "nbconvert_exporter": "python",
   "pygments_lexer": "ipython3",
   "version": "3.9.7"
  },
  "orig_nbformat": 4
 },
 "nbformat": 4,
 "nbformat_minor": 2
}
