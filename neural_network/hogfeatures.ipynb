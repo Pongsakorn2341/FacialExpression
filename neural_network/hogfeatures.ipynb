{
 "cells": [
  {
   "cell_type": "code",
   "execution_count": 31,
   "metadata": {},
   "outputs": [],
   "source": [
    "from skimage.metrics import structural_similarity as ssim\n",
    "import matplotlib.pyplot as plt\n",
    "import numpy as np\n",
    "import cv2\n",
    "import os\n",
    "import pandas as pd\n",
    "import shutil\n",
    "import cv2, glob, random, math, numpy as np, dlib, itertools\n",
    "import matplotlib.pyplot as plt\n",
    "from skimage.feature import hog\n",
    "from sklearn import datasets\n",
    "from sklearn.neural_network import MLPClassifier\n",
    "from sklearn.model_selection import train_test_split"
   ]
  },
  {
   "cell_type": "code",
   "execution_count": 32,
   "metadata": {},
   "outputs": [],
   "source": [
    "cwd = os.getcwd()\n",
    "df = pd.read_csv(cwd + \"/../data_csv/feature_data.csv\")"
   ]
  },
  {
   "cell_type": "code",
   "execution_count": 33,
   "metadata": {},
   "outputs": [],
   "source": [
    "def create_state(df, split_fraction, file_name):\n",
    "    # arrange data\n",
    "    X = list(df['image'][i] for i in range(len(df)))\n",
    "    y = list(df['emotion'][i] for i in range(len(df)))\n",
    "\n",
    "    # train test split\n",
    "    X_train, X_test, y_train, y_test = train_test_split(X, y, test_size=split_fraction)\n",
    "\n",
    "    # prepare data to export\n",
    "    new_df = pd.DataFrame(columns=['image', 'emotion'])\n",
    "    new_df['image'] = X_test\n",
    "    new_df['emotion'] = y_test\n",
    "\n",
    "    # add split data to new csv file\n",
    "    new_df.to_csv(cwd + '/state_hog/' + file_name + '.csv', index=False)\n",
    "\n",
    "    print(new_df.groupby('emotion').count())\n",
    "\n",
    "    # drop split data from all data\n",
    "    data = {\n",
    "        'image': X_train,\n",
    "        'emotion': y_train\n",
    "    }\n",
    "    df = pd.DataFrame(data)\n",
    "\n",
    "    return df"
   ]
  },
  {
   "cell_type": "code",
   "execution_count": 34,
   "metadata": {},
   "outputs": [],
   "source": [
    "dir_img = cwd + '/state_hog'\n",
    "if os.path.exists(dir_img):\n",
    "    shutil.rmtree(dir_img)\n",
    "os.makedirs(dir_img)"
   ]
  },
  {
   "cell_type": "code",
   "execution_count": 35,
   "metadata": {},
   "outputs": [
    {
     "name": "stdout",
     "output_type": "stream",
     "text": [
      "         image\n",
      "emotion       \n",
      "0           92\n",
      "1          136\n",
      "2           97\n",
      "3          132\n",
      "4          521\n",
      "5          524\n",
      "6          120\n",
      "7           79\n"
     ]
    }
   ],
   "source": [
    "# split test data\n",
    "df = create_state(df, 0.1, \"test\")"
   ]
  },
  {
   "cell_type": "code",
   "execution_count": 36,
   "metadata": {},
   "outputs": [
    {
     "name": "stdout",
     "output_type": "stream",
     "text": [
      "         image\n",
      "emotion       \n",
      "0           96\n",
      "1          130\n",
      "2           92\n",
      "3          126\n",
      "4          450\n",
      "5          447\n",
      "6          115\n",
      "7           74\n"
     ]
    }
   ],
   "source": [
    "# split val data\n",
    "df = create_state(df, 0.1, \"val\")"
   ]
  },
  {
   "cell_type": "code",
   "execution_count": 37,
   "metadata": {},
   "outputs": [
    {
     "data": {
      "text/html": [
       "<div>\n",
       "<style scoped>\n",
       "    .dataframe tbody tr th:only-of-type {\n",
       "        vertical-align: middle;\n",
       "    }\n",
       "\n",
       "    .dataframe tbody tr th {\n",
       "        vertical-align: top;\n",
       "    }\n",
       "\n",
       "    .dataframe thead th {\n",
       "        text-align: right;\n",
       "    }\n",
       "</style>\n",
       "<table border=\"1\" class=\"dataframe\">\n",
       "  <thead>\n",
       "    <tr style=\"text-align: right;\">\n",
       "      <th></th>\n",
       "      <th>image</th>\n",
       "      <th>emotion</th>\n",
       "    </tr>\n",
       "  </thead>\n",
       "  <tbody>\n",
       "    <tr>\n",
       "      <th>0</th>\n",
       "      <td>SADNESS/sadness (5231).jpg</td>\n",
       "      <td>6</td>\n",
       "    </tr>\n",
       "    <tr>\n",
       "      <th>1</th>\n",
       "      <td>Jules_Asner_0001.jpg</td>\n",
       "      <td>4</td>\n",
       "    </tr>\n",
       "    <tr>\n",
       "      <th>2</th>\n",
       "      <td>SADNESS/sadness (1003).png</td>\n",
       "      <td>6</td>\n",
       "    </tr>\n",
       "    <tr>\n",
       "      <th>3</th>\n",
       "      <td>NEUTRAL/neutral (672).png</td>\n",
       "      <td>5</td>\n",
       "    </tr>\n",
       "    <tr>\n",
       "      <th>4</th>\n",
       "      <td>ANGER/anger (1396).png</td>\n",
       "      <td>0</td>\n",
       "    </tr>\n",
       "    <tr>\n",
       "      <th>...</th>\n",
       "      <td>...</td>\n",
       "      <td>...</td>\n",
       "    </tr>\n",
       "    <tr>\n",
       "      <th>13765</th>\n",
       "      <td>HAPPINESS/happiness (8893).png</td>\n",
       "      <td>4</td>\n",
       "    </tr>\n",
       "    <tr>\n",
       "      <th>13766</th>\n",
       "      <td>Kristen_Breitweiser_0002.jpg</td>\n",
       "      <td>7</td>\n",
       "    </tr>\n",
       "    <tr>\n",
       "      <th>13767</th>\n",
       "      <td>Craig_Doblin_0001.jpg</td>\n",
       "      <td>4</td>\n",
       "    </tr>\n",
       "    <tr>\n",
       "      <th>13768</th>\n",
       "      <td>SURPRISE/surprise (2108).jpg</td>\n",
       "      <td>7</td>\n",
       "    </tr>\n",
       "    <tr>\n",
       "      <th>13769</th>\n",
       "      <td>Edwin_Edwards_0003.jpg</td>\n",
       "      <td>5</td>\n",
       "    </tr>\n",
       "  </tbody>\n",
       "</table>\n",
       "<p>13770 rows × 2 columns</p>\n",
       "</div>"
      ],
      "text/plain": [
       "                                image  emotion\n",
       "0          SADNESS/sadness (5231).jpg        6\n",
       "1                Jules_Asner_0001.jpg        4\n",
       "2          SADNESS/sadness (1003).png        6\n",
       "3           NEUTRAL/neutral (672).png        5\n",
       "4              ANGER/anger (1396).png        0\n",
       "...                               ...      ...\n",
       "13765  HAPPINESS/happiness (8893).png        4\n",
       "13766    Kristen_Breitweiser_0002.jpg        7\n",
       "13767           Craig_Doblin_0001.jpg        4\n",
       "13768    SURPRISE/surprise (2108).jpg        7\n",
       "13769          Edwin_Edwards_0003.jpg        5\n",
       "\n",
       "[13770 rows x 2 columns]"
      ]
     },
     "execution_count": 37,
     "metadata": {},
     "output_type": "execute_result"
    }
   ],
   "source": [
    "df"
   ]
  },
  {
   "cell_type": "code",
   "execution_count": 38,
   "metadata": {},
   "outputs": [],
   "source": [
    "df.to_csv(cwd + \"/state_hog/train.csv\", index=False)"
   ]
  }
 ],
 "metadata": {
  "interpreter": {
   "hash": "4d02cdae7faed44485a20a1dfe89a6c1f0576f684e5ae49a964539fc51d957e1"
  },
  "kernelspec": {
   "display_name": "Python 3.8.2 64-bit",
   "language": "python",
   "name": "python3"
  },
  "language_info": {
   "codemirror_mode": {
    "name": "ipython",
    "version": 3
   },
   "file_extension": ".py",
   "mimetype": "text/x-python",
   "name": "python",
   "nbconvert_exporter": "python",
   "pygments_lexer": "ipython3",
   "version": "3.8.5"
  },
  "orig_nbformat": 4
 },
 "nbformat": 4,
 "nbformat_minor": 2
}
