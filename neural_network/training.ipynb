{
 "cells": [
  {
   "cell_type": "code",
   "execution_count": 26,
   "metadata": {},
   "outputs": [],
   "source": [
    "import os\n",
    "import pandas as pd\n",
    "import numpy as np\n",
    "from sklearn.utils import class_weight\n",
    "import tensorflow as tf\n",
    "#import tensorflow_addons as tfa"
   ]
  },
  {
   "cell_type": "code",
   "execution_count": 27,
   "metadata": {},
   "outputs": [],
   "source": [
    "img_size = (256, 256)\n",
    "\n",
    "# train data\n",
    "cwd = os.getcwd()\n",
    "df = pd.read_csv(cwd + '/state/train.csv')\n",
    "X = list(df['image'][i] for i in range(len(df)))\n",
    "y = list(df['emotion'][i] for i in range(len(df)))"
   ]
  },
  {
   "cell_type": "code",
   "execution_count": 28,
   "metadata": {},
   "outputs": [
    {
     "name": "stdout",
     "output_type": "stream",
     "text": [
      "{0: 1.7286519871106338, 1: 1.3355809128630705, 2: 1.941344993968637, 3: 1.5902915019762847, 4: 0.4737636149543715, 5: 0.47926593210244195, 6: 1.5474759615384615, 7: 1.4590888485947415}\n"
     ]
    }
   ],
   "source": [
    "weight = dict(enumerate(class_weight.compute_class_weight(class_weight='balanced', classes=np.unique(y), y=y)))\n",
    "print(weight)"
   ]
  },
  {
   "cell_type": "code",
   "execution_count": 29,
   "metadata": {},
   "outputs": [
    {
     "ename": "AttributeError",
     "evalue": "module 'keras.api._v2.keras.applications' has no attribute 'efficientnet_v2'",
     "output_type": "error",
     "traceback": [
      "\u001b[1;31m---------------------------------------------------------------------------\u001b[0m",
      "\u001b[1;31mAttributeError\u001b[0m                            Traceback (most recent call last)",
      "\u001b[1;32m~\\AppData\\Local\\Temp/ipykernel_14256/1760649785.py\u001b[0m in \u001b[0;36m<module>\u001b[1;34m\u001b[0m\n\u001b[0;32m      5\u001b[0m         ),\n\u001b[0;32m      6\u001b[0m \u001b[1;33m\u001b[0m\u001b[0m\n\u001b[1;32m----> 7\u001b[1;33m         tf.keras.applications.efficientnet_v2.EfficientNetV2B0(\n\u001b[0m\u001b[0;32m      8\u001b[0m             \u001b[0minclude_top\u001b[0m\u001b[1;33m=\u001b[0m\u001b[1;32mFalse\u001b[0m\u001b[1;33m,\u001b[0m \u001b[0mweights\u001b[0m\u001b[1;33m=\u001b[0m\u001b[1;34m'imagenet'\u001b[0m\u001b[1;33m,\u001b[0m \u001b[0minput_tensor\u001b[0m\u001b[1;33m=\u001b[0m\u001b[1;32mNone\u001b[0m\u001b[1;33m,\u001b[0m\u001b[1;33m\u001b[0m\u001b[1;33m\u001b[0m\u001b[0m\n\u001b[0;32m      9\u001b[0m             \u001b[0minput_shape\u001b[0m\u001b[1;33m=\u001b[0m\u001b[1;33m(\u001b[0m\u001b[0mimg_size\u001b[0m\u001b[1;33m[\u001b[0m\u001b[1;36m0\u001b[0m\u001b[1;33m]\u001b[0m\u001b[1;33m,\u001b[0m \u001b[0mimg_size\u001b[0m\u001b[1;33m[\u001b[0m\u001b[1;36m1\u001b[0m\u001b[1;33m]\u001b[0m\u001b[1;33m,\u001b[0m \u001b[1;36m3\u001b[0m\u001b[1;33m)\u001b[0m\u001b[1;33m,\u001b[0m \u001b[0minclude_preprocessing\u001b[0m\u001b[1;33m=\u001b[0m\u001b[1;32mTrue\u001b[0m\u001b[1;33m\u001b[0m\u001b[1;33m\u001b[0m\u001b[0m\n",
      "\u001b[1;31mAttributeError\u001b[0m: module 'keras.api._v2.keras.applications' has no attribute 'efficientnet_v2'"
     ]
    }
   ],
   "source": [
    "model = tf.keras.Sequential([\n",
    "        tf.keras.layers.InputLayer(input_shape=(img_size[0], img_size[1], 3)),\n",
    "        tf.keras.layers.experimental.preprocessing.RandomRotation(\n",
    "            0.05, fill_mode='nearest'\n",
    "        ),\n",
    "\n",
    "        tf.keras.applications.efficientnet_v2.EfficientNetV2B0(\n",
    "            include_top=False, weights='imagenet', input_tensor=None,\n",
    "            input_shape=(img_size[0], img_size[1], 3), include_preprocessing=True\n",
    "        ),\n",
    "\n",
    "        # tf.keras.layers.GlobalAveragePooling2D(),\n",
    "        # tf.keras.layers.BatchNormalization(),\n",
    "        # tf.keras.layers.Dropout(0.3),\n",
    "        tf.keras.layers.Flatten(),\n",
    "\n",
    "        tf.keras.layers.Dense(512, activation='relu'),\n",
    "        # tf.keras.layers.BatchNormalization(),\n",
    "        # tf.keras.layers.Dropout(0.5),\n",
    "\n",
    "        tf.keras.layers.Dense(256, activation='relu'),\n",
    "        # tf.keras.layers.BatchNormalization(),\n",
    "        # tf.keras.layers.Dropout(0.5),\n",
    "\n",
    "        tf.keras.layers.Dense(128, activation='relu'),\n",
    "        # tf.keras.layers.BatchNormalization(),\n",
    "        tf.keras.layers.Dropout(0.5),\n",
    "\n",
    "        tf.keras.layers.Dense(7, activation='softmax')\n",
    "    ])\n",
    "\n",
    "model.compile(optimizer=tf.keras.optimizers.Adam(amsgrad=True), \\\n",
    "                  loss=tf.keras.losses.SparseCategoricalCrossentropy( from_logits=True), \\\n",
    "                  metrics=['accuracy']) "
   ]
  }
 ],
 "metadata": {
  "language_info": {
   "name": "python"
  },
  "orig_nbformat": 4
 },
 "nbformat": 4,
 "nbformat_minor": 2
}
