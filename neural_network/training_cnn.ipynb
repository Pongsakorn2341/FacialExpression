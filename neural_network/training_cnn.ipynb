{
 "cells": [
  {
   "cell_type": "code",
   "execution_count": 53,
   "metadata": {},
   "outputs": [],
   "source": [
    "import os\n",
    "import pandas as pd\n",
    "import numpy as np\n",
    "from sklearn.utils import class_weight\n",
    "import tensorflow as tf\n",
    "from tensorflow.keras import layers \n",
    "from tensorflow.keras.applications import EfficientNetV2B0\n",
    "from keras import regularizers"
   ]
  },
  {
   "cell_type": "code",
   "execution_count": 54,
   "metadata": {},
   "outputs": [],
   "source": [
    "img_size = (224, 224)\n",
    "\n",
    "# train data\n",
    "cwd = os.getcwd()\n",
    "epochs = 50\n",
    "df = pd.read_csv(cwd + '/augmentation_data.csv')\n",
    "X = list(df['image'][i] for i in range(len(df)))\n",
    "y = list(df['emotion'][i] for i in range(len(df)))"
   ]
  },
  {
   "cell_type": "code",
   "execution_count": 55,
   "metadata": {},
   "outputs": [
    {
     "name": "stdout",
     "output_type": "stream",
     "text": [
      "{0: 0.970107056694813, 1: 1.0951685201997277, 2: 0.995731015270326, 3: 0.964869526094781, 4: 0.96496600339966, 5: 0.96496600339966, 6: 0.96496600339966, 7: 1.1031807270233196}\n"
     ]
    }
   ],
   "source": [
    "weight = dict(enumerate(class_weight.compute_class_weight(class_weight='balanced', classes=np.unique(y), y=y)))\n",
    "print(weight)"
   ]
  },
  {
   "cell_type": "code",
   "execution_count": 56,
   "metadata": {},
   "outputs": [],
   "source": [
    "def create_model():\n",
    "    model = tf.keras.Sequential([\n",
    "        layers.InputLayer(input_shape=(img_size[0], img_size[1], 3)),\n",
    "        layers.experimental.preprocessing.RandomRotation(\n",
    "            0.05, fill_mode='nearest'\n",
    "        ),\n",
    "\n",
    "        EfficientNetV2B0(\n",
    "            include_top=False, weights='imagenet', input_tensor=None,\n",
    "            input_shape=(img_size[0], img_size[1], 3), include_preprocessing=True\n",
    "        ),\n",
    "\n",
    "        tf.keras.layers.GlobalMaxPooling2D(),\n",
    "        tf.keras.layers.Flatten(),\n",
    "\n",
    "\n",
    "        tf.keras.layers.Dense(512, activation='relu', kernel_regularizer=regularizers.l2(l=0.01)),\n",
    "        tf.keras.layers.BatchNormalization(),\n",
    "        tf.keras.layers.Dropout(0.5),\n",
    "\n",
    "        tf.keras.layers.Dense(256, activation='relu', kernel_regularizer=regularizers.l2(l=0.01)),\n",
    "        tf.keras.layers.BatchNormalization(),\n",
    "        tf.keras.layers.Dropout(0.5),\n",
    "\n",
    "        tf.keras.layers.Dense(128, activation='relu', kernel_regularizer=regularizers.l2(l=0.01)),\n",
    "        tf.keras.layers.BatchNormalization(),\n",
    "        tf.keras.layers.Dropout(0.5),\n",
    "\n",
    "        tf.keras.layers.Dense(8, activation='softmax')\n",
    "    ])\n",
    "\n",
    "    model.compile(optimizer=tf.keras.optimizers.Adam(amsgrad=True),  # tf.keras.optimizers.Adam(amsgrad=True),  # tf.keras.optimizers.SGD(nesterov=True), # tfa.optimizers.RectifiedAdam(),\n",
    "                  loss=tf.keras.losses.SparseCategoricalCrossentropy(\n",
    "                      from_logits=True),\n",
    "                  metrics=['accuracy'])\n",
    "\n",
    "    return model"
   ]
  },
  {
   "cell_type": "code",
   "execution_count": 57,
   "metadata": {},
   "outputs": [],
   "source": [
    "# es_callback = tf.keras.callbacks.EarlyStopping(\n",
    "#     monitor='val_accuracy', patience=epochs*0.05, restore_best_weights=True)\n",
    "# cp_callback = tf.keras.callbacks.ModelCheckpoint(\n",
    "#     filepath=\"model/cp-{epoch:04d}.ckpt\",\n",
    "#     verbose=0,\n",
    "#     save_weights_only=True,\n",
    "#     monitor='val_accuracy',\n",
    "#     save_best_only=True)\n",
    "# tb_callback = tf.keras.callbacks.TensorBoard(\n",
    "#     log_dir=\"./logs\",\n",
    "#             update_freq=\"epoch\")"
   ]
  },
  {
   "cell_type": "code",
   "execution_count": 58,
   "metadata": {},
   "outputs": [
    {
     "name": "stdout",
     "output_type": "stream",
     "text": [
      "Model: \"sequential_4\"\n",
      "_________________________________________________________________\n",
      " Layer (type)                Output Shape              Param #   \n",
      "=================================================================\n",
      " random_rotation_5 (RandomRo  (None, 224, 224, 3)      0         \n",
      " tation)                                                         \n",
      "                                                                 \n",
      " efficientnetv2-b0 (Function  (None, 7, 7, 1280)       5919312   \n",
      " al)                                                             \n",
      "                                                                 \n",
      " global_max_pooling2d_2 (Glo  (None, 1280)             0         \n",
      " balMaxPooling2D)                                                \n",
      "                                                                 \n",
      " flatten_4 (Flatten)         (None, 1280)              0         \n",
      "                                                                 \n",
      " dense_16 (Dense)            (None, 512)               655872    \n",
      "                                                                 \n",
      " batch_normalization_14 (Bat  (None, 512)              2048      \n",
      " chNormalization)                                                \n",
      "                                                                 \n",
      " dropout_14 (Dropout)        (None, 512)               0         \n",
      "                                                                 \n",
      " dense_17 (Dense)            (None, 256)               131328    \n",
      "                                                                 \n",
      " batch_normalization_15 (Bat  (None, 256)              1024      \n",
      " chNormalization)                                                \n",
      "                                                                 \n",
      " dropout_15 (Dropout)        (None, 256)               0         \n",
      "                                                                 \n",
      " dense_18 (Dense)            (None, 128)               32896     \n",
      "                                                                 \n",
      " batch_normalization_16 (Bat  (None, 128)              512       \n",
      " chNormalization)                                                \n",
      "                                                                 \n",
      " dropout_16 (Dropout)        (None, 128)               0         \n",
      "                                                                 \n",
      " dense_19 (Dense)            (None, 8)                 1032      \n",
      "                                                                 \n",
      "=================================================================\n",
      "Total params: 6,744,024\n",
      "Trainable params: 6,681,624\n",
      "Non-trainable params: 62,400\n",
      "_________________________________________________________________\n",
      "None\n"
     ]
    }
   ],
   "source": [
    "model = create_model()\n",
    "print(model.summary())\n"
   ]
  },
  {
   "cell_type": "code",
   "execution_count": 59,
   "metadata": {},
   "outputs": [],
   "source": [
    "from tensorflow.keras.optimizers import RMSprop,SGD,Adam\n",
    "# adam=Adam(lr=0.001)\n",
    "# model.compile(optimizer='adam', loss='categorical_crossentropy', metrics = ['acc'])\n"
   ]
  },
  {
   "cell_type": "code",
   "execution_count": 60,
   "metadata": {},
   "outputs": [],
   "source": [
    "import os, cv2, shutil\n",
    "df_train = pd.read_csv(cwd + \"\\\\state\\\\train.csv\")\n",
    "df_val = pd.read_csv(cwd + \"\\\\state\\\\val.csv\")\n",
    "output_train_dir = cwd + \"\\\\train\"\n",
    "root_image_dir = cwd + \"\\\\..\\\\cleaned_images\\\\\"\n",
    "dictionary = ['ANGER', 'CONTEMPT', 'DISGUST', 'FEAR', 'HAPPINESS',  'NEUTRAL', 'SADNESS', 'SURPRISE']\n",
    "dir_test = cwd + \"\\\\test\\\\\"\n",
    "dir_train = cwd + \"\\\\train\\\\\"\n",
    "if(os.path.exists(dir_train) or os.path.exists(dir_test)):\n",
    "    shutil.rmtree(dir_train)\n",
    "    shutil.rmtree(dir_test)\n",
    "for emotion in dictionary:\n",
    "    os.makedirs(dir_test + \"\\\\\" + emotion)\n",
    "    os.makedirs(dir_train + \"\\\\\" + emotion)\n",
    "\n",
    "def isInDir(image_dir):\n",
    "    return len(image_dir.split(\"/\")) >= 2\n",
    "for index, row in df_val.iterrows():\n",
    "    if(isInDir(row['image']) == False): \n",
    "        output_test_dir = dir_test + dictionary[row['emotion']] + \"\\\\\" + row['image']\n",
    "    else:\n",
    "        output_test_dir = dir_test + row['image']\n",
    "    image = cv2.imread(root_image_dir + row['image'])\n",
    "    cv2.imwrite(output_test_dir, image)\n",
    "for index, row in df_train.iterrows():\n",
    "    if(isInDir(row['image']) == False):\n",
    "        output_train_dir = dir_train + dictionary[row['emotion']] + \"\\\\\" + row['image']\n",
    "    else:\n",
    "        output_train_dir = dir_train + row['image']\n",
    "    image = cv2.imread(root_image_dir + row['image'])\n",
    "    cv2.imwrite(output_train_dir, image)\n"
   ]
  },
  {
   "cell_type": "code",
   "execution_count": 61,
   "metadata": {},
   "outputs": [
    {
     "name": "stdout",
     "output_type": "stream",
     "text": [
      "Found 26974 images belonging to 8 classes.\n",
      "Found 3331 images belonging to 8 classes.\n",
      "Found 26974 files belonging to 8 classes.\n",
      "Found 3331 files belonging to 8 classes.\n"
     ]
    }
   ],
   "source": [
    "bs = 150\n",
    "train_dir = cwd + \"\\\\train\"\n",
    "test_dir = cwd + \"\\\\test\"\n",
    "from tensorflow.keras.preprocessing.image import ImageDataGenerator \n",
    "train_datagen = ImageDataGenerator( rescale = 1.0/255. )\n",
    "test_datagen  = ImageDataGenerator( rescale = 1.0/255. )\n",
    "train_generator=train_datagen.flow_from_directory(train_dir,batch_size=bs,class_mode='categorical',target_size=(img_size[0],img_size[1]))\n",
    "validation_generator =  test_datagen.flow_from_directory(test_dir,\n",
    "                                                         batch_size=bs,\n",
    "                                                         class_mode  = 'categorical',\n",
    "                                                         target_size=(img_size[0],img_size[1]))\n",
    "dictionary = ['ANGER', 'CONTEMPT', 'DISGUST', 'FEAR', 'HAPPINESS',  'NEUTRAL', 'SADNESS', 'SURPRISE']\n",
    "train_ds = tf.keras.preprocessing.image_dataset_from_directory(\n",
    "    train_dir,\n",
    "    shuffle=True,\n",
    "    labels='inferred',\n",
    "    label_mode='int',\n",
    "    image_size=img_size,\n",
    "    class_names=dictionary,\n",
    "    color_mode='rgb',\n",
    "    batch_size=bs)\n",
    "val_ds = tf.keras.preprocessing.image_dataset_from_directory(\n",
    "    test_dir,\n",
    "    labels='inferred',\n",
    "    label_mode='int',\n",
    "    image_size=img_size,\n",
    "    class_names=dictionary,\n",
    "    color_mode='rgb',\n",
    "    batch_size=bs)\n",
    "\n",
    "filenames = validation_generator.filenames\n",
    "nb_samples = len(filenames)"
   ]
  },
  {
   "cell_type": "code",
   "execution_count": 62,
   "metadata": {},
   "outputs": [
    {
     "data": {
      "text/plain": [
       "'\\nes_callback = tf.keras.callbacks.EarlyStopping(\\n    monitor=\\'val_accuracy\\', patience=epochs*0.1, restore_best_weights=True)\\ncp_callback = tf.keras.callbacks.ModelCheckpoint(\\n    filepath=\"model/cp-{epoch:04d}.ckpt\",\\n    verbose=0,\\n    save_weights_only=True,\\n    monitor=\\'val_accuracy\\',\\n    save_best_only=True)\\ntb_callback = tf.keras.callbacks.TensorBoard(\\n    log_dir=\"./logs\",\\n            update_freq=\"epoch\")\\n'"
      ]
     },
     "execution_count": 62,
     "metadata": {},
     "output_type": "execute_result"
    }
   ],
   "source": [
    "'''\n",
    "es_callback = tf.keras.callbacks.EarlyStopping(\n",
    "    monitor='val_accuracy', patience=epochs*0.1, restore_best_weights=True)\n",
    "cp_callback = tf.keras.callbacks.ModelCheckpoint(\n",
    "    filepath=\"model/cp-{epoch:04d}.ckpt\",\n",
    "    verbose=0,\n",
    "    save_weights_only=True,\n",
    "    monitor='val_accuracy',\n",
    "    save_best_only=True)\n",
    "tb_callback = tf.keras.callbacks.TensorBoard(\n",
    "    log_dir=\"./logs\",\n",
    "            update_freq=\"epoch\")\n",
    "'''"
   ]
  },
  {
   "cell_type": "code",
   "execution_count": 63,
   "metadata": {},
   "outputs": [
    {
     "name": "stdout",
     "output_type": "stream",
     "text": [
      "Epoch 1/50\n"
     ]
    },
    {
     "name": "stderr",
     "output_type": "stream",
     "text": [
      "c:\\Users\\thanapat\\AppData\\Local\\Programs\\Python\\Python38\\lib\\site-packages\\tensorflow\\python\\util\\dispatch.py:1082: UserWarning: \"`sparse_categorical_crossentropy` received `from_logits=True`, but the `output` argument was produced by a sigmoid or softmax activation and thus does not represent logits. Was this intended?\"\n",
      "  return dispatch_target(*args, **kwargs)\n"
     ]
    },
    {
     "name": "stdout",
     "output_type": "stream",
     "text": [
      "180/180 [==============================] - 2480s 14s/step - loss: 9.9708 - accuracy: 0.4358 - val_loss: 5.5608 - val_accuracy: 0.6220\n",
      "Epoch 2/50\n",
      "180/180 [==============================] - 2429s 13s/step - loss: 3.6295 - accuracy: 0.6445 - val_loss: 2.3320 - val_accuracy: 0.6587\n",
      "Epoch 3/50\n",
      "180/180 [==============================] - 2444s 14s/step - loss: 1.6980 - accuracy: 0.7043 - val_loss: 1.3556 - val_accuracy: 0.7040\n",
      "Epoch 4/50\n",
      "180/180 [==============================] - 2482s 14s/step - loss: 1.1204 - accuracy: 0.7381 - val_loss: 1.0628 - val_accuracy: 0.7292\n",
      "Epoch 5/50\n",
      "180/180 [==============================] - 2447s 14s/step - loss: 0.9095 - accuracy: 0.7637 - val_loss: 1.1275 - val_accuracy: 0.6905\n",
      "Epoch 6/50\n",
      "180/180 [==============================] - 2472s 14s/step - loss: 0.8092 - accuracy: 0.7872 - val_loss: 1.0901 - val_accuracy: 0.7016\n",
      "Epoch 7/50\n",
      "180/180 [==============================] - 2475s 14s/step - loss: 0.7359 - accuracy: 0.8056 - val_loss: 1.0698 - val_accuracy: 0.6929\n",
      "Epoch 8/50\n",
      "180/180 [==============================] - 2464s 14s/step - loss: 0.6868 - accuracy: 0.8208 - val_loss: 1.1551 - val_accuracy: 0.6908\n",
      "Epoch 9/50\n",
      "180/180 [==============================] - 2474s 14s/step - loss: 0.6358 - accuracy: 0.8367 - val_loss: 1.0364 - val_accuracy: 0.7124\n",
      "Epoch 10/50\n",
      "180/180 [==============================] - 2554s 14s/step - loss: 0.6028 - accuracy: 0.8484 - val_loss: 1.1000 - val_accuracy: 0.7103\n",
      "Epoch 11/50\n",
      "180/180 [==============================] - 2643s 15s/step - loss: 0.5824 - accuracy: 0.8579 - val_loss: 1.0838 - val_accuracy: 0.7172\n",
      "Epoch 12/50\n",
      "180/180 [==============================] - 2634s 15s/step - loss: 0.5260 - accuracy: 0.8733 - val_loss: 1.2521 - val_accuracy: 0.6812\n",
      "Epoch 13/50\n",
      "180/180 [==============================] - 2845s 16s/step - loss: 0.4956 - accuracy: 0.8840 - val_loss: 1.1280 - val_accuracy: 0.7151\n",
      "Epoch 14/50\n",
      "180/180 [==============================] - 2602s 14s/step - loss: 0.4705 - accuracy: 0.8899 - val_loss: 1.0974 - val_accuracy: 0.7217\n",
      "Epoch 15/50\n",
      "180/180 [==============================] - 2545s 14s/step - loss: 0.4630 - accuracy: 0.8945 - val_loss: 1.2199 - val_accuracy: 0.7010\n",
      "Epoch 16/50\n",
      "180/180 [==============================] - 2565s 14s/step - loss: 0.4176 - accuracy: 0.9079 - val_loss: 1.2698 - val_accuracy: 0.7019\n",
      "Epoch 17/50\n",
      "180/180 [==============================] - 2543s 14s/step - loss: 0.4132 - accuracy: 0.9106 - val_loss: 1.2147 - val_accuracy: 0.7268\n",
      "Epoch 18/50\n",
      "180/180 [==============================] - 2602s 14s/step - loss: 0.3867 - accuracy: 0.9164 - val_loss: 1.2303 - val_accuracy: 0.7181\n",
      "Epoch 19/50\n",
      "180/180 [==============================] - 2549s 14s/step - loss: 0.3760 - accuracy: 0.9205 - val_loss: 1.2186 - val_accuracy: 0.7331\n",
      "Epoch 20/50\n",
      "180/180 [==============================] - 2578s 14s/step - loss: 0.3394 - accuracy: 0.9317 - val_loss: 1.3591 - val_accuracy: 0.6965\n",
      "Epoch 21/50\n",
      "180/180 [==============================] - 2585s 14s/step - loss: 0.3262 - accuracy: 0.9348 - val_loss: 1.3277 - val_accuracy: 0.7196\n",
      "Epoch 22/50\n",
      "180/180 [==============================] - 2565s 14s/step - loss: 0.3280 - accuracy: 0.9350 - val_loss: 1.4142 - val_accuracy: 0.7178\n",
      "Epoch 23/50\n",
      "180/180 [==============================] - 2581s 14s/step - loss: 0.3198 - accuracy: 0.9382 - val_loss: 1.2859 - val_accuracy: 0.7289\n",
      "Epoch 24/50\n",
      "180/180 [==============================] - 2553s 14s/step - loss: 0.2910 - accuracy: 0.9428 - val_loss: 1.2332 - val_accuracy: 0.7298\n",
      "Epoch 25/50\n",
      "180/180 [==============================] - 2574s 14s/step - loss: 0.2890 - accuracy: 0.9462 - val_loss: 1.4335 - val_accuracy: 0.7097\n",
      "Epoch 26/50\n",
      "180/180 [==============================] - 2568s 14s/step - loss: 0.2834 - accuracy: 0.9459 - val_loss: 1.3621 - val_accuracy: 0.7133\n",
      "Epoch 27/50\n",
      "180/180 [==============================] - 2522s 14s/step - loss: 0.2604 - accuracy: 0.9537 - val_loss: 1.4093 - val_accuracy: 0.7145\n",
      "Epoch 28/50\n",
      "180/180 [==============================] - 2547s 14s/step - loss: 0.2670 - accuracy: 0.9505 - val_loss: 1.2577 - val_accuracy: 0.7325\n",
      "Epoch 29/50\n",
      "180/180 [==============================] - 2580s 14s/step - loss: 0.2468 - accuracy: 0.9546 - val_loss: 1.3525 - val_accuracy: 0.7343\n",
      "Epoch 30/50\n",
      "180/180 [==============================] - 2556s 14s/step - loss: 0.2363 - accuracy: 0.9592 - val_loss: 1.3782 - val_accuracy: 0.7337\n",
      "Epoch 31/50\n",
      "180/180 [==============================] - 2530s 14s/step - loss: 0.2439 - accuracy: 0.9572 - val_loss: 1.5660 - val_accuracy: 0.7154\n",
      "Epoch 32/50\n",
      "180/180 [==============================] - 2540s 14s/step - loss: 0.2304 - accuracy: 0.9601 - val_loss: 1.4632 - val_accuracy: 0.7277\n",
      "Epoch 33/50\n",
      "180/180 [==============================] - 2570s 14s/step - loss: 0.2329 - accuracy: 0.9607 - val_loss: 1.3091 - val_accuracy: 0.7286\n",
      "Epoch 34/50\n",
      "180/180 [==============================] - 2570s 14s/step - loss: 0.2263 - accuracy: 0.9611 - val_loss: 1.4432 - val_accuracy: 0.7217\n",
      "Epoch 35/50\n",
      "180/180 [==============================] - 2574s 14s/step - loss: 0.2223 - accuracy: 0.9632 - val_loss: 1.3040 - val_accuracy: 0.7310\n",
      "Epoch 36/50\n",
      "180/180 [==============================] - 2599s 14s/step - loss: 0.2093 - accuracy: 0.9651 - val_loss: 1.3561 - val_accuracy: 0.7280\n",
      "Epoch 37/50\n",
      "180/180 [==============================] - 2570s 14s/step - loss: 0.2127 - accuracy: 0.9649 - val_loss: 1.4007 - val_accuracy: 0.7397\n",
      "Epoch 38/50\n",
      "180/180 [==============================] - 2602s 14s/step - loss: 0.2028 - accuracy: 0.9672 - val_loss: 1.3402 - val_accuracy: 0.7358\n",
      "Epoch 39/50\n",
      "180/180 [==============================] - 2588s 14s/step - loss: 0.2001 - accuracy: 0.9684 - val_loss: 1.3514 - val_accuracy: 0.7328\n",
      "Epoch 40/50\n",
      "180/180 [==============================] - 2555s 14s/step - loss: 0.1907 - accuracy: 0.9695 - val_loss: 1.4600 - val_accuracy: 0.7292\n",
      "Epoch 41/50\n",
      "180/180 [==============================] - 2571s 14s/step - loss: 0.1810 - accuracy: 0.9721 - val_loss: 1.3560 - val_accuracy: 0.7487\n",
      "Epoch 42/50\n",
      "180/180 [==============================] - 2593s 14s/step - loss: 0.1785 - accuracy: 0.9720 - val_loss: 1.5713 - val_accuracy: 0.7250\n",
      "Epoch 43/50\n",
      "180/180 [==============================] - 2625s 15s/step - loss: 0.1874 - accuracy: 0.9703 - val_loss: 1.4737 - val_accuracy: 0.7343\n",
      "Epoch 44/50\n",
      "180/180 [==============================] - 2570s 14s/step - loss: 0.1844 - accuracy: 0.9719 - val_loss: 1.5396 - val_accuracy: 0.7331\n",
      "Epoch 45/50\n",
      "180/180 [==============================] - 2587s 14s/step - loss: 0.1792 - accuracy: 0.9735 - val_loss: 1.4995 - val_accuracy: 0.7232\n",
      "Epoch 46/50\n",
      "180/180 [==============================] - 2663s 15s/step - loss: 0.1767 - accuracy: 0.9735 - val_loss: 1.3378 - val_accuracy: 0.7358\n",
      "Epoch 47/50\n",
      "180/180 [==============================] - 2862s 16s/step - loss: 0.1675 - accuracy: 0.9751 - val_loss: 1.4449 - val_accuracy: 0.7442\n",
      "Epoch 48/50\n",
      "180/180 [==============================] - 2815s 16s/step - loss: 0.1581 - accuracy: 0.9770 - val_loss: 1.4231 - val_accuracy: 0.7463\n",
      "Epoch 49/50\n",
      "180/180 [==============================] - 2838s 16s/step - loss: 0.1629 - accuracy: 0.9754 - val_loss: 1.6380 - val_accuracy: 0.7325\n",
      "Epoch 50/50\n",
      "180/180 [==============================] - 2663s 15s/step - loss: 0.1585 - accuracy: 0.9782 - val_loss: 1.6194 - val_accuracy: 0.7226\n"
     ]
    }
   ],
   "source": [
    "history = model.fit(train_ds, validation_data=val_ds, shuffle=True, epochs=epochs, #callbacks=[es_callback, cp_callback, tb_callback\n",
    "                                                                                                   #, reduce_lr\n",
    "                                                                                                  #],\n",
    "                                                                                                  class_weight=weight, batch_size=bs)"
   ]
  },
  {
   "cell_type": "code",
   "execution_count": 64,
   "metadata": {},
   "outputs": [
    {
     "data": {
      "image/png": "[encoded data removed]",
      "text/plain": [
       "<Figure size 432x288 with 1 Axes>"
      ]
     },
     "metadata": {
      "needs_background": "light"
     },
     "output_type": "display_data"
    },
    {
     "data": {
      "image/png": "[encoded data removed]",
      "text/plain": [
       "<Figure size 432x288 with 1 Axes>"
      ]
     },
     "metadata": {
      "needs_background": "light"
     },
     "output_type": "display_data"
    }
   ],
   "source": [
    "import matplotlib.pyplot as plt\n",
    "#Plotting the training and validation loss\n",
    "\n",
    "loss = history.history['loss']\n",
    "val_loss = history.history['val_loss']\n",
    "epochs = range(1, len(loss) + 1)\n",
    "plt.plot(epochs, loss, 'y', label='Training loss')\n",
    "plt.plot(epochs, val_loss, 'r', label='Validation loss')\n",
    "plt.title('Training and Validation loss')\n",
    "plt.xlabel('Epochs')\n",
    "plt.ylabel('Loss')\n",
    "plt.legend()\n",
    "plt.show()\n",
    "\n",
    "acc = history.history['accuracy']\n",
    "val_acc = history.history['val_accuracy']\n",
    "epochs = range(1, len(acc) + 1)\n",
    "plt.plot(epochs, acc, 'y', label='Training accuracy')\n",
    "plt.plot(epochs, val_acc, 'r', label='Validation accuracy')\n",
    "plt.title('Training and Validation accuracy')\n",
    "plt.xlabel('Epochs')\n",
    "plt.ylabel('Accuracy')\n",
    "plt.legend()\n",
    "plt.show()"
   ]
  },
  {
   "cell_type": "code",
   "execution_count": 67,
   "metadata": {},
   "outputs": [
    {
     "name": "stdout",
     "output_type": "stream",
     "text": [
      "<BatchDataset element_spec=(TensorSpec(shape=(None, 224, 224, 3), dtype=tf.float32, name=None), TensorSpec(shape=(None,), dtype=tf.int32, name=None))>\n",
      "---------------\n",
      "<BatchDataset element_spec=(TensorSpec(shape=(None, 224, 224, 3), dtype=tf.float32, name=None), TensorSpec(shape=(None,), dtype=tf.int32, name=None))>\n",
      "---------------\n"
     ]
    }
   ],
   "source": [
    "\n",
    "print(train_ds)\n",
    "print('---------------')\n",
    "print(val_ds)\n",
    "print('---------------')\n"
   ]
  },
  {
   "cell_type": "code",
   "execution_count": 68,
   "metadata": {},
   "outputs": [],
   "source": [
    "cwd = os.getcwd()\n",
    "n_df = pd.read_csv(cwd + \"/state/val.csv\")"
   ]
  },
  {
   "cell_type": "code",
   "execution_count": 69,
   "metadata": {},
   "outputs": [
    {
     "data": {
      "text/html": [
       "<div>\n",
       "<style scoped>\n",
       "    .dataframe tbody tr th:only-of-type {\n",
       "        vertical-align: middle;\n",
       "    }\n",
       "\n",
       "    .dataframe tbody tr th {\n",
       "        vertical-align: top;\n",
       "    }\n",
       "\n",
       "    .dataframe thead th {\n",
       "        text-align: right;\n",
       "    }\n",
       "</style>\n",
       "<table border=\"1\" class=\"dataframe\">\n",
       "  <thead>\n",
       "    <tr style=\"text-align: right;\">\n",
       "      <th></th>\n",
       "      <th>image</th>\n",
       "      <th>emotion</th>\n",
       "    </tr>\n",
       "  </thead>\n",
       "  <tbody>\n",
       "    <tr>\n",
       "      <th>0</th>\n",
       "      <td>CONTEMPT/contempt (1914)_4652.jpg</td>\n",
       "      <td>1</td>\n",
       "    </tr>\n",
       "    <tr>\n",
       "      <th>1</th>\n",
       "      <td>NEUTRAL/Sharess_Harrell_0001_4341.jpg</td>\n",
       "      <td>5</td>\n",
       "    </tr>\n",
       "    <tr>\n",
       "      <th>2</th>\n",
       "      <td>SADNESS/sadness (2492)_5998.jpg</td>\n",
       "      <td>6</td>\n",
       "    </tr>\n",
       "    <tr>\n",
       "      <th>3</th>\n",
       "      <td>SURPRISE/Nathan_Lane_0001_2689.jpg</td>\n",
       "      <td>7</td>\n",
       "    </tr>\n",
       "    <tr>\n",
       "      <th>4</th>\n",
       "      <td>HAPPINESS/Andre_Agassi_0015_9167.jpg</td>\n",
       "      <td>4</td>\n",
       "    </tr>\n",
       "    <tr>\n",
       "      <th>...</th>\n",
       "      <td>...</td>\n",
       "      <td>...</td>\n",
       "    </tr>\n",
       "    <tr>\n",
       "      <th>13892</th>\n",
       "      <td>HAPPINESS/Adrien_Brody_0007_8725.jpg</td>\n",
       "      <td>4</td>\n",
       "    </tr>\n",
       "    <tr>\n",
       "      <th>13893</th>\n",
       "      <td>HAPPINESS/Abdullah_Gul_0012_8691.jpg</td>\n",
       "      <td>4</td>\n",
       "    </tr>\n",
       "    <tr>\n",
       "      <th>13894</th>\n",
       "      <td>SURPRISE/surprise (324)_5132.jpg</td>\n",
       "      <td>7</td>\n",
       "    </tr>\n",
       "    <tr>\n",
       "      <th>13895</th>\n",
       "      <td>ANGER/anger (1933)_4250.jpg</td>\n",
       "      <td>0</td>\n",
       "    </tr>\n",
       "    <tr>\n",
       "      <th>13896</th>\n",
       "      <td>CONTEMPT/contempt (2370)_5800.jpg</td>\n",
       "      <td>1</td>\n",
       "    </tr>\n",
       "  </tbody>\n",
       "</table>\n",
       "<p>13897 rows × 2 columns</p>\n",
       "</div>"
      ],
      "text/plain": [
       "                                       image  emotion\n",
       "0          CONTEMPT/contempt (1914)_4652.jpg        1\n",
       "1      NEUTRAL/Sharess_Harrell_0001_4341.jpg        5\n",
       "2            SADNESS/sadness (2492)_5998.jpg        6\n",
       "3         SURPRISE/Nathan_Lane_0001_2689.jpg        7\n",
       "4       HAPPINESS/Andre_Agassi_0015_9167.jpg        4\n",
       "...                                      ...      ...\n",
       "13892   HAPPINESS/Adrien_Brody_0007_8725.jpg        4\n",
       "13893   HAPPINESS/Abdullah_Gul_0012_8691.jpg        4\n",
       "13894       SURPRISE/surprise (324)_5132.jpg        7\n",
       "13895            ANGER/anger (1933)_4250.jpg        0\n",
       "13896      CONTEMPT/contempt (2370)_5800.jpg        1\n",
       "\n",
       "[13897 rows x 2 columns]"
      ]
     },
     "execution_count": 69,
     "metadata": {},
     "output_type": "execute_result"
    }
   ],
   "source": [
    "n_df"
   ]
  },
  {
   "cell_type": "code",
   "execution_count": null,
   "metadata": {},
   "outputs": [],
   "source": [
    "for idx, row in df.iterrows():\n",
    "    imagePath = cwd + \"/cleaned_images/\" + row.image\n",
    "    image = cv2.imread(imagePath)\n",
    "\n",
    "emo_feature = list(row.emotion for idx, row in df.iterrows())"
   ]
  },
  {
   "cell_type": "code",
   "execution_count": 65,
   "metadata": {},
   "outputs": [
    {
     "name": "stderr",
     "output_type": "stream",
     "text": [
      "c:\\Users\\thanapat\\AppData\\Local\\Programs\\Python\\Python38\\lib\\site-packages\\sklearn\\metrics\\_ranking.py:999: UndefinedMetricWarning: No positive samples in y_true, true positive value should be meaningless\n",
      "  warnings.warn(\n"
     ]
    },
    {
     "data": {
      "image/png": "[encoded data removed]",
      "text/plain": [
       "<Figure size 432x288 with 1 Axes>"
      ]
     },
     "metadata": {
      "needs_background": "light"
     },
     "output_type": "display_data"
    }
   ],
   "source": [
    "\n",
    "import matplotlib.pyplot as plt\n",
    "from sklearn import preprocessing\n",
    "from sklearn.model_selection import StratifiedKFold\n",
    "from sklearn.metrics import RocCurveDisplay\n",
    "from sklearn.metrics import auc\n",
    "\n",
    "dictionary = ['ANGER', 'CONTEMPT', 'DISGUST', 'FEAR', 'HAPPINESS',  'NEUTRAL', 'SADNESS', 'SURPRISE']\n",
    "\n",
    "for idx in range(len(dictionary)):\n",
    "    print(dictionary[idx])\n",
    "\n",
    "    emo_feature = np.copy(X_train)\n",
    "    emo_target = list(label[idx] for label in y_train)\n",
    "    emo_target = np.array(emo_target)\n",
    "\n",
    "    X = emo_feature\n",
    "    y = emo_target\n",
    "\n",
    "    history = []\n",
    "    tprs = []\n",
    "    aucs = []\n",
    "    mean_fpr = np.linspace(0, 1, 100)\n",
    "    fig, ax = plt.subplots()\n",
    "\n",
    "    # plot ROC curves\n",
    "    cv = StratifiedKFold(n_splits=5, shuffle=True)\n",
    "    for i, (train, val) in enumerate(cv.split(X, y)):\n",
    "        X_train_kf, X_val_kf = X[train], X[val]\n",
    "        y_train_kf, y_val_kf = y[train], y[val]\n",
    "\n",
    "        le = preprocessing.LabelEncoder()\n",
    "        y_train_kf = to_categorical(y_train_kf)\n",
    "        y_val_kf = to_categorical(y_val_kf)\n",
    "\n",
    "        model = create_model_best_param(best_params, 2)\n",
    "        model.fit(X_train_kf,\n",
    "                    y_train_kf,\n",
    "                    validation_data=(X_val_kf, y_val_kf,),\n",
    "                    batch_size=best_params['batch_size'],\n",
    "                    epochs=best_params[\"epochs\"],\n",
    "                    verbose=2)\n",
    "\n",
    "        # predict\n",
    "        y_pred = model.predict(X_val_kf).ravel()\n",
    "        y_val_kf = y_val_kf.ravel()\n",
    "\n",
    "        print('====================Fold ', i , '====================')\n",
    "\n",
    "        # plot ROC curve\n",
    "        viz = RocCurveDisplay.from_predictions(y_val_kf, y_pred, ax=ax, name=\"ROC fold {}\".format(i), alpha=0.3, lw=1,)\n",
    "        interp_tpr = np.interp(mean_fpr, viz.fpr, viz.tpr)\n",
    "        interp_tpr[0] = 0.0\n",
    "        tprs.append(interp_tpr)\n",
    "        aucs.append(viz.roc_auc)\n",
    "\n",
    "    # middle line\n",
    "    ax.plot([0, 1], [0, 1], 'k--')\n",
    "\n",
    "    # mean line\n",
    "    mean_tpr = np.mean(tprs, axis=0)\n",
    "    mean_tpr[-1] = 1.0\n",
    "    mean_auc = auc(mean_fpr, mean_tpr)\n",
    "    std_auc = np.std(aucs)\n",
    "    ax.plot(\n",
    "        mean_fpr,\n",
    "        mean_tpr,\n",
    "        color=\"b\",\n",
    "        label=r\"Mean ROC (AUC = %0.2f $\\pm$ %0.2f)\" % (mean_auc, std_auc),\n",
    "        lw=2,\n",
    "        alpha=0.8,\n",
    "    )\n",
    "\n",
    "    # std\n",
    "    std_tpr = np.std(tprs, axis=0)\n",
    "    tprs_upper = np.minimum(mean_tpr + std_tpr, 1)\n",
    "    tprs_lower = np.maximum(mean_tpr - std_tpr, 0)\n",
    "    ax.fill_between(\n",
    "        mean_fpr,\n",
    "        tprs_lower,\n",
    "        tprs_upper,\n",
    "        color=\"grey\",\n",
    "        alpha=0.2,\n",
    "        label=r\"$\\pm$ 1 std. dev.\",\n",
    "    )\n",
    "\n",
    "    ax.set(xlim=[-0.05, 1.05],\n",
    "            ylim=[-0.05, 1.05],\n",
    "            title=\"Receiver operating characteristic\")\n",
    "    ax.legend(loc=\"lower right\")\n",
    "    plt.xlabel(\"False Positive Rate\")\n",
    "    plt.ylabel(\"True Positive Rate\")\n",
    "    plt.savefig(cwd + '/../graph/' + dictionary[idx] + '/ann_relu.jpg')\n",
    "    plt.show()"
   ]
  },
  {
   "cell_type": "code",
   "execution_count": 66,
   "metadata": {},
   "outputs": [
    {
     "name": "stderr",
     "output_type": "stream",
     "text": [
      "C:\\Users\\thanapat\\AppData\\Local\\Temp\\ipykernel_32524\\4232138718.py:10: UserWarning: `Model.predict_generator` is deprecated and will be removed in a future version. Please use `Model.predict`, which supports generators.\n",
      "  Y_pred = model.predict_generator(validation_generator, steps = nb_samples // bs)\n"
     ]
    },
    {
     "name": "stdout",
     "output_type": "stream",
     "text": [
      "Confusion Matrix\n"
     ]
    },
    {
     "ename": "ValueError",
     "evalue": "Found input variables with inconsistent numbers of samples: [3331, 3300]",
     "output_type": "error",
     "traceback": [
      "\u001b[1;31m---------------------------------------------------------------------------\u001b[0m",
      "\u001b[1;31mValueError\u001b[0m                                Traceback (most recent call last)",
      "\u001b[1;32md:\\Project\\facial_cleandata\\neural_network\\training_cnn.ipynb Cell 14'\u001b[0m in \u001b[0;36m<cell line: 13>\u001b[1;34m()\u001b[0m\n\u001b[0;32m     <a href='vscode-notebook-cell:/d%3A/Project/facial_cleandata/neural_network/training_cnn.ipynb#ch0000013?line=10'>11</a>\u001b[0m y_pred \u001b[39m=\u001b[39m np\u001b[39m.\u001b[39margmax(Y_pred, axis\u001b[39m=\u001b[39m\u001b[39m1\u001b[39m)\n\u001b[0;32m     <a href='vscode-notebook-cell:/d%3A/Project/facial_cleandata/neural_network/training_cnn.ipynb#ch0000013?line=11'>12</a>\u001b[0m \u001b[39mprint\u001b[39m(\u001b[39m'\u001b[39m\u001b[39mConfusion Matrix\u001b[39m\u001b[39m'\u001b[39m)\n\u001b[1;32m---> <a href='vscode-notebook-cell:/d%3A/Project/facial_cleandata/neural_network/training_cnn.ipynb#ch0000013?line=12'>13</a>\u001b[0m \u001b[39mprint\u001b[39m(confusion_matrix(validation_generator\u001b[39m.\u001b[39;49mclasses, y_pred))\n\u001b[0;32m     <a href='vscode-notebook-cell:/d%3A/Project/facial_cleandata/neural_network/training_cnn.ipynb#ch0000013?line=13'>14</a>\u001b[0m \u001b[39mprint\u001b[39m(\u001b[39m'\u001b[39m\u001b[39mClassification Report\u001b[39m\u001b[39m'\u001b[39m)\n\u001b[0;32m     <a href='vscode-notebook-cell:/d%3A/Project/facial_cleandata/neural_network/training_cnn.ipynb#ch0000013?line=14'>15</a>\u001b[0m \u001b[39mprint\u001b[39m(classification_report(validation_generator\u001b[39m.\u001b[39mclasses, y_pred, target_names\u001b[39m=\u001b[39mdictionary))\n",
      "File \u001b[1;32mc:\\Users\\thanapat\\AppData\\Local\\Programs\\Python\\Python38\\lib\\site-packages\\sklearn\\metrics\\_classification.py:307\u001b[0m, in \u001b[0;36mconfusion_matrix\u001b[1;34m(y_true, y_pred, labels, sample_weight, normalize)\u001b[0m\n\u001b[0;32m    <a href='file:///c%3A/Users/thanapat/AppData/Local/Programs/Python/Python38/lib/site-packages/sklearn/metrics/_classification.py?line=221'>222</a>\u001b[0m \u001b[39mdef\u001b[39;00m \u001b[39mconfusion_matrix\u001b[39m(\n\u001b[0;32m    <a href='file:///c%3A/Users/thanapat/AppData/Local/Programs/Python/Python38/lib/site-packages/sklearn/metrics/_classification.py?line=222'>223</a>\u001b[0m     y_true, y_pred, \u001b[39m*\u001b[39m, labels\u001b[39m=\u001b[39m\u001b[39mNone\u001b[39;00m, sample_weight\u001b[39m=\u001b[39m\u001b[39mNone\u001b[39;00m, normalize\u001b[39m=\u001b[39m\u001b[39mNone\u001b[39;00m\n\u001b[0;32m    <a href='file:///c%3A/Users/thanapat/AppData/Local/Programs/Python/Python38/lib/site-packages/sklearn/metrics/_classification.py?line=223'>224</a>\u001b[0m ):\n\u001b[0;32m    <a href='file:///c%3A/Users/thanapat/AppData/Local/Programs/Python/Python38/lib/site-packages/sklearn/metrics/_classification.py?line=224'>225</a>\u001b[0m     \u001b[39m\"\"\"Compute confusion matrix to evaluate the accuracy of a classification.\u001b[39;00m\n\u001b[0;32m    <a href='file:///c%3A/Users/thanapat/AppData/Local/Programs/Python/Python38/lib/site-packages/sklearn/metrics/_classification.py?line=225'>226</a>\u001b[0m \n\u001b[0;32m    <a href='file:///c%3A/Users/thanapat/AppData/Local/Programs/Python/Python38/lib/site-packages/sklearn/metrics/_classification.py?line=226'>227</a>\u001b[0m \u001b[39m    By definition a confusion matrix :math:`C` is such that :math:`C_{i, j}`\u001b[39;00m\n\u001b[1;32m   (...)\u001b[0m\n\u001b[0;32m    <a href='file:///c%3A/Users/thanapat/AppData/Local/Programs/Python/Python38/lib/site-packages/sklearn/metrics/_classification.py?line=304'>305</a>\u001b[0m \u001b[39m    (0, 2, 1, 1)\u001b[39;00m\n\u001b[0;32m    <a href='file:///c%3A/Users/thanapat/AppData/Local/Programs/Python/Python38/lib/site-packages/sklearn/metrics/_classification.py?line=305'>306</a>\u001b[0m \u001b[39m    \"\"\"\u001b[39;00m\n\u001b[1;32m--> <a href='file:///c%3A/Users/thanapat/AppData/Local/Programs/Python/Python38/lib/site-packages/sklearn/metrics/_classification.py?line=306'>307</a>\u001b[0m     y_type, y_true, y_pred \u001b[39m=\u001b[39m _check_targets(y_true, y_pred)\n\u001b[0;32m    <a href='file:///c%3A/Users/thanapat/AppData/Local/Programs/Python/Python38/lib/site-packages/sklearn/metrics/_classification.py?line=307'>308</a>\u001b[0m     \u001b[39mif\u001b[39;00m y_type \u001b[39mnot\u001b[39;00m \u001b[39min\u001b[39;00m (\u001b[39m\"\u001b[39m\u001b[39mbinary\u001b[39m\u001b[39m\"\u001b[39m, \u001b[39m\"\u001b[39m\u001b[39mmulticlass\u001b[39m\u001b[39m\"\u001b[39m):\n\u001b[0;32m    <a href='file:///c%3A/Users/thanapat/AppData/Local/Programs/Python/Python38/lib/site-packages/sklearn/metrics/_classification.py?line=308'>309</a>\u001b[0m         \u001b[39mraise\u001b[39;00m \u001b[39mValueError\u001b[39;00m(\u001b[39m\"\u001b[39m\u001b[39m%s\u001b[39;00m\u001b[39m is not supported\u001b[39m\u001b[39m\"\u001b[39m \u001b[39m%\u001b[39m y_type)\n",
      "File \u001b[1;32mc:\\Users\\thanapat\\AppData\\Local\\Programs\\Python\\Python38\\lib\\site-packages\\sklearn\\metrics\\_classification.py:84\u001b[0m, in \u001b[0;36m_check_targets\u001b[1;34m(y_true, y_pred)\u001b[0m\n\u001b[0;32m     <a href='file:///c%3A/Users/thanapat/AppData/Local/Programs/Python/Python38/lib/site-packages/sklearn/metrics/_classification.py?line=56'>57</a>\u001b[0m \u001b[39mdef\u001b[39;00m \u001b[39m_check_targets\u001b[39m(y_true, y_pred):\n\u001b[0;32m     <a href='file:///c%3A/Users/thanapat/AppData/Local/Programs/Python/Python38/lib/site-packages/sklearn/metrics/_classification.py?line=57'>58</a>\u001b[0m     \u001b[39m\"\"\"Check that y_true and y_pred belong to the same classification task.\u001b[39;00m\n\u001b[0;32m     <a href='file:///c%3A/Users/thanapat/AppData/Local/Programs/Python/Python38/lib/site-packages/sklearn/metrics/_classification.py?line=58'>59</a>\u001b[0m \n\u001b[0;32m     <a href='file:///c%3A/Users/thanapat/AppData/Local/Programs/Python/Python38/lib/site-packages/sklearn/metrics/_classification.py?line=59'>60</a>\u001b[0m \u001b[39m    This converts multiclass or binary types to a common shape, and raises a\u001b[39;00m\n\u001b[1;32m   (...)\u001b[0m\n\u001b[0;32m     <a href='file:///c%3A/Users/thanapat/AppData/Local/Programs/Python/Python38/lib/site-packages/sklearn/metrics/_classification.py?line=81'>82</a>\u001b[0m \u001b[39m    y_pred : array or indicator matrix\u001b[39;00m\n\u001b[0;32m     <a href='file:///c%3A/Users/thanapat/AppData/Local/Programs/Python/Python38/lib/site-packages/sklearn/metrics/_classification.py?line=82'>83</a>\u001b[0m \u001b[39m    \"\"\"\u001b[39;00m\n\u001b[1;32m---> <a href='file:///c%3A/Users/thanapat/AppData/Local/Programs/Python/Python38/lib/site-packages/sklearn/metrics/_classification.py?line=83'>84</a>\u001b[0m     check_consistent_length(y_true, y_pred)\n\u001b[0;32m     <a href='file:///c%3A/Users/thanapat/AppData/Local/Programs/Python/Python38/lib/site-packages/sklearn/metrics/_classification.py?line=84'>85</a>\u001b[0m     type_true \u001b[39m=\u001b[39m type_of_target(y_true)\n\u001b[0;32m     <a href='file:///c%3A/Users/thanapat/AppData/Local/Programs/Python/Python38/lib/site-packages/sklearn/metrics/_classification.py?line=85'>86</a>\u001b[0m     type_pred \u001b[39m=\u001b[39m type_of_target(y_pred)\n",
      "File \u001b[1;32mc:\\Users\\thanapat\\AppData\\Local\\Programs\\Python\\Python38\\lib\\site-packages\\sklearn\\utils\\validation.py:332\u001b[0m, in \u001b[0;36mcheck_consistent_length\u001b[1;34m(*arrays)\u001b[0m\n\u001b[0;32m    <a href='file:///c%3A/Users/thanapat/AppData/Local/Programs/Python/Python38/lib/site-packages/sklearn/utils/validation.py?line=329'>330</a>\u001b[0m uniques \u001b[39m=\u001b[39m np\u001b[39m.\u001b[39munique(lengths)\n\u001b[0;32m    <a href='file:///c%3A/Users/thanapat/AppData/Local/Programs/Python/Python38/lib/site-packages/sklearn/utils/validation.py?line=330'>331</a>\u001b[0m \u001b[39mif\u001b[39;00m \u001b[39mlen\u001b[39m(uniques) \u001b[39m>\u001b[39m \u001b[39m1\u001b[39m:\n\u001b[1;32m--> <a href='file:///c%3A/Users/thanapat/AppData/Local/Programs/Python/Python38/lib/site-packages/sklearn/utils/validation.py?line=331'>332</a>\u001b[0m     \u001b[39mraise\u001b[39;00m \u001b[39mValueError\u001b[39;00m(\n\u001b[0;32m    <a href='file:///c%3A/Users/thanapat/AppData/Local/Programs/Python/Python38/lib/site-packages/sklearn/utils/validation.py?line=332'>333</a>\u001b[0m         \u001b[39m\"\u001b[39m\u001b[39mFound input variables with inconsistent numbers of samples: \u001b[39m\u001b[39m%r\u001b[39;00m\u001b[39m\"\u001b[39m\n\u001b[0;32m    <a href='file:///c%3A/Users/thanapat/AppData/Local/Programs/Python/Python38/lib/site-packages/sklearn/utils/validation.py?line=333'>334</a>\u001b[0m         \u001b[39m%\u001b[39m [\u001b[39mint\u001b[39m(l) \u001b[39mfor\u001b[39;00m l \u001b[39min\u001b[39;00m lengths]\n\u001b[0;32m    <a href='file:///c%3A/Users/thanapat/AppData/Local/Programs/Python/Python38/lib/site-packages/sklearn/utils/validation.py?line=334'>335</a>\u001b[0m     )\n",
      "\u001b[1;31mValueError\u001b[0m: Found input variables with inconsistent numbers of samples: [3331, 3300]"
     ]
    }
   ],
   "source": [
    "# test model\n",
    "# Confution Matrix and Classification Report\n",
    "\n",
    "from sklearn.metrics import ConfusionMatrixDisplay\n",
    "from sklearn.metrics import confusion_matrix\n",
    "from sklearn.metrics import classification_report\n",
    "\n",
    "dictionary = ['ANGER', 'CONTEMPT', 'DISGUST', 'FEAR', 'HAPPINESS',  'NEUTRAL', 'SADNESS', 'SURPRISE']\n",
    "\n",
    "Y_pred = model.predict_generator(validation_generator, steps = nb_samples // bs)\n",
    "y_pred = np.argmax(Y_pred, axis=1)\n",
    "print('Confusion Matrix')\n",
    "print(confusion_matrix(validation_generator.classes, y_pred))\n",
    "print('Classification Report')\n",
    "print(classification_report(validation_generator.classes, y_pred, target_names=dictionary))\n"
   ]
  }
 ],
 "metadata": {
  "interpreter": {
   "hash": "7d589e90ec537c265ab572b59aaa85a543be00a0260fb837ae92fb8eef7bec48"
  },
  "kernelspec": {
   "display_name": "Python 3.8.5 64-bit",
   "language": "python",
   "name": "python3"
  },
  "language_info": {
   "codemirror_mode": {
    "name": "ipython",
    "version": 3
   },
   "file_extension": ".py",
   "mimetype": "text/x-python",
   "name": "python",
   "nbconvert_exporter": "python",
   "pygments_lexer": "ipython3",
   "version": "3.8.5"
  },
  "orig_nbformat": 4
 },
 "nbformat": 4,
 "nbformat_minor": 2
}
