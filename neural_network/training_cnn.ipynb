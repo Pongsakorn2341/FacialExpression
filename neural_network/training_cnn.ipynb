{
 "cells": [
  {
   "cell_type": "code",
   "execution_count": 12,
   "metadata": {},
   "outputs": [],
   "source": [
    "import os\n",
    "import pandas as pd\n",
    "import numpy as np\n",
    "from sklearn.utils import class_weight\n",
    "import tensorflow as tf\n",
    "from tensorflow.keras import layers \n",
    "from tensorflow.keras.applications import EfficientNetV2B0\n",
    "from keras import regularizers"
   ]
  },
  {
   "cell_type": "code",
   "execution_count": 13,
   "metadata": {},
   "outputs": [],
   "source": [
    "img_size = (224, 224)\n",
    "\n",
    "# train data\n",
    "cwd = os.getcwd()\n",
    "epochs = 25\n",
    "df = pd.read_csv(cwd + '/augmentation_data.csv')\n",
    "X = list(df['image'][i] for i in range(len(df)))\n",
    "y = list(df['emotion'][i] for i in range(len(df)))"
   ]
  },
  {
   "cell_type": "code",
   "execution_count": 14,
   "metadata": {},
   "outputs": [
    {
     "name": "stdout",
     "output_type": "stream",
     "text": [
      "{0: 0.970107056694813, 1: 1.0951685201997277, 2: 0.995731015270326, 3: 0.964869526094781, 4: 0.96496600339966, 5: 0.96496600339966, 6: 0.96496600339966, 7: 1.1031807270233196}\n"
     ]
    }
   ],
   "source": [
    "weight = dict(enumerate(class_weight.compute_class_weight(class_weight='balanced', classes=np.unique(y), y=y)))\n",
    "print(weight)"
   ]
  },
  {
   "cell_type": "code",
   "execution_count": 15,
   "metadata": {},
   "outputs": [],
   "source": [
    "def create_model():\n",
    "    model = tf.keras.Sequential([\n",
    "        layers.InputLayer(input_shape=(img_size[0], img_size[1], 3)),\n",
    "        layers.experimental.preprocessing.RandomRotation(\n",
    "            0.05, fill_mode='nearest'\n",
    "        ),\n",
    "\n",
    "        EfficientNetV2B0(\n",
    "            include_top=False, weights='imagenet', input_tensor=None,\n",
    "            input_shape=(img_size[0], img_size[1], 3), include_preprocessing=True\n",
    "        ),\n",
    "\n",
    "        tf.keras.layers.GlobalMaxPooling2D(),\n",
    "        tf.keras.layers.Flatten(),\n",
    "\n",
    "\n",
    "        tf.keras.layers.Dense(512, activation='relu', kernel_regularizer=regularizers.l2(l=0.01)),\n",
    "        tf.keras.layers.BatchNormalization(),\n",
    "        tf.keras.layers.Dropout(0.5),\n",
    "\n",
    "        tf.keras.layers.Dense(256, activation='relu', kernel_regularizer=regularizers.l2(l=0.01)),\n",
    "        tf.keras.layers.BatchNormalization(),\n",
    "        tf.keras.layers.Dropout(0.5),\n",
    "\n",
    "        tf.keras.layers.Dense(128, activation='relu', kernel_regularizer=regularizers.l2(l=0.01)),\n",
    "        tf.keras.layers.BatchNormalization(),\n",
    "        tf.keras.layers.Dropout(0.5),\n",
    "\n",
    "        tf.keras.layers.Dense(8, activation='softmax')\n",
    "    ])\n",
    "\n",
    "    model.compile(optimizer=tf.keras.optimizers.Adam(amsgrad=True),  # tf.keras.optimizers.Adam(amsgrad=True),  # tf.keras.optimizers.SGD(nesterov=True), # tfa.optimizers.RectifiedAdam(),\n",
    "                  loss=tf.keras.losses.SparseCategoricalCrossentropy(\n",
    "                      from_logits=True),\n",
    "                  metrics=['accuracy'])\n",
    "\n",
    "    return model"
   ]
  },
  {
   "cell_type": "code",
   "execution_count": 16,
   "metadata": {},
   "outputs": [],
   "source": [
    "# es_callback = tf.keras.callbacks.EarlyStopping(\n",
    "#     monitor='val_accuracy', patience=epochs*0.05, restore_best_weights=True)\n",
    "# cp_callback = tf.keras.callbacks.ModelCheckpoint(\n",
    "#     filepath=\"model/cp-{epoch:04d}.ckpt\",\n",
    "#     verbose=0,\n",
    "#     save_weights_only=True,\n",
    "#     monitor='val_accuracy',\n",
    "#     save_best_only=True)\n",
    "# tb_callback = tf.keras.callbacks.TensorBoard(\n",
    "#     log_dir=\"./logs\",\n",
    "#             update_freq=\"epoch\")"
   ]
  },
  {
   "cell_type": "code",
   "execution_count": 17,
   "metadata": {},
   "outputs": [
    {
     "name": "stdout",
     "output_type": "stream",
     "text": [
      "Model: \"sequential_1\"\n",
      "_________________________________________________________________\n",
      " Layer (type)                Output Shape              Param #   \n",
      "=================================================================\n",
      " random_rotation_1 (RandomRo  (None, 224, 224, 3)      0         \n",
      " tation)                                                         \n",
      "                                                                 \n",
      " efficientnetv2-b0 (Function  (None, 7, 7, 1280)       5919312   \n",
      " al)                                                             \n",
      "                                                                 \n",
      " global_max_pooling2d_1 (Glo  (None, 1280)             0         \n",
      " balMaxPooling2D)                                                \n",
      "                                                                 \n",
      " flatten_1 (Flatten)         (None, 1280)              0         \n",
      "                                                                 \n",
      " dense_4 (Dense)             (None, 512)               655872    \n",
      "                                                                 \n",
      " batch_normalization_3 (Batc  (None, 512)              2048      \n",
      " hNormalization)                                                 \n",
      "                                                                 \n",
      " dropout_3 (Dropout)         (None, 512)               0         \n",
      "                                                                 \n",
      " dense_5 (Dense)             (None, 256)               131328    \n",
      "                                                                 \n",
      " batch_normalization_4 (Batc  (None, 256)              1024      \n",
      " hNormalization)                                                 \n",
      "                                                                 \n",
      " dropout_4 (Dropout)         (None, 256)               0         \n",
      "                                                                 \n",
      " dense_6 (Dense)             (None, 128)               32896     \n",
      "                                                                 \n",
      " batch_normalization_5 (Batc  (None, 128)              512       \n",
      " hNormalization)                                                 \n",
      "                                                                 \n",
      " dropout_5 (Dropout)         (None, 128)               0         \n",
      "                                                                 \n",
      " dense_7 (Dense)             (None, 8)                 1032      \n",
      "                                                                 \n",
      "=================================================================\n",
      "Total params: 6,744,024\n",
      "Trainable params: 6,681,624\n",
      "Non-trainable params: 62,400\n",
      "_________________________________________________________________\n",
      "None\n"
     ]
    }
   ],
   "source": [
    "model = create_model()\n",
    "print(model.summary())\n"
   ]
  },
  {
   "cell_type": "code",
   "execution_count": 18,
   "metadata": {},
   "outputs": [],
   "source": [
    "from tensorflow.keras.optimizers import RMSprop,SGD,Adam\n",
    "# adam=Adam(lr=0.001)\n",
    "# model.compile(optimizer='adam', loss='categorical_crossentropy', metrics = ['acc'])\n"
   ]
  },
  {
   "cell_type": "code",
   "execution_count": 19,
   "metadata": {},
   "outputs": [
    {
     "name": "stdout",
     "output_type": "stream",
     "text": [
      "                                          image  emotion\n",
      "0             CONTEMPT/contempt (2141)_5254.jpg        1\n",
      "1      HAPPINESS/Benicio_Del_Toro_0001_9703.jpg        4\n",
      "2                SADNESS/sadness (2166)_754.jpg        6\n",
      "3              CONTEMPT/contempt (962)_2168.jpg        1\n",
      "4      HAPPINESS/Vanessa_Redgrave_0005_4052.jpg        4\n",
      "...                                         ...      ...\n",
      "13892               ANGER/anger (5299)_7589.jpg        0\n",
      "13893         SURPRISE/surprise (6034)_8094.jpg        7\n",
      "13894       HAPPINESS/happiness (3963)_5754.jpg        4\n",
      "13895        HAPPINESS/happiness (279)_5040.jpg        4\n",
      "13896    HAPPINESS/Abner_Martinez_0001_8698.jpg        4\n",
      "\n",
      "[13897 rows x 2 columns]\n"
     ]
    }
   ],
   "source": [
    "import os, cv2, shutil\n",
    "df_train = pd.read_csv(cwd + \"\\\\state\\\\train.csv\")\n",
    "df_test = pd.read_csv(cwd + \"\\\\state\\\\test.csv\")\n",
    "df_val = pd.read_csv(cwd + \"\\\\state\\\\val.csv\")\n",
    "print(df_val)\n",
    "output_train_dir = cwd + \"\\\\train\"\n",
    "#output_test_dir = cwd + \"\\\\test\"\n",
    "root_image_dir = cwd + \"\\\\augmentation\\\\\"\n",
    "dictionary = ['ANGER', 'CONTEMPT', 'DISGUST', 'FEAR', 'HAPPINESS',  'NEUTRAL', 'SADNESS', 'SURPRISE']\n",
    "dir_test = cwd + \"\\\\test\\\\\"\n",
    "dir_train = cwd + \"\\\\train\\\\\"\n",
    "dir_val = cwd + \"\\\\val\\\\\"\n",
    "if(os.path.exists(dir_train) or os.path.exists(dir_test) or os.path.exists(dir_val)):\n",
    "    shutil.rmtree(dir_val)\n",
    "    shutil.rmtree(dir_train)\n",
    "    shutil.rmtree(dir_test)\n",
    "for emotion in dictionary:\n",
    "    os.makedirs(dir_val + \"\\\\\" + emotion)\n",
    "    os.makedirs(dir_test + \"\\\\\" + emotion)\n",
    "    os.makedirs(dir_train + \"\\\\\" + emotion)\n",
    "\n",
    "def isInDir(image_dir):\n",
    "    return len(image_dir.split(\"/\")) >= 2\n",
    "for index, row in df_val.iterrows():\n",
    "    if(isInDir(row['image']) == False): \n",
    "        output_val_dir = dir_val + dictionary[row['emotion']] + \"\\\\\" + row['image']\n",
    "    else:\n",
    "        output_val_dir = dir_val + row['image']\n",
    "    image = cv2.imread(root_image_dir + row['image'])\n",
    "    cv2.imwrite(output_val_dir, image)\n",
    "for index, row in df_train.iterrows():\n",
    "    if(isInDir(row['image']) == False):\n",
    "        output_train_dir = dir_train + dictionary[row['emotion']] + \"\\\\\" + row['image']\n",
    "    else:\n",
    "        output_train_dir = dir_train + row['image']\n",
    "    image = cv2.imread(root_image_dir + row['image'])\n",
    "    cv2.imwrite(output_train_dir, image)\n",
    "for index, row in df_test.iterrows():\n",
    "    if(isInDir(row['image']) == False): \n",
    "        output_test_dir = dir_test + dictionary[row['emotion']] + \"\\\\\" + row['image']\n",
    "    else:\n",
    "        output_test_dir = dir_test + row['image']\n",
    "    image = cv2.imread(root_image_dir + row['image'])\n",
    "    cv2.imwrite(output_test_dir, image)\n"
   ]
  },
  {
   "cell_type": "code",
   "execution_count": 30,
   "metadata": {},
   "outputs": [
    {
     "name": "stdout",
     "output_type": "stream",
     "text": [
      "Found 55587 images belonging to 8 classes.\n",
      "Found 7721 images belonging to 8 classes.\n",
      "Found 13897 images belonging to 8 classes.\n",
      "Found 55587 files belonging to 8 classes.\n",
      "Found 7721 files belonging to 8 classes.\n",
      "Found 13897 files belonging to 8 classes.\n"
     ]
    }
   ],
   "source": [
    "bs = 75\n",
    "train_dir = cwd + \"\\\\train\"\n",
    "test_dir = cwd + \"\\\\test\"\n",
    "val_dir = cwd + \"\\\\val\"\n",
    "from tensorflow.keras.preprocessing.image import ImageDataGenerator \n",
    "train_datagen = ImageDataGenerator( rescale = 1.0/255. )\n",
    "test_datagen  = ImageDataGenerator( rescale = 1.0/255. )\n",
    "val_datagen = ImageDataGenerator( rescale = 1.0/255. )\n",
    "train_generator=train_datagen.flow_from_directory(train_dir,batch_size=bs,class_mode='categorical',target_size=(img_size[0],img_size[1]))\n",
    "test_generator=train_datagen.flow_from_directory(test_dir,batch_size=bs,class_mode='categorical',target_size=(img_size[0],img_size[1]))\n",
    "validation_generator =  val_datagen.flow_from_directory(val_dir,\n",
    "                                                         batch_size=bs,\n",
    "                                                         class_mode  = 'categorical',\n",
    "                                                         target_size=(img_size[0],img_size[1]))\n",
    "dictionary = ['ANGER', 'CONTEMPT', 'DISGUST', 'FEAR', 'HAPPINESS',  'NEUTRAL', 'SADNESS', 'SURPRISE']\n",
    "train_ds = tf.keras.preprocessing.image_dataset_from_directory(\n",
    "    train_dir,\n",
    "    shuffle=True,\n",
    "    labels='inferred',\n",
    "    label_mode='int',\n",
    "    image_size=img_size,\n",
    "    class_names=dictionary,\n",
    "    color_mode='rgb',\n",
    "    batch_size=bs)\n",
    "test_ds = tf.keras.preprocessing.image_dataset_from_directory(\n",
    "    test_dir,\n",
    "    shuffle=True,\n",
    "    labels='inferred',\n",
    "    label_mode='int',\n",
    "    image_size=img_size,\n",
    "    class_names=dictionary,\n",
    "    color_mode='rgb',\n",
    "    batch_size=bs)\n",
    "val_ds = tf.keras.preprocessing.image_dataset_from_directory(\n",
    "    val_dir,\n",
    "    labels='inferred',\n",
    "    label_mode='int',\n",
    "    image_size=img_size,\n",
    "    class_names=dictionary,\n",
    "    color_mode='rgb',\n",
    "    batch_size=bs)\n",
    "\n",
    "filenames = validation_generator.filenames\n",
    "nb_samples = len(filenames)"
   ]
  },
  {
   "cell_type": "code",
   "execution_count": 21,
   "metadata": {},
   "outputs": [
    {
     "data": {
      "text/plain": [
       "'\\nes_callback = tf.keras.callbacks.EarlyStopping(\\n    monitor=\\'val_accuracy\\', patience=epochs*0.1, restore_best_weights=True)\\ncp_callback = tf.keras.callbacks.ModelCheckpoint(\\n    filepath=\"model/cp-{epoch:04d}.ckpt\",\\n    verbose=0,\\n    save_weights_only=True,\\n    monitor=\\'val_accuracy\\',\\n    save_best_only=True)\\ntb_callback = tf.keras.callbacks.TensorBoard(\\n    log_dir=\"./logs\",\\n            update_freq=\"epoch\")\\n'"
      ]
     },
     "execution_count": 21,
     "metadata": {},
     "output_type": "execute_result"
    }
   ],
   "source": [
    "'''\n",
    "es_callback = tf.keras.callbacks.EarlyStopping(\n",
    "    monitor='val_accuracy', patience=epochs*0.1, restore_best_weights=True)\n",
    "cp_callback = tf.keras.callbacks.ModelCheckpoint(\n",
    "    filepath=\"model/cp-{epoch:04d}.ckpt\",\n",
    "    verbose=0,\n",
    "    save_weights_only=True,\n",
    "    monitor='val_accuracy',\n",
    "    save_best_only=True)\n",
    "tb_callback = tf.keras.callbacks.TensorBoard(\n",
    "    log_dir=\"./logs\",\n",
    "            update_freq=\"epoch\")\n",
    "'''"
   ]
  },
  {
   "cell_type": "code",
   "execution_count": 22,
   "metadata": {},
   "outputs": [
    {
     "name": "stdout",
     "output_type": "stream",
     "text": [
      "Epoch 1/25\n"
     ]
    },
    {
     "name": "stderr",
     "output_type": "stream",
     "text": [
      "c:\\Users\\thanapat\\AppData\\Local\\Programs\\Python\\Python38\\lib\\site-packages\\tensorflow\\python\\util\\dispatch.py:1082: UserWarning: \"`sparse_categorical_crossentropy` received `from_logits=True`, but the `output` argument was produced by a sigmoid or softmax activation and thus does not represent logits. Was this intended?\"\n",
      "  return dispatch_target(*args, **kwargs)\n"
     ]
    },
    {
     "name": "stdout",
     "output_type": "stream",
     "text": [
      "556/556 [==============================] - 5816s 10s/step - loss: 6.0269 - accuracy: 0.4850 - val_loss: 1.8299 - val_accuracy: 0.6696\n",
      "Epoch 2/25\n",
      "556/556 [==============================] - 6322s 11s/step - loss: 1.3003 - accuracy: 0.6956 - val_loss: 1.0616 - val_accuracy: 0.7180\n",
      "Epoch 3/25\n",
      "556/556 [==============================] - 5935s 11s/step - loss: 0.9297 - accuracy: 0.7539 - val_loss: 0.9373 - val_accuracy: 0.7493\n",
      "Epoch 4/25\n",
      "556/556 [==============================] - 5447s 10s/step - loss: 0.7881 - accuracy: 0.8025 - val_loss: 0.9862 - val_accuracy: 0.7411\n",
      "Epoch 5/25\n",
      "556/556 [==============================] - 5470s 10s/step - loss: 0.7083 - accuracy: 0.8274 - val_loss: 0.7727 - val_accuracy: 0.8023\n",
      "Epoch 6/25\n",
      "556/556 [==============================] - 5496s 10s/step - loss: 0.6233 - accuracy: 0.8567 - val_loss: 0.9152 - val_accuracy: 0.7854\n",
      "Epoch 7/25\n",
      "556/556 [==============================] - 5528s 10s/step - loss: 0.5507 - accuracy: 0.8782 - val_loss: 0.7099 - val_accuracy: 0.8315\n",
      "Epoch 8/25\n",
      "556/556 [==============================] - 5608s 10s/step - loss: 0.5033 - accuracy: 0.8916 - val_loss: 0.6544 - val_accuracy: 0.8505\n",
      "Epoch 9/25\n",
      "556/556 [==============================] - 5559s 10s/step - loss: 0.4436 - accuracy: 0.9101 - val_loss: 0.7046 - val_accuracy: 0.8485\n",
      "Epoch 10/25\n",
      "556/556 [==============================] - 6121s 11s/step - loss: 0.4216 - accuracy: 0.9151 - val_loss: 0.6162 - val_accuracy: 0.8671\n",
      "Epoch 11/25\n",
      "556/556 [==============================] - 5445s 10s/step - loss: 0.3858 - accuracy: 0.9248 - val_loss: 0.6246 - val_accuracy: 0.8680\n",
      "Epoch 12/25\n",
      "556/556 [==============================] - 5454s 10s/step - loss: 0.3611 - accuracy: 0.9330 - val_loss: 0.5830 - val_accuracy: 0.8788\n",
      "Epoch 13/25\n",
      "556/556 [==============================] - 6031s 11s/step - loss: 0.3339 - accuracy: 0.9388 - val_loss: 0.5623 - val_accuracy: 0.8787\n",
      "Epoch 14/25\n",
      "556/556 [==============================] - 7079s 13s/step - loss: 0.3107 - accuracy: 0.9453 - val_loss: 0.5974 - val_accuracy: 0.8791\n",
      "Epoch 15/25\n",
      "556/556 [==============================] - 5522s 10s/step - loss: 0.2927 - accuracy: 0.9496 - val_loss: 0.5101 - val_accuracy: 0.8952\n",
      "Epoch 16/25\n",
      "556/556 [==============================] - 6134s 11s/step - loss: 0.2767 - accuracy: 0.9536 - val_loss: 0.5407 - val_accuracy: 0.8913\n",
      "Epoch 17/25\n",
      "556/556 [==============================] - 6478s 12s/step - loss: 0.2605 - accuracy: 0.9572 - val_loss: 0.5863 - val_accuracy: 0.8849\n",
      "Epoch 18/25\n",
      "556/556 [==============================] - 6279s 11s/step - loss: 0.2604 - accuracy: 0.9578 - val_loss: 0.5049 - val_accuracy: 0.9030\n",
      "Epoch 19/25\n",
      "556/556 [==============================] - 5416s 10s/step - loss: 0.2501 - accuracy: 0.9604 - val_loss: 0.4874 - val_accuracy: 0.9046\n",
      "Epoch 20/25\n",
      "556/556 [==============================] - 5423s 10s/step - loss: 0.2333 - accuracy: 0.9645 - val_loss: 0.5629 - val_accuracy: 0.8997\n",
      "Epoch 21/25\n",
      "556/556 [==============================] - 5423s 10s/step - loss: 0.2233 - accuracy: 0.9662 - val_loss: 0.5045 - val_accuracy: 0.9095\n",
      "Epoch 22/25\n",
      "556/556 [==============================] - 5519s 10s/step - loss: 0.2171 - accuracy: 0.9689 - val_loss: 0.4854 - val_accuracy: 0.9120\n",
      "Epoch 23/25\n",
      "556/556 [==============================] - 5573s 10s/step - loss: 0.2035 - accuracy: 0.9707 - val_loss: 0.4650 - val_accuracy: 0.9198\n",
      "Epoch 24/25\n",
      "556/556 [==============================] - 5438s 10s/step - loss: 0.2111 - accuracy: 0.9701 - val_loss: 0.5507 - val_accuracy: 0.9052\n",
      "Epoch 25/25\n",
      "556/556 [==============================] - 6180s 11s/step - loss: 0.1980 - accuracy: 0.9728 - val_loss: 0.4779 - val_accuracy: 0.9146\n"
     ]
    }
   ],
   "source": [
    "history = model.fit_generator(train_ds, validation_data=val_ds, shuffle=True, epochs=epochs, #callbacks=[es_callback, cp_callback, tb_callback\n",
    "                                                                                                   #, reduce_lr\n",
    "                                                                                                  #],\n",
    "                                                                                                  class_weight=weight, batch_size=bs)"
   ]
  },
  {
   "cell_type": "code",
   "execution_count": 23,
   "metadata": {},
   "outputs": [
    {
     "data": {
      "image/png": "[encoded data removed]",
      "text/plain": [
       "<Figure size 432x288 with 1 Axes>"
      ]
     },
     "metadata": {
      "needs_background": "light"
     },
     "output_type": "display_data"
    },
    {
     "data": {
      "image/png": "[encoded data removed]",
      "text/plain": [
       "<Figure size 432x288 with 1 Axes>"
      ]
     },
     "metadata": {
      "needs_background": "light"
     },
     "output_type": "display_data"
    }
   ],
   "source": [
    "import matplotlib.pyplot as plt\n",
    "#Plotting the training and validation loss\n",
    "\n",
    "loss = history.history['loss']\n",
    "val_loss = history.history['val_loss']\n",
    "epochs = range(1, len(loss) + 1)\n",
    "plt.plot(epochs, loss, 'y', label='Training loss')\n",
    "plt.plot(epochs, val_loss, 'r', label='Validation loss')\n",
    "plt.title('Training and Validation loss')\n",
    "plt.xlabel('Epochs')\n",
    "plt.ylabel('Loss')\n",
    "plt.legend()\n",
    "plt.show()\n",
    "\n",
    "acc = history.history['accuracy']\n",
    "val_acc = history.history['val_accuracy']\n",
    "epochs = range(1, len(acc) + 1)\n",
    "plt.plot(epochs, acc, 'y', label='Training accuracy')\n",
    "plt.plot(epochs, val_acc, 'r', label='Validation accuracy')\n",
    "plt.title('Training and Validation accuracy')\n",
    "plt.xlabel('Epochs')\n",
    "plt.ylabel('Accuracy')\n",
    "plt.legend()\n",
    "plt.show()"
   ]
  },
  {
   "cell_type": "code",
   "execution_count": 24,
   "metadata": {},
   "outputs": [
    {
     "name": "stdout",
     "output_type": "stream",
     "text": [
      "<BatchDataset element_spec=(TensorSpec(shape=(None, 224, 224, 3), dtype=tf.float32, name=None), TensorSpec(shape=(None,), dtype=tf.int32, name=None))>\n",
      "---------------\n",
      "<BatchDataset element_spec=(TensorSpec(shape=(None, 224, 224, 3), dtype=tf.float32, name=None), TensorSpec(shape=(None,), dtype=tf.int32, name=None))>\n",
      "---------------\n"
     ]
    }
   ],
   "source": [
    "\n",
    "print(train_ds)\n",
    "print('---------------')\n",
    "print(val_ds)\n",
    "print('---------------')\n"
   ]
  },
  {
   "cell_type": "code",
   "execution_count": 25,
   "metadata": {},
   "outputs": [],
   "source": [
    "cwd = os.getcwd()\n",
    "n_df = pd.read_csv(cwd + \"/state/val.csv\")"
   ]
  },
  {
   "cell_type": "code",
   "execution_count": 26,
   "metadata": {},
   "outputs": [
    {
     "data": {
      "text/html": [
       "<div>\n",
       "<style scoped>\n",
       "    .dataframe tbody tr th:only-of-type {\n",
       "        vertical-align: middle;\n",
       "    }\n",
       "\n",
       "    .dataframe tbody tr th {\n",
       "        vertical-align: top;\n",
       "    }\n",
       "\n",
       "    .dataframe thead th {\n",
       "        text-align: right;\n",
       "    }\n",
       "</style>\n",
       "<table border=\"1\" class=\"dataframe\">\n",
       "  <thead>\n",
       "    <tr style=\"text-align: right;\">\n",
       "      <th></th>\n",
       "      <th>image</th>\n",
       "      <th>emotion</th>\n",
       "    </tr>\n",
       "  </thead>\n",
       "  <tbody>\n",
       "    <tr>\n",
       "      <th>0</th>\n",
       "      <td>CONTEMPT/contempt (2141)_5254.jpg</td>\n",
       "      <td>1</td>\n",
       "    </tr>\n",
       "    <tr>\n",
       "      <th>1</th>\n",
       "      <td>HAPPINESS/Benicio_Del_Toro_0001_9703.jpg</td>\n",
       "      <td>4</td>\n",
       "    </tr>\n",
       "    <tr>\n",
       "      <th>2</th>\n",
       "      <td>SADNESS/sadness (2166)_754.jpg</td>\n",
       "      <td>6</td>\n",
       "    </tr>\n",
       "    <tr>\n",
       "      <th>3</th>\n",
       "      <td>CONTEMPT/contempt (962)_2168.jpg</td>\n",
       "      <td>1</td>\n",
       "    </tr>\n",
       "    <tr>\n",
       "      <th>4</th>\n",
       "      <td>HAPPINESS/Vanessa_Redgrave_0005_4052.jpg</td>\n",
       "      <td>4</td>\n",
       "    </tr>\n",
       "    <tr>\n",
       "      <th>...</th>\n",
       "      <td>...</td>\n",
       "      <td>...</td>\n",
       "    </tr>\n",
       "    <tr>\n",
       "      <th>13892</th>\n",
       "      <td>ANGER/anger (5299)_7589.jpg</td>\n",
       "      <td>0</td>\n",
       "    </tr>\n",
       "    <tr>\n",
       "      <th>13893</th>\n",
       "      <td>SURPRISE/surprise (6034)_8094.jpg</td>\n",
       "      <td>7</td>\n",
       "    </tr>\n",
       "    <tr>\n",
       "      <th>13894</th>\n",
       "      <td>HAPPINESS/happiness (3963)_5754.jpg</td>\n",
       "      <td>4</td>\n",
       "    </tr>\n",
       "    <tr>\n",
       "      <th>13895</th>\n",
       "      <td>HAPPINESS/happiness (279)_5040.jpg</td>\n",
       "      <td>4</td>\n",
       "    </tr>\n",
       "    <tr>\n",
       "      <th>13896</th>\n",
       "      <td>HAPPINESS/Abner_Martinez_0001_8698.jpg</td>\n",
       "      <td>4</td>\n",
       "    </tr>\n",
       "  </tbody>\n",
       "</table>\n",
       "<p>13897 rows × 2 columns</p>\n",
       "</div>"
      ],
      "text/plain": [
       "                                          image  emotion\n",
       "0             CONTEMPT/contempt (2141)_5254.jpg        1\n",
       "1      HAPPINESS/Benicio_Del_Toro_0001_9703.jpg        4\n",
       "2                SADNESS/sadness (2166)_754.jpg        6\n",
       "3              CONTEMPT/contempt (962)_2168.jpg        1\n",
       "4      HAPPINESS/Vanessa_Redgrave_0005_4052.jpg        4\n",
       "...                                         ...      ...\n",
       "13892               ANGER/anger (5299)_7589.jpg        0\n",
       "13893         SURPRISE/surprise (6034)_8094.jpg        7\n",
       "13894       HAPPINESS/happiness (3963)_5754.jpg        4\n",
       "13895        HAPPINESS/happiness (279)_5040.jpg        4\n",
       "13896    HAPPINESS/Abner_Martinez_0001_8698.jpg        4\n",
       "\n",
       "[13897 rows x 2 columns]"
      ]
     },
     "execution_count": 26,
     "metadata": {},
     "output_type": "execute_result"
    }
   ],
   "source": [
    "n_df"
   ]
  },
  {
   "cell_type": "code",
   "execution_count": 27,
   "metadata": {},
   "outputs": [],
   "source": [
    "for idx, row in df.iterrows():\n",
    "    imagePath = cwd + \"/cleaned_images/\" + row.image\n",
    "    image = cv2.imread(imagePath)\n",
    "\n",
    "emo_feature = list(row.emotion for idx, row in df.iterrows())"
   ]
  },
  {
   "cell_type": "code",
   "execution_count": 28,
   "metadata": {},
   "outputs": [
    {
     "data": {
      "text/plain": [
       "'\\nimport matplotlib.pyplot as plt\\nfrom sklearn import preprocessing\\nfrom sklearn.model_selection import StratifiedKFold\\nfrom sklearn.metrics import RocCurveDisplay\\nfrom sklearn.metrics import auc\\n\\ndictionary = [\\'ANGER\\', \\'CONTEMPT\\', \\'DISGUST\\', \\'FEAR\\', \\'HAPPINESS\\',  \\'NEUTRAL\\', \\'SADNESS\\', \\'SURPRISE\\']\\n\\nfor idx in range(len(dictionary)):\\n    print(dictionary[idx])\\n\\n    emo_feature = np.copy(X_train)\\n    emo_target = list(label[idx] for label in y_train)\\n    emo_target = np.array(emo_target)\\n\\n    X = emo_feature\\n    y = emo_target\\n\\n    history = []\\n    tprs = []\\n    aucs = []\\n    mean_fpr = np.linspace(0, 1, 100)\\n    fig, ax = plt.subplots()\\n\\n    # plot ROC curves\\n    cv = StratifiedKFold(n_splits=5, shuffle=True)\\n    for i, (train, val) in enumerate(cv.split(X, y)):\\n        X_train_kf, X_val_kf = X[train], X[val]\\n        y_train_kf, y_val_kf = y[train], y[val]\\n\\n        le = preprocessing.LabelEncoder()\\n        y_train_kf = to_categorical(y_train_kf)\\n        y_val_kf = to_categorical(y_val_kf)\\n\\n        model = create_model_best_param(best_params, 2)\\n        model.fit(X_train_kf,\\n                    y_train_kf,\\n                    validation_data=(X_val_kf, y_val_kf,),\\n                    batch_size=best_params[\\'batch_size\\'],\\n                    epochs=best_params[\"epochs\"],\\n                    verbose=2)\\n\\n        # predict\\n        y_pred = model.predict(X_val_kf).ravel()\\n        y_val_kf = y_val_kf.ravel()\\n\\n        print(\\'====================Fold \\', i , \\'====================\\')\\n\\n        # plot ROC curve\\n        viz = RocCurveDisplay.from_predictions(y_val_kf, y_pred, ax=ax, name=\"ROC fold {}\".format(i), alpha=0.3, lw=1,)\\n        interp_tpr = np.interp(mean_fpr, viz.fpr, viz.tpr)\\n        interp_tpr[0] = 0.0\\n        tprs.append(interp_tpr)\\n        aucs.append(viz.roc_auc)\\n\\n    # middle line\\n    ax.plot([0, 1], [0, 1], \\'k--\\')\\n\\n    # mean line\\n    mean_tpr = np.mean(tprs, axis=0)\\n    mean_tpr[-1] = 1.0\\n    mean_auc = auc(mean_fpr, mean_tpr)\\n    std_auc = np.std(aucs)\\n    ax.plot(\\n        mean_fpr,\\n        mean_tpr,\\n        color=\"b\",\\n        label=r\"Mean ROC (AUC = %0.2f $\\\\pm$ %0.2f)\" % (mean_auc, std_auc),\\n        lw=2,\\n        alpha=0.8,\\n    )\\n\\n    # std\\n    std_tpr = np.std(tprs, axis=0)\\n    tprs_upper = np.minimum(mean_tpr + std_tpr, 1)\\n    tprs_lower = np.maximum(mean_tpr - std_tpr, 0)\\n    ax.fill_between(\\n        mean_fpr,\\n        tprs_lower,\\n        tprs_upper,\\n        color=\"grey\",\\n        alpha=0.2,\\n        label=r\"$\\\\pm$ 1 std. dev.\",\\n    )\\n\\n    ax.set(xlim=[-0.05, 1.05],\\n            ylim=[-0.05, 1.05],\\n            title=\"Receiver operating characteristic\")\\n    ax.legend(loc=\"lower right\")\\n    plt.xlabel(\"False Positive Rate\")\\n    plt.ylabel(\"True Positive Rate\")\\n    plt.savefig(cwd + \\'/../graph/\\' + dictionary[idx] + \\'/ann_relu.jpg\\')\\n    plt.show()\\n'"
      ]
     },
     "execution_count": 28,
     "metadata": {},
     "output_type": "execute_result"
    }
   ],
   "source": [
    "'''\n",
    "import matplotlib.pyplot as plt\n",
    "from sklearn import preprocessing\n",
    "from sklearn.model_selection import StratifiedKFold\n",
    "from sklearn.metrics import RocCurveDisplay\n",
    "from sklearn.metrics import auc\n",
    "\n",
    "dictionary = ['ANGER', 'CONTEMPT', 'DISGUST', 'FEAR', 'HAPPINESS',  'NEUTRAL', 'SADNESS', 'SURPRISE']\n",
    "\n",
    "for idx in range(len(dictionary)):\n",
    "    print(dictionary[idx])\n",
    "\n",
    "    emo_feature = np.copy(X_train)\n",
    "    emo_target = list(label[idx] for label in y_train)\n",
    "    emo_target = np.array(emo_target)\n",
    "\n",
    "    X = emo_feature\n",
    "    y = emo_target\n",
    "\n",
    "    history = []\n",
    "    tprs = []\n",
    "    aucs = []\n",
    "    mean_fpr = np.linspace(0, 1, 100)\n",
    "    fig, ax = plt.subplots()\n",
    "\n",
    "    # plot ROC curves\n",
    "    cv = StratifiedKFold(n_splits=5, shuffle=True)\n",
    "    for i, (train, val) in enumerate(cv.split(X, y)):\n",
    "        X_train_kf, X_val_kf = X[train], X[val]\n",
    "        y_train_kf, y_val_kf = y[train], y[val]\n",
    "\n",
    "        le = preprocessing.LabelEncoder()\n",
    "        y_train_kf = to_categorical(y_train_kf)\n",
    "        y_val_kf = to_categorical(y_val_kf)\n",
    "\n",
    "        model = create_model_best_param(best_params, 2)\n",
    "        model.fit(X_train_kf,\n",
    "                    y_train_kf,\n",
    "                    validation_data=(X_val_kf, y_val_kf,),\n",
    "                    batch_size=best_params['batch_size'],\n",
    "                    epochs=best_params[\"epochs\"],\n",
    "                    verbose=2)\n",
    "\n",
    "        # predict\n",
    "        y_pred = model.predict(X_val_kf).ravel()\n",
    "        y_val_kf = y_val_kf.ravel()\n",
    "\n",
    "        print('====================Fold ', i , '====================')\n",
    "\n",
    "        # plot ROC curve\n",
    "        viz = RocCurveDisplay.from_predictions(y_val_kf, y_pred, ax=ax, name=\"ROC fold {}\".format(i), alpha=0.3, lw=1,)\n",
    "        interp_tpr = np.interp(mean_fpr, viz.fpr, viz.tpr)\n",
    "        interp_tpr[0] = 0.0\n",
    "        tprs.append(interp_tpr)\n",
    "        aucs.append(viz.roc_auc)\n",
    "\n",
    "    # middle line\n",
    "    ax.plot([0, 1], [0, 1], 'k--')\n",
    "\n",
    "    # mean line\n",
    "    mean_tpr = np.mean(tprs, axis=0)\n",
    "    mean_tpr[-1] = 1.0\n",
    "    mean_auc = auc(mean_fpr, mean_tpr)\n",
    "    std_auc = np.std(aucs)\n",
    "    ax.plot(\n",
    "        mean_fpr,\n",
    "        mean_tpr,\n",
    "        color=\"b\",\n",
    "        label=r\"Mean ROC (AUC = %0.2f $\\pm$ %0.2f)\" % (mean_auc, std_auc),\n",
    "        lw=2,\n",
    "        alpha=0.8,\n",
    "    )\n",
    "\n",
    "    # std\n",
    "    std_tpr = np.std(tprs, axis=0)\n",
    "    tprs_upper = np.minimum(mean_tpr + std_tpr, 1)\n",
    "    tprs_lower = np.maximum(mean_tpr - std_tpr, 0)\n",
    "    ax.fill_between(\n",
    "        mean_fpr,\n",
    "        tprs_lower,\n",
    "        tprs_upper,\n",
    "        color=\"grey\",\n",
    "        alpha=0.2,\n",
    "        label=r\"$\\pm$ 1 std. dev.\",\n",
    "    )\n",
    "\n",
    "    ax.set(xlim=[-0.05, 1.05],\n",
    "            ylim=[-0.05, 1.05],\n",
    "            title=\"Receiver operating characteristic\")\n",
    "    ax.legend(loc=\"lower right\")\n",
    "    plt.xlabel(\"False Positive Rate\")\n",
    "    plt.ylabel(\"True Positive Rate\")\n",
    "    plt.savefig(cwd + '/../graph/' + dictionary[idx] + '/ann_relu.jpg')\n",
    "    plt.show()\n",
    "'''"
   ]
  },
  {
   "cell_type": "code",
   "execution_count": 42,
   "metadata": {},
   "outputs": [
    {
     "name": "stderr",
     "output_type": "stream",
     "text": [
      "C:\\Users\\thanapat\\AppData\\Local\\Temp\\ipykernel_42068\\2248922548.py:11: UserWarning: `Model.predict_generator` is deprecated and will be removed in a future version. Please use `Model.predict`, which supports generators.\n",
      "  Y_pred = model.predict_generator(test_generator)\n"
     ]
    },
    {
     "name": "stdout",
     "output_type": "stream",
     "text": [
      "Confusion Matrix\n"
     ]
    },
    {
     "data": {
      "image/png": "[encoded data removed]",
      "text/plain": [
       "<Figure size 720x720 with 2 Axes>"
      ]
     },
     "metadata": {
      "needs_background": "light"
     },
     "output_type": "display_data"
    }
   ],
   "source": [
    "# test model\n",
    "# Confution Matrix and Classification Report\n",
    "\n",
    "from sklearn.metrics import ConfusionMatrixDisplay\n",
    "from sklearn.metrics import confusion_matrix\n",
    "from sklearn.metrics import classification_report\n",
    "\n",
    "\n",
    "dictionary = ['ANGER', 'CONTEMPT', 'DISGUST', 'FEAR', 'HAPPINESS',  'NEUTRAL', 'SADNESS', 'SURPRISE']\n",
    "\n",
    "Y_pred = model.predict_generator(test_generator)\n",
    "y_pred = np.argmax(Y_pred, axis=1)\n",
    "print('Confusion Matrix')\n",
    "cm = confusion_matrix(test_generator.classes, y_pred)\n",
    "disp = ConfusionMatrixDisplay(confusion_matrix=cm, display_labels=dictionary)\n",
    "fig, ax = plt.subplots(figsize=(10,10))\n",
    "disp.plot(ax=ax)\n",
    "#plt.savefig('evaluate_matrix_embedded_2/gnb_f.png',backend=None)\n",
    "plt.show()\n",
    "\n"
   ]
  }
 ],
 "metadata": {
  "interpreter": {
   "hash": "7d589e90ec537c265ab572b59aaa85a543be00a0260fb837ae92fb8eef7bec48"
  },
  "kernelspec": {
   "display_name": "Python 3.8.5 64-bit",
   "language": "python",
   "name": "python3"
  },
  "language_info": {
   "codemirror_mode": {
    "name": "ipython",
    "version": 3
   },
   "file_extension": ".py",
   "mimetype": "text/x-python",
   "name": "python",
   "nbconvert_exporter": "python",
   "pygments_lexer": "ipython3",
   "version": "3.8.5"
  },
  "orig_nbformat": 4
 },
 "nbformat": 4,
 "nbformat_minor": 2
}
