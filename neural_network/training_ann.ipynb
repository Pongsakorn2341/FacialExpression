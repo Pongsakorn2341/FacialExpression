{
 "cells": [
  {
   "cell_type": "code",
   "execution_count": 56,
   "metadata": {},
   "outputs": [],
   "source": [
    "import keras\n",
    "from keras.models import Sequential\n",
    "from keras.layers import Dense\n",
    "from tensorflow.keras.utils import to_categorical\n",
    "from keras.layers import Dropout"
   ]
  },
  {
   "cell_type": "code",
   "execution_count": 22,
   "metadata": {},
   "outputs": [],
   "source": [
    "from sklearn.metrics import classification_report \n",
    "from sklearn.metrics import f1_score ,accuracy_score"
   ]
  },
  {
   "cell_type": "code",
   "execution_count": 49,
   "metadata": {},
   "outputs": [],
   "source": [
    "import cv2, imutils\n",
    "def extract_color_histogram(image, bins=(8, 8, 8)):\n",
    "    hsv = cv2.cvtColor(image, cv2.COLOR_BGR2HSV)\n",
    "    hist = cv2.calcHist([hsv], [0, 1, 2], None, bins,\n",
    "    [0, 180, 0, 256, 0, 256])\n",
    "    if imutils.is_cv2():\n",
    "        hist = cv2.normalize(hist)\n",
    "    else:\n",
    "        cv2.normalize(hist, hist)\n",
    "    return hist.flatten()"
   ]
  },
  {
   "cell_type": "code",
   "execution_count": 24,
   "metadata": {},
   "outputs": [
    {
     "name": "stdout",
     "output_type": "stream",
     "text": [
      "c:\\Users\\Pongsakorn\\OneDrive\\Desktop\\Working\\FacialLandMarks\\facial_cleandata\\neural_network\n",
      "                                 image   emotion\n",
      "0      facial-expressions_2868588k.jpg     anger\n",
      "1      facial-expressions_2868585k.jpg  surprise\n",
      "2      facial-expressions_2868584k.jpg   disgust\n",
      "3      facial-expressions_2868582k.jpg      fear\n",
      "4               Aaron_Eckhart_0001.jpg   neutral\n",
      "...                                ...       ...\n",
      "34670      SURPRISE/surprise (988).jpg  SURPRISE\n",
      "34671       SURPRISE/surprise (99).jpg  SURPRISE\n",
      "34672      SURPRISE/surprise (993).jpg  SURPRISE\n",
      "34673      SURPRISE/surprise (994).png  SURPRISE\n",
      "34674      SURPRISE/surprise (996).jpg  SURPRISE\n",
      "\n",
      "[34675 rows x 2 columns]\n"
     ]
    }
   ],
   "source": [
    "import os\n",
    "import pandas as pd\n",
    "cwd = os.getcwd()\n",
    "print(cwd)\n",
    "df = pd.read_csv(cwd + \"\\\\..\\\\data_csv\\\\all_data.csv\")\n",
    "print(df)"
   ]
  },
  {
   "cell_type": "code",
   "execution_count": 50,
   "metadata": {},
   "outputs": [
    {
     "name": "stdout",
     "output_type": "stream",
     "text": [
      "[INFO] processed 1000/34675\n",
      "[INFO] processed 2000/34675\n",
      "[INFO] processed 3000/34675\n",
      "[INFO] processed 4000/34675\n",
      "[INFO] processed 5000/34675\n",
      "[INFO] processed 6000/34675\n",
      "[INFO] processed 7000/34675\n",
      "[INFO] processed 8000/34675\n",
      "[INFO] processed 9000/34675\n",
      "[INFO] processed 10000/34675\n",
      "[INFO] processed 11000/34675\n",
      "[INFO] processed 12000/34675\n",
      "[INFO] processed 13000/34675\n",
      "[INFO] processed 14000/34675\n",
      "[INFO] processed 15000/34675\n",
      "[INFO] processed 16000/34675\n",
      "[INFO] processed 17000/34675\n",
      "[INFO] processed 18000/34675\n",
      "[INFO] processed 19000/34675\n",
      "[INFO] processed 20000/34675\n",
      "[INFO] processed 21000/34675\n",
      "[INFO] processed 22000/34675\n",
      "[INFO] processed 23000/34675\n",
      "[INFO] processed 24000/34675\n",
      "[INFO] processed 25000/34675\n",
      "[INFO] processed 26000/34675\n",
      "[INFO] processed 27000/34675\n",
      "[INFO] processed 28000/34675\n",
      "[INFO] processed 29000/34675\n",
      "[INFO] processed 30000/34675\n",
      "[INFO] processed 31000/34675\n",
      "[INFO] processed 32000/34675\n",
      "[INFO] processed 33000/34675\n",
      "[INFO] processed 34000/34675\n"
     ]
    }
   ],
   "source": [
    "raw_images =  []\n",
    "labels = []\n",
    "for i, row in df.iterrows():\n",
    "    image_path = row['image']\n",
    "    label = row['emotion']\n",
    "    full_image_path = os.path.dirname(cwd) + \"\\\\cleaned_images\\\\\" + image_path\n",
    "    image = cv2.imread(full_image_path)\n",
    "    pixels = extract_color_histogram(image)\n",
    "\n",
    "    raw_images.append(pixels)\n",
    "    labels.append(label)\n",
    "    if i > 0 and i % 1000 == 0: print('[INFO] processed {}/{}'.format(i, len(df)))"
   ]
  },
  {
   "cell_type": "code",
   "execution_count": 51,
   "metadata": {},
   "outputs": [],
   "source": [
    "from sklearn.model_selection import train_test_split\n",
    "import numpy as np\n",
    "X_train, X_test, y_train, y_test = train_test_split(np.array(raw_images), np.array(labels), random_state=1)\n",
    "X_train, X_val, y_train, y_val = train_test_split(X_train, y_train, test_size=0.25, random_state=1)\n"
   ]
  },
  {
   "cell_type": "code",
   "execution_count": 58,
   "metadata": {},
   "outputs": [],
   "source": [
    "from sklearn import preprocessing\n",
    "le = preprocessing.LabelEncoder()\n",
    "le.fit(y_train)\n",
    "y_train = le.transform(y_train)\n",
    "y_test = le.transform(y_test)\n",
    "y_val = le.transform(y_val)\n",
    "y_train = to_categorical(y_train)\n",
    "y_test = to_categorical(y_test)\n",
    "y_val = to_categorical(y_val)"
   ]
  },
  {
   "cell_type": "code",
   "execution_count": 63,
   "metadata": {},
   "outputs": [],
   "source": [
    "import tensorflow as tf\n",
    "def classification_model():\n",
    "    model = Sequential()\n",
    "    model.add(Dense(124, activation='relu', input_shape=(X_train.shape[1],)))\n",
    "    model.add(Dropout(0.2))\n",
    "    model.add(Dense(124, activation='relu'))\n",
    "    model.add(Dropout(0.2)) \n",
    "    model.add(Dense(32, activation='relu'))\n",
    "    model.add(Dense(y_train.shape[1], activation='softmax'))\n",
    "    opt = tf.keras.optimizers.Adam(lr=0.0001, decay=1e-6)\n",
    "    model.compile(optimizer=opt, loss='categorical_crossentropy', metrics=['accuracy'])\n",
    "    return model"
   ]
  },
  {
   "cell_type": "code",
   "execution_count": 66,
   "metadata": {},
   "outputs": [
    {
     "name": "stdout",
     "output_type": "stream",
     "text": [
      "Epoch 1/10\n",
      "610/610 - 2s - loss: 2.5263 - accuracy: 0.1371 - val_loss: 2.3122 - val_accuracy: 0.1913 - 2s/epoch - 3ms/step\n",
      "Epoch 2/10\n",
      "610/610 - 1s - loss: 2.2839 - accuracy: 0.1679 - val_loss: 2.2447 - val_accuracy: 0.2019 - 1s/epoch - 2ms/step\n",
      "Epoch 3/10\n",
      "610/610 - 1s - loss: 2.2485 - accuracy: 0.1803 - val_loss: 2.2254 - val_accuracy: 0.1959 - 1s/epoch - 2ms/step\n",
      "Epoch 4/10\n",
      "610/610 - 1s - loss: 2.2329 - accuracy: 0.1886 - val_loss: 2.2172 - val_accuracy: 0.2053 - 1s/epoch - 2ms/step\n",
      "Epoch 5/10\n",
      "610/610 - 1s - loss: 2.2272 - accuracy: 0.1885 - val_loss: 2.2123 - val_accuracy: 0.2032 - 1s/epoch - 2ms/step\n",
      "Epoch 6/10\n",
      "610/610 - 1s - loss: 2.2210 - accuracy: 0.1943 - val_loss: 2.2094 - val_accuracy: 0.2039 - 1s/epoch - 2ms/step\n",
      "Epoch 7/10\n",
      "610/610 - 1s - loss: 2.2165 - accuracy: 0.1944 - val_loss: 2.2075 - val_accuracy: 0.2062 - 1s/epoch - 2ms/step\n",
      "Epoch 8/10\n",
      "610/610 - 1s - loss: 2.2129 - accuracy: 0.1934 - val_loss: 2.2053 - val_accuracy: 0.2070 - 1s/epoch - 2ms/step\n",
      "Epoch 9/10\n",
      "610/610 - 1s - loss: 2.2110 - accuracy: 0.1950 - val_loss: 2.2031 - val_accuracy: 0.2052 - 1s/epoch - 2ms/step\n",
      "Epoch 10/10\n",
      "610/610 - 1s - loss: 2.2084 - accuracy: 0.1972 - val_loss: 2.2011 - val_accuracy: 0.2059 - 1s/epoch - 2ms/step\n"
     ]
    },
    {
     "data": {
      "text/plain": [
       "<keras.callbacks.History at 0x20e21182b80>"
      ]
     },
     "execution_count": 66,
     "metadata": {},
     "output_type": "execute_result"
    }
   ],
   "source": [
    "model = classification_model()\n",
    "model.fit(X_train, y_train, validation_data=(X_val, y_val,), epochs=10, verbose=2)"
   ]
  },
  {
   "cell_type": "code",
   "execution_count": 67,
   "metadata": {},
   "outputs": [],
   "source": [
    "value = model.predict(X_test)\n",
    "y_pred =np.argmax(value,axis=1)\n",
    "y_true = np.argmax(y_test,axis=1)"
   ]
  },
  {
   "cell_type": "code",
   "execution_count": 68,
   "metadata": {},
   "outputs": [
    {
     "name": "stdout",
     "output_type": "stream",
     "text": [
      "              precision    recall  f1-score   support\n",
      "\n",
      "           0       0.00      0.00      0.00       579\n",
      "           1       0.00      0.00      0.00       536\n",
      "           2       0.00      0.00      0.00       636\n",
      "           3       0.23      0.07      0.11       641\n",
      "           4       0.15      0.15      0.15      1120\n",
      "           5       0.18      0.37      0.24      1164\n",
      "           6       0.16      0.01      0.02       741\n",
      "           7       0.19      0.20      0.20       803\n",
      "           8       0.00      0.00      0.00        46\n",
      "           9       0.00      0.00      0.00         3\n",
      "          10       0.00      0.00      0.00         3\n",
      "          11       0.00      0.00      0.00         3\n",
      "          12       0.00      0.00      0.00      1066\n",
      "          13       0.23      0.74      0.35      1249\n",
      "          14       0.00      0.00      0.00        17\n",
      "          15       0.00      0.00      0.00        62\n",
      "\n",
      "    accuracy                           0.20      8669\n",
      "   macro avg       0.07      0.10      0.07      8669\n",
      "weighted avg       0.13      0.20      0.13      8669\n",
      "\n"
     ]
    },
    {
     "name": "stderr",
     "output_type": "stream",
     "text": [
      "C:\\Python39\\lib\\site-packages\\sklearn\\metrics\\_classification.py:1318: UndefinedMetricWarning: Precision and F-score are ill-defined and being set to 0.0 in labels with no predicted samples. Use `zero_division` parameter to control this behavior.\n",
      "  _warn_prf(average, modifier, msg_start, len(result))\n",
      "C:\\Python39\\lib\\site-packages\\sklearn\\metrics\\_classification.py:1318: UndefinedMetricWarning: Precision and F-score are ill-defined and being set to 0.0 in labels with no predicted samples. Use `zero_division` parameter to control this behavior.\n",
      "  _warn_prf(average, modifier, msg_start, len(result))\n",
      "C:\\Python39\\lib\\site-packages\\sklearn\\metrics\\_classification.py:1318: UndefinedMetricWarning: Precision and F-score are ill-defined and being set to 0.0 in labels with no predicted samples. Use `zero_division` parameter to control this behavior.\n",
      "  _warn_prf(average, modifier, msg_start, len(result))\n"
     ]
    }
   ],
   "source": [
    "print(classification_report(y_true,y_pred))"
   ]
  }
 ],
 "metadata": {
  "interpreter": {
   "hash": "63fd5069d213b44bf678585dea6b12cceca9941eaf7f819626cde1f2670de90d"
  },
  "kernelspec": {
   "display_name": "Python 3.9.1 64-bit",
   "language": "python",
   "name": "python3"
  },
  "language_info": {
   "codemirror_mode": {
    "name": "ipython",
    "version": 3
   },
   "file_extension": ".py",
   "mimetype": "text/x-python",
   "name": "python",
   "nbconvert_exporter": "python",
   "pygments_lexer": "ipython3",
   "version": "3.9.1"
  },
  "orig_nbformat": 4
 },
 "nbformat": 4,
 "nbformat_minor": 2
}
