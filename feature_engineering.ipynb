{
 "cells": [
  {
   "cell_type": "code",
   "execution_count": 4,
   "metadata": {},
   "outputs": [],
   "source": [
    "import pandas as pd\n",
    "import numpy as np\n",
    "import os\n",
    "\n",
    "# read preprocessed data\n",
    "cwd = os.getcwd()\n",
    "df = pd.read_csv(cwd + \"/data_csv/preprocessing_data.csv\", index_col=[0])"
   ]
  },
  {
   "cell_type": "code",
   "execution_count": 5,
   "metadata": {},
   "outputs": [],
   "source": [
    "def get_distance(fist_point, second_point):\n",
    "    distance =  math.sqrt(math.pow(fist_point[0] - second_point[0], 2) + math.pow(fist_point[1] - second_point[1], 2))\n",
    "    return abs(distance)"
   ]
  },
  {
   "cell_type": "code",
   "execution_count": 6,
   "metadata": {},
   "outputs": [
    {
     "name": "stderr",
     "output_type": "stream",
     "text": [
      "[ WARN:0@120.923] global /Users/runner/work/opencv-python/opencv-python/opencv/modules/imgcodecs/src/loadsave.cpp (239) findDecoder imread_('/Users/pongsakorn/Desktop/Workspace/python/facial_expression_test/cleaned_images/David_Nalbandian_0006.jpg'): can't open/read file: check file path/integrity\n"
     ]
    },
    {
     "ename": "TypeError",
     "evalue": "__call__(): incompatible function arguments. The following argument types are supported:\n    1. (self: _dlib_pybind11.fhog_object_detector, image: array, upsample_num_times: int=0) -> _dlib_pybind11.rectangles\n\nInvoked with: <_dlib_pybind11.fhog_object_detector object at 0x13cbd0130>, None, 0",
     "output_type": "error",
     "traceback": [
      "\u001b[0;31m---------------------------------------------------------------------------\u001b[0m",
      "\u001b[0;31mTypeError\u001b[0m                                 Traceback (most recent call last)",
      "\u001b[1;32m/Users/pongsakorn/Desktop/Workspace/python/facial_expression_test/feature_engineering.ipynb Cell 3'\u001b[0m in \u001b[0;36m<module>\u001b[0;34m\u001b[0m\n\u001b[1;32m     <a href='vscode-notebook-cell:/Users/pongsakorn/Desktop/Workspace/python/facial_expression_test/feature_engineering.ipynb#ch0000002?line=17'>18</a>\u001b[0m \u001b[39mexcept\u001b[39;00m:\n\u001b[1;32m     <a href='vscode-notebook-cell:/Users/pongsakorn/Desktop/Workspace/python/facial_expression_test/feature_engineering.ipynb#ch0000002?line=18'>19</a>\u001b[0m     \u001b[39mcontinue\u001b[39;00m\n\u001b[0;32m---> <a href='vscode-notebook-cell:/Users/pongsakorn/Desktop/Workspace/python/facial_expression_test/feature_engineering.ipynb#ch0000002?line=20'>21</a>\u001b[0m rects \u001b[39m=\u001b[39m detector(image, \u001b[39m0\u001b[39;49m)\n\u001b[1;32m     <a href='vscode-notebook-cell:/Users/pongsakorn/Desktop/Workspace/python/facial_expression_test/feature_engineering.ipynb#ch0000002?line=22'>23</a>\u001b[0m \u001b[39mif\u001b[39;00m \u001b[39mlen\u001b[39m(rects) \u001b[39m==\u001b[39m \u001b[39m0\u001b[39m:\n\u001b[1;32m     <a href='vscode-notebook-cell:/Users/pongsakorn/Desktop/Workspace/python/facial_expression_test/feature_engineering.ipynb#ch0000002?line=23'>24</a>\u001b[0m     error\u001b[39m.\u001b[39mappend(row\u001b[39m.\u001b[39mimage)\n",
      "\u001b[0;31mTypeError\u001b[0m: __call__(): incompatible function arguments. The following argument types are supported:\n    1. (self: _dlib_pybind11.fhog_object_detector, image: array, upsample_num_times: int=0) -> _dlib_pybind11.rectangles\n\nInvoked with: <_dlib_pybind11.fhog_object_detector object at 0x13cbd0130>, None, 0"
     ]
    }
   ],
   "source": [
    "import cv2, math, numpy as np, dlib\n",
    "from imutils import face_utils\n",
    "\n",
    "detector = dlib.get_frontal_face_detector()\n",
    "predictor = dlib.shape_predictor(cwd + \"/predictor/shape_predictor_68_face_landmarks.dat\")\n",
    "\n",
    "error = []\n",
    "mlist = []\n",
    "distlist = []\n",
    "eye_size_list = []\n",
    "eye_brows_list = []\n",
    "# run each row in train.csv\n",
    "for idx, row in df.iterrows():\n",
    "    imagePath = cwd + \"/cleaned_images/\" + row.image\n",
    "    # print(imagePath)\n",
    "    image = cv2.imread(imagePath)\n",
    "\n",
    "    rects = detector(image, 0)\n",
    "\n",
    "    if len(rects) == 0:\n",
    "        error.append(row.image)\n",
    "\n",
    "    xlist = []\n",
    "    ylist = []\n",
    "    # loop over the face detections\n",
    "    for (i, rect) in enumerate(rects):\n",
    "        # determine the facial landmarks and convert the facial landmark (x, y)\n",
    "        shape = predictor(image, rect)\n",
    "        shape = face_utils.shape_to_np(shape)\n",
    "\n",
    "        # loop over coordinates, draw them on the image and store coordinates in two lists\n",
    "        for (x, y) in shape:\n",
    "            cv2.circle(image, (x, y), 2, (0, 255, 0), -1)\n",
    "            xlist.append(x)\n",
    "            ylist.append(y)\n",
    "\n",
    "    # get mean of both axes to determine centre of gravity\n",
    "    xmean = np.mean(xlist) \n",
    "    ymean = np.mean(ylist)\n",
    "\n",
    "    # plot central face on image\n",
    "    cv2.circle(image, (int(xmean), int(ymean)), 1, (0, 255, 0), -1)\n",
    "\n",
    "    # find distance between mouth\n",
    "    # mavg = np.mean([\n",
    "    #     get_distance([xlist[61], ylist[61]], [xlist[65], ylist[65]]) +\n",
    "    #     get_distance([xlist[62], ylist[62]], [xlist[66], ylist[66]]) +\n",
    "    #     get_distance([xlist[63], ylist[63]], [xlist[67], ylist[67]])\n",
    "    # ])\n",
    "    mavg = np.mean([\n",
    "        ylist[61] - ylist[67],\n",
    "        ylist[62] - ylist[66],\n",
    "        ylist[63] - ylist[65]\n",
    "    ])\n",
    "    mlist.append(mavg)\n",
    "\n",
    "    # find distance between left eye\n",
    "    left_eye_avg = np.mean([\n",
    "        get_distance([xlist[37], ylist[37]], [xlist[40], ylist[40]]),\n",
    "        get_distance([xlist[38], ylist[38]], [xlist[41], ylist[41]])\n",
    "    ])\n",
    "\n",
    "    \n",
    "    right_eye_avg = np.mean([\n",
    "        get_distance([xlist[43], ylist[43]], [xlist[46], ylist[46]]),\n",
    "        get_distance([xlist[44], ylist[44]], [xlist[47], ylist[47]])\n",
    "    ])\n",
    "    eye_size_list.append(np.mean([left_eye_avg, right_eye_avg]))\n",
    "\n",
    "\n",
    "    eye_brows = np.mean([\n",
    "        (ylist[24] - ylist[26]),\n",
    "        (ylist[19] - ylist[17])\n",
    "    ])\n",
    "    eye_brows_list.append(eye_brows)\n",
    "\n",
    "    # find distance between every poin to central point\n",
    "    templist = []\n",
    "    for i in range(17, 68):\n",
    "        dist = math.sqrt(math.pow(xlist[i] - xmean, 2) + math.pow(ylist[i] - ymean, 2))\n",
    "        templist.append(dist)\n",
    "    distavg = np.mean(dist)\n",
    "    distlist.append(distavg)\n",
    "  \n",
    "    # show the output image with the face detections + facial landmarks\n",
    "    cv2.imshow(\"Output\", image)# \n",
    "    k = cv2.waitKey(5) & 0xFF\n",
    "    if k == 68:\n",
    "        break\n",
    "\n",
    "print(len(error))"
   ]
  },
  {
   "cell_type": "code",
   "execution_count": null,
   "metadata": {},
   "outputs": [],
   "source": [
    "# add feature to df\n",
    "df['mouth_distance'] = mlist\n",
    "df['average_distance'] = distlist\n",
    "df['eye_brows'] = eye_brows_list\n",
    "df['eye_size'] = eye_size_list\n",
    "\n",
    "# replace string emotion label with integer\n",
    "dictionary = {'emotion':{'HAPPINESS': 0,'NEUTRAL': 1, 'SURPRISE': 2, 'ANGER': 3, 'SADNESS': 4}}\n",
    "df.replace(dictionary, inplace = True)\n",
    "df.to_csv(cwd + \"/data_csv/preprocessing_data.csv\", index=False)"
   ]
  },
  {
   "cell_type": "code",
   "execution_count": null,
   "metadata": {},
   "outputs": [],
   "source": [
    "from matplotlib import pyplot as plt\n",
    "def scree_plot(X, n_components, with_cumulative=False, show_data_label=False, figsize=(10, 7)):\n",
    "    '''\n",
    "    PCA scree plot with cumulative\n",
    "    '''\n",
    "    scaler = StandardScaler()\n",
    "    X_t=scaler.fit_transform(X)\n",
    "\n",
    "    max_components = min(X.shape)\n",
    "    x=np.arange(1, n_components+1)\n",
    "    pca = PCA(n_components=max_components)\n",
    "    pca.fit_transform(X_t)\n",
    "    y1=pca.explained_variance_ratio_[:n_components]\n",
    "    y2=np.cumsum(pca.explained_variance_ratio_)[:n_components]\n",
    "    \n",
    "    plt.figure(figsize=figsize)\n",
    "    \n",
    "    if n_components > 20:\n",
    "        marker = None\n",
    "    else:\n",
    "        marker = 'o'\n",
    "    if with_cumulative:\n",
    "        plt.plot(x, y2, linestyle='--', marker=marker, label='cumulative', color='salmon')\n",
    "        \n",
    "    plt.plot(x, y1, linestyle='-', marker=marker, label='individual', color='deepskyblue')\n",
    "    plt.title('explained variance ratio')\n",
    "    plt.xlabel('Number of components')\n",
    "    plt.ylabel('proportion of variance explained')\n",
    "    plt.legend()\n",
    "    if with_cumulative:\n",
    "        [plt.axhline(y=xl, color='.7', linestyle='--') for xl in [.8, .9, .95, 1]]\n",
    "    plt.grid(axis='x')\n",
    "\n",
    "    if show_data_label:\n",
    "        for n, v, cv in zip(np.nditer(x, flags=['refs_ok']), \n",
    "                            np.nditer(y1, flags=['refs_ok']),\n",
    "                            np.nditer(y2, flags=['refs_ok'])):\n",
    "                plt.text(n+.02, v+.02, f'{v*100:.2f}%', fontsize=10)\n",
    "                if with_cumulative:\n",
    "                    plt.text(n+.02, cv+.02, f'{cv*100:.2f}%', fontsize=10)"
   ]
  },
  {
   "cell_type": "code",
   "execution_count": null,
   "metadata": {},
   "outputs": [
    {
     "data": {
      "text/html": [
       "<div>\n",
       "<style scoped>\n",
       "    .dataframe tbody tr th:only-of-type {\n",
       "        vertical-align: middle;\n",
       "    }\n",
       "\n",
       "    .dataframe tbody tr th {\n",
       "        vertical-align: top;\n",
       "    }\n",
       "\n",
       "    .dataframe thead th {\n",
       "        text-align: right;\n",
       "    }\n",
       "</style>\n",
       "<table border=\"1\" class=\"dataframe\">\n",
       "  <thead>\n",
       "    <tr style=\"text-align: right;\">\n",
       "      <th></th>\n",
       "      <th>average_distance</th>\n",
       "      <th>eye_brows</th>\n",
       "      <th>eye_size</th>\n",
       "      <th>mouth_distance</th>\n",
       "    </tr>\n",
       "  </thead>\n",
       "  <tbody>\n",
       "    <tr>\n",
       "      <th>average_distance</th>\n",
       "      <td>1.000000</td>\n",
       "      <td>0.267317</td>\n",
       "      <td>0.195736</td>\n",
       "      <td>-0.659235</td>\n",
       "    </tr>\n",
       "    <tr>\n",
       "      <th>eye_brows</th>\n",
       "      <td>0.267317</td>\n",
       "      <td>1.000000</td>\n",
       "      <td>0.045189</td>\n",
       "      <td>0.027468</td>\n",
       "    </tr>\n",
       "    <tr>\n",
       "      <th>eye_size</th>\n",
       "      <td>0.195736</td>\n",
       "      <td>0.045189</td>\n",
       "      <td>1.000000</td>\n",
       "      <td>0.096251</td>\n",
       "    </tr>\n",
       "    <tr>\n",
       "      <th>mouth_distance</th>\n",
       "      <td>-0.659235</td>\n",
       "      <td>0.027468</td>\n",
       "      <td>0.096251</td>\n",
       "      <td>1.000000</td>\n",
       "    </tr>\n",
       "  </tbody>\n",
       "</table>\n",
       "</div>"
      ],
      "text/plain": [
       "                  average_distance  eye_brows  eye_size  mouth_distance\n",
       "average_distance          1.000000   0.267317  0.195736       -0.659235\n",
       "eye_brows                 0.267317   1.000000  0.045189        0.027468\n",
       "eye_size                  0.195736   0.045189  1.000000        0.096251\n",
       "mouth_distance           -0.659235   0.027468  0.096251        1.000000"
      ]
     },
     "execution_count": 34,
     "metadata": {},
     "output_type": "execute_result"
    }
   ],
   "source": [
    "X = df[df.columns.difference(['Unnamed: 0', 'emotion', 'image'])]\n",
    "X.corr()"
   ]
  },
  {
   "cell_type": "code",
   "execution_count": null,
   "metadata": {},
   "outputs": [
    {
     "name": "stdout",
     "output_type": "stream",
     "text": [
      "(4, 4)\n"
     ]
    },
    {
     "data": {
      "text/html": [
       "<style type=\"text/css\">\n",
       "#T_6c512_row0_col0, #T_6c512_row1_col1, #T_6c512_row1_col2, #T_6c512_row2_col1 {\n",
       "  background-color: gray;\n",
       "}\n",
       "#T_6c512_row0_col1, #T_6c512_row0_col2, #T_6c512_row0_col3, #T_6c512_row1_col0, #T_6c512_row1_col3, #T_6c512_row2_col0, #T_6c512_row2_col2, #T_6c512_row2_col3, #T_6c512_row3_col0, #T_6c512_row3_col1, #T_6c512_row3_col2, #T_6c512_row3_col3 {\n",
       "  background-color: dark-white;\n",
       "}\n",
       "</style>\n",
       "<table id=\"T_6c512\">\n",
       "  <thead>\n",
       "    <tr>\n",
       "      <th class=\"blank level0\" >&nbsp;</th>\n",
       "      <th id=\"T_6c512_level0_col0\" class=\"col_heading level0 col0\" >PC1</th>\n",
       "      <th id=\"T_6c512_level0_col1\" class=\"col_heading level0 col1\" >PC2</th>\n",
       "      <th id=\"T_6c512_level0_col2\" class=\"col_heading level0 col2\" >PC3</th>\n",
       "      <th id=\"T_6c512_level0_col3\" class=\"col_heading level0 col3\" >PC4</th>\n",
       "    </tr>\n",
       "  </thead>\n",
       "  <tbody>\n",
       "    <tr>\n",
       "      <th id=\"T_6c512_level0_row0\" class=\"row_heading level0 row0\" >average_distance</th>\n",
       "      <td id=\"T_6c512_row0_col0\" class=\"data row0 col0\" >0.717700</td>\n",
       "      <td id=\"T_6c512_row0_col1\" class=\"data row0 col1\" >0.057600</td>\n",
       "      <td id=\"T_6c512_row0_col2\" class=\"data row0 col2\" >-0.053500</td>\n",
       "      <td id=\"T_6c512_row0_col3\" class=\"data row0 col3\" >-0.691900</td>\n",
       "    </tr>\n",
       "    <tr>\n",
       "      <th id=\"T_6c512_level0_row1\" class=\"row_heading level0 row1\" >eye_brows</th>\n",
       "      <td id=\"T_6c512_row1_col0\" class=\"data row1 col0\" >0.252500</td>\n",
       "      <td id=\"T_6c512_row1_col1\" class=\"data row1 col1\" >0.550700</td>\n",
       "      <td id=\"T_6c512_row1_col2\" class=\"data row1 col2\" >0.755500</td>\n",
       "      <td id=\"T_6c512_row1_col3\" class=\"data row1 col3\" >0.249400</td>\n",
       "    </tr>\n",
       "    <tr>\n",
       "      <th id=\"T_6c512_level0_row2\" class=\"row_heading level0 row2\" >eye_size</th>\n",
       "      <td id=\"T_6c512_row2_col0\" class=\"data row2 col0\" >0.127100</td>\n",
       "      <td id=\"T_6c512_row2_col1\" class=\"data row2 col1\" >0.715300</td>\n",
       "      <td id=\"T_6c512_row2_col2\" class=\"data row2 col2\" >-0.643500</td>\n",
       "      <td id=\"T_6c512_row2_col3\" class=\"data row2 col3\" >0.241100</td>\n",
       "    </tr>\n",
       "    <tr>\n",
       "      <th id=\"T_6c512_level0_row3\" class=\"row_heading level0 row3\" >mouth_distance</th>\n",
       "      <td id=\"T_6c512_row3_col0\" class=\"data row3 col0\" >-0.636400</td>\n",
       "      <td id=\"T_6c512_row3_col1\" class=\"data row3 col1\" >0.426300</td>\n",
       "      <td id=\"T_6c512_row3_col2\" class=\"data row3 col2\" >0.111000</td>\n",
       "      <td id=\"T_6c512_row3_col3\" class=\"data row3 col3\" >-0.633200</td>\n",
       "    </tr>\n",
       "  </tbody>\n",
       "</table>\n"
      ],
      "text/plain": [
       "<pandas.io.formats.style.Styler at 0x15ded6940>"
      ]
     },
     "execution_count": 35,
     "metadata": {},
     "output_type": "execute_result"
    },
    {
     "data": {
      "image/png": "[encoded data removed]",
      "text/plain": [
       "<Figure size 1440x504 with 1 Axes>"
      ]
     },
     "metadata": {
      "needs_background": "light"
     },
     "output_type": "display_data"
    }
   ],
   "source": [
    "# Plot PCA Graph\n",
    "\n",
    "from sklearn.decomposition import PCA\n",
    "from sklearn.preprocessing import StandardScaler\n",
    "\n",
    "scaler = StandardScaler()\n",
    "pca = PCA(n_components=4)\n",
    "X_t = scaler.fit_transform(X)\n",
    "pca.fit_transform(X_t)\n",
    "scree_plot(X, 4, True, True, (20 , 7))\n",
    "cols=['average_distance', 'eye_brows', 'eye_size', 'mouth_distance']\n",
    "print(pca.components_.shape)\n",
    "dpc=pd.DataFrame(pca.components_.T, \n",
    "                  index=cols, \n",
    "                  columns=[f'PC{n+1}' for n in range(pca.components_.shape[0])]).round(4) #Eigenvectors\n",
    "                  \n",
    "# dpc\n",
    "dpc.style.applymap(lambda e: 'background-color: gray' if e > .5 else 'background-color: dark-white')"
   ]
  }
 ],
 "metadata": {
  "interpreter": {
   "hash": "4d02cdae7faed44485a20a1dfe89a6c1f0576f684e5ae49a964539fc51d957e1"
  },
  "kernelspec": {
   "display_name": "Python 3.8.2 64-bit",
   "language": "python",
   "name": "python3"
  },
  "language_info": {
   "codemirror_mode": {
    "name": "ipython",
    "version": 3
   },
   "file_extension": ".py",
   "mimetype": "text/x-python",
   "name": "python",
   "nbconvert_exporter": "python",
   "pygments_lexer": "ipython3",
   "version": "3.9.7"
  },
  "orig_nbformat": 4
 },
 "nbformat": 4,
 "nbformat_minor": 2
}
