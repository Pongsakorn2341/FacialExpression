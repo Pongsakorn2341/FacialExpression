{
 "cells": [
  {
   "cell_type": "code",
   "execution_count": null,
   "metadata": {},
   "outputs": [],
   "source": [
    "import pandas as pd\n",
    "import numpy as np\n",
    "import os\n",
    "\n",
    "# read preprocessed data\n",
    "cwd = os.getcwd()\n",
    "df = pd.read_csv(cwd + \"/data_csv/preprocessing_data.csv\")\n",
    "df.to_csv(cwd + \"/data_csv/feature_data.csv\", index=False)"
   ]
  },
  {
   "cell_type": "code",
   "execution_count": null,
   "metadata": {},
   "outputs": [],
   "source": [
    "df.groupby('emotion').count()\n",
    "\n",
    "df"
   ]
  },
  {
   "cell_type": "code",
   "execution_count": null,
   "metadata": {},
   "outputs": [],
   "source": [
    "def get_distance(fist_point, second_point):\n",
    "    distance =  math.sqrt(math.pow(fist_point[0] - second_point[0], 2) + math.pow(fist_point[1] - second_point[1], 2))\n",
    "    return abs(distance)\n",
    "\n",
    "def get_angle(first_point, second_point):\n",
    "    value = (second_point[1] - first_point[1]) / (second_point[0] - first_point[0])\n",
    "    angle = math.atan(value)\n",
    "    return angle\n",
    "\n",
    "len(df)\n"
   ]
  },
  {
   "cell_type": "code",
   "execution_count": null,
   "metadata": {},
   "outputs": [],
   "source": [
    "import cv2, math, numpy as np, dlib\n",
    "from imutils import face_utils\n",
    "\n",
    "detector = dlib.get_frontal_face_detector()\n",
    "predictor = dlib.shape_predictor(cwd + \"/predictor/shape_predictor_68_face_landmarks.dat\")\n",
    "\n",
    "mlist = []\n",
    "distlist = []\n",
    "eye_size_list = []\n",
    "eye_brows_list = []\n",
    "width_left_eyes =[]\n",
    "width_right_eyes = []\n",
    "width_mount = []\n",
    "height_mount = []\n",
    "height_mount_chin = []\n",
    "left_eye_list = []\n",
    "right_eye_list = []\n",
    "angle_left_eyebrow = []\n",
    "angle_right_eyebrow = []\n",
    "dis_c_lmount_nose = []\n",
    "dis_c_rmount_nose = []\n",
    "d_first_eyebrow_leye = []\n",
    "d_first_eyebrow_reye = []\n",
    "a_nose_leyebrow = []\n",
    "a_nose_reyebrow = []\n",
    "circum_mount = []\n",
    "d_bottom_mount_chin = []\n",
    "\n",
    "\n",
    "emotion_list = [0 for x in range(8)]\n",
    "\n",
    "\n",
    "error = []\n",
    "\n",
    "# run each row in train.csv\n",
    "for idx, row in df.iterrows():\n",
    "    try:\n",
    "        imagePath = cwd + \"/cleaned_images/\" + row.image\n",
    "        image = cv2.imread(imagePath)\n",
    "\n",
    "        rects = detector(image, 0)\n",
    "\n",
    "        xlist = []\n",
    "        ylist = []\n",
    "        if(emotion_list[row.emotion] > 2300):\n",
    "            error.append(idx)\n",
    "            continue\n",
    "        # loop over the face detections\n",
    "        for (i, rect) in enumerate(rects):\n",
    "            # determine the facial landmarks and convert the facial landmark (x, y)\n",
    "            shape = predictor(image, rect)\n",
    "            shape = face_utils.shape_to_np(shape)\n",
    "\n",
    "            # loop over coordinates, draw them on the image and store coordinates in two lists\n",
    "            for (x, y) in shape:\n",
    "                cv2.circle(image, (x, y), 2, (0, 255, 0), -1)\n",
    "                xlist.append(x)\n",
    "                ylist.append(y)\n",
    "\n",
    "        # get mean of both axes to determine centre of gravity\n",
    "        xmean = np.mean(xlist) \n",
    "        ymean = np.mean(ylist)\n",
    "\n",
    "        # plot central face on image\n",
    "        cv2.circle(image, (int(xmean), int(ymean)), 1, (0, 255, 0), -1)\n",
    "\n",
    "        # find distance between mouth\n",
    "        mavg = np.mean([ylist[61] - ylist[67], ylist[62] - ylist[66], ylist[63] - ylist[65]])\n",
    "\n",
    "        # find distance between left eye\n",
    "        left_eye_avg = np.mean([\n",
    "            get_distance([xlist[37], ylist[37]], [xlist[40], ylist[40]]),\n",
    "            get_distance([xlist[38], ylist[38]], [xlist[41], ylist[41]])\n",
    "        ])\n",
    "        # find distance between right eye\n",
    "        right_eye_avg = np.mean([\n",
    "            get_distance([xlist[43], ylist[43]], [xlist[46], ylist[46]]),\n",
    "            get_distance([xlist[44], ylist[44]], [xlist[47], ylist[47]])\n",
    "        ])\n",
    "        # find distance between eye browns\n",
    "        eye_brows = np.mean([ylist[24] - ylist[26], ylist[19] - ylist[17]])\n",
    "\n",
    "        # find distance between every poin to central point\n",
    "        templist = []\n",
    "        for i in range(17, 68):\n",
    "            dist = math.sqrt(math.pow(xlist[i] - xmean, 2) + math.pow(ylist[i] - ymean, 2))\n",
    "            templist.append(dist)\n",
    "        distavg = np.mean(dist)\n",
    "        \n",
    "        mlist.append(mavg) # 1\n",
    "        left_eye_list.append(left_eye_avg)\n",
    "        right_eye_list.append(right_eye_avg)\n",
    "        width_left_eyes.append(get_distance([xlist[36], ylist[36]], [xlist[39], ylist[39]]))\n",
    "        width_right_eyes.append(get_distance([xlist[42], ylist[42]], [xlist[45], ylist[45]]))\n",
    "        width_mount.append(get_distance([xlist[48], ylist[48]], [xlist[54], ylist[54]]))\n",
    "        height_mount.append(get_distance([xlist[51], ylist[51]], [xlist[57], ylist[57]]))\n",
    "        height_mount_chin.append(get_distance([xlist[51], ylist[51]], [xlist[8], ylist[8]]))\n",
    "        angle_left_eyebrow.append(get_angle([xlist[17], ylist[17]], [xlist[18], ylist[18]]))\n",
    "        angle_right_eyebrow.append(get_angle([xlist[26], ylist[26]], [xlist[25], ylist[25]]))\n",
    "        eye_brows_list.append(eye_brows)\n",
    "        dis_c_lmount_nose.append(get_distance([xlist[33], ylist[33]], [xlist[48], ylist[48]]))\n",
    "        dis_c_rmount_nose.append(get_distance([xlist[33], ylist[33]], [xlist[54], ylist[54]]))\n",
    "        d_first_eyebrow_leye.append(get_distance([xlist[21], ylist[21]], [xlist[39], ylist[39]]))\n",
    "        d_first_eyebrow_reye.append(get_distance([xlist[22], ylist[22]], [xlist[42], ylist[42]]))\n",
    "        a_nose_leyebrow.append(get_angle([xlist[21], ylist[21]], [xlist[27], ylist[27]]))\n",
    "        a_nose_reyebrow.append(get_angle([xlist[42], ylist[42]], [xlist[22], ylist[22]]))\n",
    "        distlist.append(distavg) \n",
    "        circum_mount.append(sum([get_distance([xlist[x], ylist[x]], [xlist[x + 1], ylist[x + 1]]) for x in range(60, 67)]))\n",
    "        d_bottom_mount_chin.append(get_distance([xlist[57], ylist[57]], [xlist[8], ylist[8]]))\n",
    "        emotion_list[row.emotion] += 1\n",
    "        cv2.imshow(\"Output\", image)# \n",
    "        # k = cv2.waitKey(5) & 0xFF\n",
    "        # if k == 68:\n",
    "        #     break\n",
    "        # 20\n",
    "    except:\n",
    "        error.append(idx)\n",
    "        continue"
   ]
  },
  {
   "cell_type": "code",
   "execution_count": null,
   "metadata": {},
   "outputs": [],
   "source": [
    "# df = new_df.copy()\n",
    "new_df = df.copy()\n",
    "df\n"
   ]
  },
  {
   "cell_type": "code",
   "execution_count": null,
   "metadata": {},
   "outputs": [],
   "source": [
    "df.drop(error, axis=0, inplace=True)\n",
    "print(len(df))"
   ]
  },
  {
   "cell_type": "code",
   "execution_count": null,
   "metadata": {},
   "outputs": [],
   "source": [
    "# add feature to df\n",
    "print(len(df), len(mlist))\n",
    "df['mouth_distance'] = mlist # 1\n",
    "df['average_distance'] = distlist\n",
    "df['size_left_eye'] = left_eye_list\n",
    "df['size_right_eye']  = right_eye_list\n",
    "# print(len(eye_brows_list))\n",
    "df['eye_brows'] = eye_brows_list\n",
    "df['w_left_eye'] = width_left_eyes\n",
    "df['w_right_eye'] = width_right_eyes\n",
    "df['w_mount'] = width_mount\n",
    "df['h_mount'] = height_mount\n",
    "df['h_chin'] = height_mount_chin\n",
    "# print(len(angle_left_eyebrow))\n",
    "df['angle_left_eyebrow'] = angle_left_eyebrow\n",
    "df['angle_right_eyebrow'] = angle_right_eyebrow\n",
    "df['dis_c_lmount_nose'] = dis_c_lmount_nose\n",
    "df['dis_c_rmount_nose'] = dis_c_rmount_nose \n",
    "df['d_first_eyebrow_leye'] = d_first_eyebrow_leye\n",
    "df['d_first_eyebrow_reye'] = d_first_eyebrow_reye\n",
    "df['a_nose_leyebrow'] = a_nose_leyebrow\n",
    "df['a_nose_reyebrow'] = a_nose_reyebrow\n",
    "df['circum_mount'] = circum_mount\n",
    "df['d_bottom_mount_chin'] = d_bottom_mount_chin\n",
    "# 20 Features\n"
   ]
  },
  {
   "cell_type": "code",
   "execution_count": null,
   "metadata": {},
   "outputs": [],
   "source": [
    "df\n",
    "new_df = df.copy()"
   ]
  },
  {
   "cell_type": "code",
   "execution_count": null,
   "metadata": {},
   "outputs": [],
   "source": [
    "df.groupby('emotion').count()"
   ]
  },
  {
   "cell_type": "code",
   "execution_count": null,
   "metadata": {},
   "outputs": [],
   "source": [
    "import seaborn as sns\n",
    "from matplotlib import pyplot as plt\n",
    "X = df[df.columns.difference(['Unnamed: 0', 'emotion', 'image'])]\n",
    "corr = X.corr()\n",
    "\n",
    "sns.heatmap(corr, annot=True)\n",
    "print(len(X.columns))\n"
   ]
  },
  {
   "cell_type": "code",
   "execution_count": null,
   "metadata": {},
   "outputs": [],
   "source": [
    "columns = np.full((corr.shape[0],), True, dtype=bool)\n",
    "for i in range(corr.shape[0]):\n",
    "    for j in range(i+1, corr.shape[0]):\n",
    "        if corr.iloc[i,j] >= 0.9:\n",
    "            if columns[j]:\n",
    "                columns[j] = False\n",
    "\n",
    "print(\"Filter Method : \", len(corr.columns[columns]))\n",
    "selected_columns = list(corr.columns[columns]) + ['emotion', 'image']\n",
    "print(selected_columns)\n",
    "# data = corr[selected_columns]\n",
    "# print(selected_columns)\n",
    "# selected_columns.append('emotion')"
   ]
  },
  {
   "cell_type": "code",
   "execution_count": null,
   "metadata": {},
   "outputs": [],
   "source": [
    "df_filter = new_df.copy()\n",
    "print(new_df)\n",
    "df_filter = df_filter[selected_columns]\n",
    "print(df_filter)"
   ]
  },
  {
   "cell_type": "code",
   "execution_count": 14,
   "metadata": {},
   "outputs": [],
   "source": [
    "# Critical To Model\n",
    "from sklearn.model_selection import train_test_split\n",
    "from sklearn.ensemble import RandomForestClassifier\n",
    "model= RandomForestClassifier(n_estimators=250, random_state=7)\n",
    "X=df[df.columns.difference(['emotion', 'image'])]\n",
    "y = df[['emotion']]\n",
    "X_train, X_test, y_train, y_test = train_test_split(X, y, test_size=0.1)\n",
    "model.fit(X_train, y_train)  \n",
    "fs=pd.Series(model.feature_importances_, index=X.columns).sort_values(ascending=True)\n",
    "\n",
    "fs.plot(kind='barh')"
   ]
  },
  {
   "cell_type": "code",
   "execution_count": null,
   "metadata": {},
   "outputs": [],
   "source": [
    "important = list(model.feature_importances_)\n",
    "print(important)"
   ]
  },
  {
   "cell_type": "code",
   "execution_count": null,
   "metadata": {},
   "outputs": [],
   "source": [
    "import statsmodels.api as sm\n",
    "from sklearn.feature_selection import RFE\n",
    "\n",
    "X_1 = sm.add_constant(X)\n",
    "model = sm.OLS(y,X_1).fit()\n",
    "model.pvalues\n",
    "\n"
   ]
  },
  {
   "cell_type": "code",
   "execution_count": null,
   "metadata": {},
   "outputs": [],
   "source": [
    "# 2. Wrapper Methods\n",
    "cols = list(X.columns)\n",
    "pmax = 1\n",
    "while (len(cols)>0):\n",
    "    p= []\n",
    "    X_1 = X[cols]\n",
    "    X_1 = sm.add_constant(X_1)\n",
    "    model = sm.OLS(y,X_1).fit()\n",
    "    p = pd.Series(model.pvalues.values[1:],index = cols)      \n",
    "    pmax = max(p)\n",
    "    feature_with_p_max = p.idxmax()\n",
    "    if(pmax>0.05):\n",
    "        cols.remove(feature_with_p_max)\n",
    "    else:\n",
    "        break\n",
    "selected_features_BE = list(cols)\n",
    "print(\"Number of Feature Selected BE : \", len(selected_features_BE))\n",
    "print(selected_features_BE)"
   ]
  },
  {
   "cell_type": "code",
   "execution_count": null,
   "metadata": {},
   "outputs": [],
   "source": [
    "#no of features\n",
    "nof_list=np.arange(1,21)            \n",
    "high_score=0\n",
    "#Variable to store the optimum features\n",
    "nof=0           \n",
    "score_list =[]\n",
    "for n in range(len(nof_list)):\n",
    "    X_train, X_test, y_train, y_test = train_test_split(X,y, test_size = 0.1, random_state = 0)\n",
    "    model = LinearRegression()\n",
    "    rfe = RFE(model, n_features_to_select=nof_list[n])\n",
    "    X_train_rfe = rfe.fit_transform(X_train,y_train)\n",
    "    X_test_rfe = rfe.transform(X_test)\n",
    "    model.fit(X_train_rfe,y_train)\n",
    "    score = model.score(X_test_rfe,y_test)\n",
    "    score_list.append(score)\n",
    "    if(score>high_score):\n",
    "        high_score = score\n",
    "        nof = nof_list[n]\n",
    "print(\"Optimum number of features: %d\" %nof)\n",
    "print(\"Score with %d features: %f\" % (nof, high_score))"
   ]
  },
  {
   "cell_type": "code",
   "execution_count": null,
   "metadata": {},
   "outputs": [],
   "source": [
    "from sklearn.linear_model import LinearRegression\n",
    "\n",
    "model = LinearRegression()\n",
    "#Initializing RFE model\n",
    "rfe = RFE(model, n_features_to_select=14)\n",
    "#Transforming data using RFE\n",
    "X_rfe = rfe.fit_transform(X,y) \n",
    "model.fit(X_rfe,y)\n",
    "print(rfe.support_)\n",
    "print(rfe.ranking_)\n",
    "cols = list(X.columns)\n",
    "temp = pd.Series(rfe.support_,index = cols)\n",
    "selected_features_rfe = list(temp[temp==True].index)\n",
    "print(\"Number of feature rfe : \", len(selected_features_rfe))\n"
   ]
  },
  {
   "cell_type": "code",
   "execution_count": null,
   "metadata": {},
   "outputs": [],
   "source": [
    "# selected_features_rfe = selected_features_rfe.extend(['emotion', 'image'])\n",
    "selected_features_rfe = ['image', 'emotion'] + selected_features_rfe\n",
    "df_wrapper = new_df.copy()\n",
    "df_wrapper = df_wrapper[selected_features_rfe]\n",
    "df_wrapper.to_csv(cwd + \"/data_csv/use_feature_data_wrapper.csv\", index=False)\n"
   ]
  },
  {
   "cell_type": "code",
   "execution_count": null,
   "metadata": {},
   "outputs": [],
   "source": [
    "# Embedded\n",
    "from sklearn.linear_model import RidgeCV, LassoCV, Ridge, Lasso\n",
    "\n",
    "reg = LassoCV()\n",
    "reg.fit(X, y)\n",
    "print(\"Best alpha using built-in LassoCV: %f\" % reg.alpha_)\n",
    "print(\"Best score using built-in LassoCV: %f\" %reg.score(X,y))\n",
    "coef = pd.Series(reg.coef_, index = X.columns)"
   ]
  },
  {
   "cell_type": "code",
   "execution_count": null,
   "metadata": {},
   "outputs": [],
   "source": [
    "print(\"Lasso picked \" + str(sum(coef != 0)) + \" variables and eliminated the other \" +  str(sum(coef == 0)) + \" variables\")"
   ]
  },
  {
   "cell_type": "code",
   "execution_count": null,
   "metadata": {},
   "outputs": [],
   "source": [
    "imp_coef = coef.sort_values()\n",
    "import matplotlib\n",
    "matplotlib.rcParams['figure.figsize'] = (8.0, 10.0)\n",
    "imp_coef.plot(kind = \"barh\")\n",
    "plt.title(\"Feature importance using Lasso Model\")"
   ]
  },
  {
   "cell_type": "code",
   "execution_count": null,
   "metadata": {},
   "outputs": [],
   "source": [
    "feature_selected_embed = [\n",
    "    'image',\n",
    "    'emotion',\n",
    "    'd_first_eyebrow_reye',\n",
    "    'd_first_eyebrow_leye', \n",
    "    'average_distance',\n",
    "    'd_bottom_mount_chin',\n",
    "    'w_mount'\n",
    "]\n",
    "df_embedded = new_df.copy()\n",
    "df_embedded = df_embedded[feature_selected_embed]\n",
    "print(len(df_embedded.columns))\n",
    "df_embedded.to_csv(cwd + \"/data_csv/use_feature_data_embedded.csv\", index=False)\n"
   ]
  },
  {
   "cell_type": "code",
   "execution_count": null,
   "metadata": {},
   "outputs": [],
   "source": [
    "# Wrapper Methods\n",
    "from sklearn.ensemble import GradientBoostingClassifier\n",
    "estimator = GradientBoostingClassifier(n_estimators = 100)\n",
    "selector = RFE(estimator, step= 1)\n",
    "selector = selector.fit(X_train, y_train)"
   ]
  },
  {
   "cell_type": "code",
   "execution_count": null,
   "metadata": {},
   "outputs": [],
   "source": [
    "sel_cols = np.array(X.columns)[selector.support_]\n",
    "sel_cols"
   ]
  }
 ],
 "metadata": {
  "interpreter": {
   "hash": "4d02cdae7faed44485a20a1dfe89a6c1f0576f684e5ae49a964539fc51d957e1"
  },
  "kernelspec": {
   "display_name": "Python 3.8.2 64-bit",
   "language": "python",
   "name": "python3"
  },
  "language_info": {
   "codemirror_mode": {
    "name": "ipython",
    "version": 3
   },
   "file_extension": ".py",
   "mimetype": "text/x-python",
   "name": "python",
   "nbconvert_exporter": "python",
   "pygments_lexer": "ipython3",
   "version": "3.9.7"
  },
  "orig_nbformat": 4
 },
 "nbformat": 4,
 "nbformat_minor": 2
}
