{
 "cells": [
  {
   "cell_type": "code",
   "execution_count": 9,
   "metadata": {},
   "outputs": [],
   "source": [
    "import pandas as pd\n",
    "import numpy as np\n",
    "import os\n",
    "\n",
    "# read preprocessed data\n",
    "cwd = os.getcwd()\n",
    "df = pd.read_csv(cwd + \"/data_csv/preprocessing_data.csv\")\n",
    "df.to_csv(cwd + \"/data_csv/feature_data.csv\", index=False)"
   ]
  },
  {
   "cell_type": "code",
   "execution_count": 10,
   "metadata": {},
   "outputs": [
    {
     "data": {
      "text/html": [
       "<div>\n",
       "<style scoped>\n",
       "    .dataframe tbody tr th:only-of-type {\n",
       "        vertical-align: middle;\n",
       "    }\n",
       "\n",
       "    .dataframe tbody tr th {\n",
       "        vertical-align: top;\n",
       "    }\n",
       "\n",
       "    .dataframe thead th {\n",
       "        text-align: right;\n",
       "    }\n",
       "</style>\n",
       "<table border=\"1\" class=\"dataframe\">\n",
       "  <thead>\n",
       "    <tr style=\"text-align: right;\">\n",
       "      <th></th>\n",
       "      <th>image</th>\n",
       "      <th>emotion</th>\n",
       "    </tr>\n",
       "  </thead>\n",
       "  <tbody>\n",
       "    <tr>\n",
       "      <th>0</th>\n",
       "      <td>facial-expressions_2868585k.jpg</td>\n",
       "      <td>7</td>\n",
       "    </tr>\n",
       "    <tr>\n",
       "      <th>1</th>\n",
       "      <td>facial-expressions_2868582k.jpg</td>\n",
       "      <td>3</td>\n",
       "    </tr>\n",
       "    <tr>\n",
       "      <th>2</th>\n",
       "      <td>Aaron_Peirsol_0003.jpg</td>\n",
       "      <td>4</td>\n",
       "    </tr>\n",
       "    <tr>\n",
       "      <th>3</th>\n",
       "      <td>Aaron_Sorkin_0002.jpg</td>\n",
       "      <td>4</td>\n",
       "    </tr>\n",
       "    <tr>\n",
       "      <th>4</th>\n",
       "      <td>Abdel_Nasser_Assidi_0002.jpg</td>\n",
       "      <td>5</td>\n",
       "    </tr>\n",
       "    <tr>\n",
       "      <th>...</th>\n",
       "      <td>...</td>\n",
       "      <td>...</td>\n",
       "    </tr>\n",
       "    <tr>\n",
       "      <th>24108</th>\n",
       "      <td>SURPRISE/surprise (971).png</td>\n",
       "      <td>7</td>\n",
       "    </tr>\n",
       "    <tr>\n",
       "      <th>24109</th>\n",
       "      <td>SURPRISE/surprise (978).jpg</td>\n",
       "      <td>7</td>\n",
       "    </tr>\n",
       "    <tr>\n",
       "      <th>24110</th>\n",
       "      <td>SURPRISE/surprise (981).png</td>\n",
       "      <td>7</td>\n",
       "    </tr>\n",
       "    <tr>\n",
       "      <th>24111</th>\n",
       "      <td>SURPRISE/surprise (983).jpg</td>\n",
       "      <td>7</td>\n",
       "    </tr>\n",
       "    <tr>\n",
       "      <th>24112</th>\n",
       "      <td>SURPRISE/surprise (994).jpg</td>\n",
       "      <td>7</td>\n",
       "    </tr>\n",
       "  </tbody>\n",
       "</table>\n",
       "<p>24113 rows × 2 columns</p>\n",
       "</div>"
      ],
      "text/plain": [
       "                                 image  emotion\n",
       "0      facial-expressions_2868585k.jpg        7\n",
       "1      facial-expressions_2868582k.jpg        3\n",
       "2               Aaron_Peirsol_0003.jpg        4\n",
       "3                Aaron_Sorkin_0002.jpg        4\n",
       "4         Abdel_Nasser_Assidi_0002.jpg        5\n",
       "...                                ...      ...\n",
       "24108      SURPRISE/surprise (971).png        7\n",
       "24109      SURPRISE/surprise (978).jpg        7\n",
       "24110      SURPRISE/surprise (981).png        7\n",
       "24111      SURPRISE/surprise (983).jpg        7\n",
       "24112      SURPRISE/surprise (994).jpg        7\n",
       "\n",
       "[24113 rows x 2 columns]"
      ]
     },
     "execution_count": 10,
     "metadata": {},
     "output_type": "execute_result"
    }
   ],
   "source": [
    "df.groupby('emotion').count()\n",
    "\n",
    "df"
   ]
  },
  {
   "cell_type": "code",
   "execution_count": 11,
   "metadata": {},
   "outputs": [
    {
     "data": {
      "text/plain": [
       "24113"
      ]
     },
     "execution_count": 11,
     "metadata": {},
     "output_type": "execute_result"
    }
   ],
   "source": [
    "def get_distance(fist_point, second_point):\n",
    "    distance =  math.sqrt(math.pow(fist_point[0] - second_point[0], 2) + math.pow(fist_point[1] - second_point[1], 2))\n",
    "    return abs(distance)\n",
    "\n",
    "def get_angle(first_point, second_point):\n",
    "    value = (second_point[1] - first_point[1]) / (second_point[0] - first_point[0])\n",
    "    angle = math.atan(value)\n",
    "    return angle\n",
    "\n",
    "len(df)\n"
   ]
  },
  {
   "cell_type": "code",
   "execution_count": 12,
   "metadata": {},
   "outputs": [
    {
     "name": "stderr",
     "output_type": "stream",
     "text": [
      "C:\\Users\\Sunny\\AppData\\Local\\Temp/ipykernel_9324/3441831444.py:6: RuntimeWarning: divide by zero encountered in long_scalars\n",
      "  value = (second_point[1] - first_point[1]) / (second_point[0] - first_point[0])\n",
      "C:\\Users\\Sunny\\anaconda3\\lib\\site-packages\\numpy\\core\\fromnumeric.py:3419: RuntimeWarning: Mean of empty slice.\n",
      "  return _methods._mean(a, axis=axis, dtype=dtype,\n",
      "C:\\Users\\Sunny\\anaconda3\\lib\\site-packages\\numpy\\core\\_methods.py:188: RuntimeWarning: invalid value encountered in double_scalars\n",
      "  ret = ret.dtype.type(ret / rcount)\n"
     ]
    }
   ],
   "source": [
    "import cv2, math, numpy as np, dlib\n",
    "from imutils import face_utils\n",
    "\n",
    "detector = dlib.get_frontal_face_detector()\n",
    "predictor = dlib.shape_predictor(cwd + \"/predictor/shape_predictor_68_face_landmarks.dat\")\n",
    "\n",
    "mlist = []\n",
    "distlist = []\n",
    "eye_size_list = []\n",
    "eye_brows_list = []\n",
    "width_left_eyes =[]\n",
    "width_right_eyes = []\n",
    "width_mouth = []\n",
    "height_mouth = []\n",
    "height_mouth_chin = []\n",
    "left_eye_list = []\n",
    "right_eye_list = []\n",
    "angle_left_eyebrow = []\n",
    "angle_right_eyebrow = []\n",
    "dis_c_lmouth_nose = []\n",
    "dis_c_rmouth_nose = []\n",
    "d_first_eyebrow_leye = []\n",
    "d_first_eyebrow_reye = []\n",
    "a_nose_leyebrow = []\n",
    "a_nose_reyebrow = []\n",
    "circum_mouth = []\n",
    "d_bottom_mouth_chin = []\n",
    "\n",
    "error = []\n",
    "\n",
    "# run each row in train.csv\n",
    "for idx, row in df.iterrows():\n",
    "    try:\n",
    "        imagePath = cwd + \"/cleaned_images/\" + row.image\n",
    "        image = cv2.imread(imagePath)\n",
    "\n",
    "        rects = detector(image, 0)\n",
    "\n",
    "        xlist = []\n",
    "        ylist = []\n",
    "        # loop over the face detections\n",
    "        for (i, rect) in enumerate(rects):\n",
    "            # determine the facial landmarks and convert the facial landmark (x, y)\n",
    "            shape = predictor(image, rect)\n",
    "            shape = face_utils.shape_to_np(shape)\n",
    "\n",
    "            # loop over coordinates, draw them on the image and store coordinates in two lists\n",
    "            for (x, y) in shape:\n",
    "                cv2.circle(image, (x, y), 2, (0, 255, 0), -1)\n",
    "                xlist.append(x)\n",
    "                ylist.append(y)\n",
    "\n",
    "        # get mean of both axes to determine centre of gravity\n",
    "        xmean = np.mean(xlist) \n",
    "        ymean = np.mean(ylist)\n",
    "\n",
    "        # plot central face on image\n",
    "        cv2.circle(image, (int(xmean), int(ymean)), 1, (0, 255, 0), -1)\n",
    "\n",
    "        # find distance between mouth\n",
    "        mavg = np.mean([ylist[61] - ylist[67], ylist[62] - ylist[66], ylist[63] - ylist[65]])\n",
    "\n",
    "        # find distance between left eye\n",
    "        left_eye_avg = np.mean([\n",
    "            get_distance([xlist[37], ylist[37]], [xlist[40], ylist[40]]),\n",
    "            get_distance([xlist[38], ylist[38]], [xlist[41], ylist[41]])\n",
    "        ])\n",
    "        # find distance between right eye\n",
    "        right_eye_avg = np.mean([\n",
    "            get_distance([xlist[43], ylist[43]], [xlist[46], ylist[46]]),\n",
    "            get_distance([xlist[44], ylist[44]], [xlist[47], ylist[47]])\n",
    "        ])\n",
    "        # find distance between eye browns\n",
    "        eye_brows = np.mean([ylist[24] - ylist[26], ylist[19] - ylist[17]])\n",
    "\n",
    "        # find distance between every poin to central point\n",
    "        templist = []\n",
    "        for i in range(17, 68):\n",
    "            dist = math.sqrt(math.pow(xlist[i] - xmean, 2) + math.pow(ylist[i] - ymean, 2))\n",
    "            templist.append(dist)\n",
    "        distavg = np.mean(dist)\n",
    "        \n",
    "        mlist.append(mavg) # 1\n",
    "        left_eye_list.append(left_eye_avg)\n",
    "        right_eye_list.append(right_eye_avg)\n",
    "        width_left_eyes.append(get_distance([xlist[36], ylist[36]], [xlist[39], ylist[39]]))\n",
    "        width_right_eyes.append(get_distance([xlist[42], ylist[42]], [xlist[45], ylist[45]]))\n",
    "        width_mouth.append(get_distance([xlist[48], ylist[48]], [xlist[54], ylist[54]]))\n",
    "        height_mouth.append(get_distance([xlist[51], ylist[51]], [xlist[57], ylist[57]]))\n",
    "        height_mouth_chin.append(get_distance([xlist[51], ylist[51]], [xlist[8], ylist[8]]))\n",
    "        angle_left_eyebrow.append(get_angle([xlist[17], ylist[17]], [xlist[18], ylist[18]]))\n",
    "        angle_right_eyebrow.append(get_angle([xlist[26], ylist[26]], [xlist[25], ylist[25]]))\n",
    "        eye_brows_list.append(eye_brows)\n",
    "        dis_c_lmouth_nose.append(get_distance([xlist[33], ylist[33]], [xlist[48], ylist[48]]))\n",
    "        dis_c_rmouth_nose.append(get_distance([xlist[33], ylist[33]], [xlist[54], ylist[54]]))\n",
    "        d_first_eyebrow_leye.append(get_distance([xlist[21], ylist[21]], [xlist[39], ylist[39]]))\n",
    "        d_first_eyebrow_reye.append(get_distance([xlist[22], ylist[22]], [xlist[42], ylist[42]]))\n",
    "        a_nose_leyebrow.append(get_angle([xlist[21], ylist[21]], [xlist[27], ylist[27]]))\n",
    "        a_nose_reyebrow.append(get_angle([xlist[42], ylist[42]], [xlist[22], ylist[22]]))\n",
    "        distlist.append(distavg) \n",
    "        circum_mouth.append(sum([get_distance([xlist[x], ylist[x]], [xlist[x + 1], ylist[x + 1]]) for x in range(60, 67)]))\n",
    "        d_bottom_mouth_chin.append(get_distance([xlist[57], ylist[57]], [xlist[8], ylist[8]]))\n",
    "        cv2.imshow(\"Output\", image)# \n",
    "        # k = cv2.waitKey(5) & 0xFF\n",
    "        # if k == 68:\n",
    "        #     break\n",
    "        # 20\n",
    "    except:\n",
    "        error.append(idx)\n",
    "        continue"
   ]
  },
  {
   "cell_type": "code",
   "execution_count": 13,
   "metadata": {},
   "outputs": [
    {
     "data": {
      "text/html": [
       "<div>\n",
       "<style scoped>\n",
       "    .dataframe tbody tr th:only-of-type {\n",
       "        vertical-align: middle;\n",
       "    }\n",
       "\n",
       "    .dataframe tbody tr th {\n",
       "        vertical-align: top;\n",
       "    }\n",
       "\n",
       "    .dataframe thead th {\n",
       "        text-align: right;\n",
       "    }\n",
       "</style>\n",
       "<table border=\"1\" class=\"dataframe\">\n",
       "  <thead>\n",
       "    <tr style=\"text-align: right;\">\n",
       "      <th></th>\n",
       "      <th>image</th>\n",
       "      <th>emotion</th>\n",
       "    </tr>\n",
       "  </thead>\n",
       "  <tbody>\n",
       "    <tr>\n",
       "      <th>0</th>\n",
       "      <td>facial-expressions_2868585k.jpg</td>\n",
       "      <td>7</td>\n",
       "    </tr>\n",
       "    <tr>\n",
       "      <th>1</th>\n",
       "      <td>facial-expressions_2868582k.jpg</td>\n",
       "      <td>3</td>\n",
       "    </tr>\n",
       "    <tr>\n",
       "      <th>2</th>\n",
       "      <td>Aaron_Peirsol_0003.jpg</td>\n",
       "      <td>4</td>\n",
       "    </tr>\n",
       "    <tr>\n",
       "      <th>3</th>\n",
       "      <td>Aaron_Sorkin_0002.jpg</td>\n",
       "      <td>4</td>\n",
       "    </tr>\n",
       "    <tr>\n",
       "      <th>4</th>\n",
       "      <td>Abdel_Nasser_Assidi_0002.jpg</td>\n",
       "      <td>5</td>\n",
       "    </tr>\n",
       "    <tr>\n",
       "      <th>...</th>\n",
       "      <td>...</td>\n",
       "      <td>...</td>\n",
       "    </tr>\n",
       "    <tr>\n",
       "      <th>24108</th>\n",
       "      <td>SURPRISE/surprise (971).png</td>\n",
       "      <td>7</td>\n",
       "    </tr>\n",
       "    <tr>\n",
       "      <th>24109</th>\n",
       "      <td>SURPRISE/surprise (978).jpg</td>\n",
       "      <td>7</td>\n",
       "    </tr>\n",
       "    <tr>\n",
       "      <th>24110</th>\n",
       "      <td>SURPRISE/surprise (981).png</td>\n",
       "      <td>7</td>\n",
       "    </tr>\n",
       "    <tr>\n",
       "      <th>24111</th>\n",
       "      <td>SURPRISE/surprise (983).jpg</td>\n",
       "      <td>7</td>\n",
       "    </tr>\n",
       "    <tr>\n",
       "      <th>24112</th>\n",
       "      <td>SURPRISE/surprise (994).jpg</td>\n",
       "      <td>7</td>\n",
       "    </tr>\n",
       "  </tbody>\n",
       "</table>\n",
       "<p>24113 rows × 2 columns</p>\n",
       "</div>"
      ],
      "text/plain": [
       "                                 image  emotion\n",
       "0      facial-expressions_2868585k.jpg        7\n",
       "1      facial-expressions_2868582k.jpg        3\n",
       "2               Aaron_Peirsol_0003.jpg        4\n",
       "3                Aaron_Sorkin_0002.jpg        4\n",
       "4         Abdel_Nasser_Assidi_0002.jpg        5\n",
       "...                                ...      ...\n",
       "24108      SURPRISE/surprise (971).png        7\n",
       "24109      SURPRISE/surprise (978).jpg        7\n",
       "24110      SURPRISE/surprise (981).png        7\n",
       "24111      SURPRISE/surprise (983).jpg        7\n",
       "24112      SURPRISE/surprise (994).jpg        7\n",
       "\n",
       "[24113 rows x 2 columns]"
      ]
     },
     "execution_count": 13,
     "metadata": {},
     "output_type": "execute_result"
    }
   ],
   "source": [
    "# df = new_df.copy()\n",
    "new_df = df.copy()\n",
    "df\n"
   ]
  },
  {
   "cell_type": "code",
   "execution_count": 14,
   "metadata": {},
   "outputs": [
    {
     "name": "stdout",
     "output_type": "stream",
     "text": [
      "24073\n"
     ]
    }
   ],
   "source": [
    "df.drop(error, axis=0, inplace=True)\n",
    "print(len(df))"
   ]
  },
  {
   "cell_type": "code",
   "execution_count": 15,
   "metadata": {},
   "outputs": [
    {
     "name": "stdout",
     "output_type": "stream",
     "text": [
      "24073 24073\n"
     ]
    }
   ],
   "source": [
    "# add feature to df\n",
    "print(len(df), len(mlist))\n",
    "df['mouth_distance'] = mlist # 1\n",
    "df['average_distance'] = distlist\n",
    "df['size_left_eye'] = left_eye_list\n",
    "df['size_right_eye']  = right_eye_list\n",
    "# print(len(eye_brows_list))\n",
    "df['eye_brows'] = eye_brows_list\n",
    "df['w_left_eye'] = width_left_eyes\n",
    "df['w_right_eye'] = width_right_eyes\n",
    "df['h_mouth'] = width_mouth\n",
    "df['h_mouth'] = height_mouth\n",
    "df['h_chin'] = height_mouth_chin\n",
    "# print(len(angle_left_eyebrow))\n",
    "df['angle_left_eyebrow'] = angle_left_eyebrow\n",
    "df['angle_right_eyebrow'] = angle_right_eyebrow\n",
    "df['dis_c_lmouth_nose'] = dis_c_lmouth_nose\n",
    "df['dis_c_rmouth_nose'] = dis_c_rmouth_nose \n",
    "df['d_first_eyebrow_leye'] = d_first_eyebrow_leye\n",
    "df['d_first_eyebrow_reye'] = d_first_eyebrow_reye\n",
    "df['a_nose_leyebrow'] = a_nose_leyebrow\n",
    "df['a_nose_reyebrow'] = a_nose_reyebrow\n",
    "df['circum_mouth'] = circum_mouth\n",
    "df['d_bottom_mouth_chin'] = d_bottom_mouth_chin\n",
    "# 20 Features\n"
   ]
  },
  {
   "cell_type": "code",
   "execution_count": 16,
   "metadata": {},
   "outputs": [],
   "source": [
    "df\n",
    "new_df = df.copy()"
   ]
  },
  {
   "cell_type": "code",
   "execution_count": 17,
   "metadata": {},
   "outputs": [
    {
     "data": {
      "text/html": [
       "<div>\n",
       "<style scoped>\n",
       "    .dataframe tbody tr th:only-of-type {\n",
       "        vertical-align: middle;\n",
       "    }\n",
       "\n",
       "    .dataframe tbody tr th {\n",
       "        vertical-align: top;\n",
       "    }\n",
       "\n",
       "    .dataframe thead th {\n",
       "        text-align: right;\n",
       "    }\n",
       "</style>\n",
       "<table border=\"1\" class=\"dataframe\">\n",
       "  <thead>\n",
       "    <tr style=\"text-align: right;\">\n",
       "      <th></th>\n",
       "      <th>image</th>\n",
       "      <th>mouth_distance</th>\n",
       "      <th>average_distance</th>\n",
       "      <th>size_left_eye</th>\n",
       "      <th>size_right_eye</th>\n",
       "      <th>eye_brows</th>\n",
       "      <th>w_left_eye</th>\n",
       "      <th>w_right_eye</th>\n",
       "      <th>h_mouth</th>\n",
       "      <th>h_chin</th>\n",
       "      <th>angle_left_eyebrow</th>\n",
       "      <th>angle_right_eyebrow</th>\n",
       "      <th>dis_c_lmouth_nose</th>\n",
       "      <th>dis_c_rmouth_nose</th>\n",
       "      <th>d_first_eyebrow_leye</th>\n",
       "      <th>d_first_eyebrow_reye</th>\n",
       "      <th>a_nose_leyebrow</th>\n",
       "      <th>a_nose_reyebrow</th>\n",
       "      <th>circum_mouth</th>\n",
       "      <th>d_bottom_mouth_chin</th>\n",
       "    </tr>\n",
       "    <tr>\n",
       "      <th>emotion</th>\n",
       "      <th></th>\n",
       "      <th></th>\n",
       "      <th></th>\n",
       "      <th></th>\n",
       "      <th></th>\n",
       "      <th></th>\n",
       "      <th></th>\n",
       "      <th></th>\n",
       "      <th></th>\n",
       "      <th></th>\n",
       "      <th></th>\n",
       "      <th></th>\n",
       "      <th></th>\n",
       "      <th></th>\n",
       "      <th></th>\n",
       "      <th></th>\n",
       "      <th></th>\n",
       "      <th></th>\n",
       "      <th></th>\n",
       "      <th></th>\n",
       "    </tr>\n",
       "  </thead>\n",
       "  <tbody>\n",
       "    <tr>\n",
       "      <th>0</th>\n",
       "      <td>2517</td>\n",
       "      <td>2517</td>\n",
       "      <td>2517</td>\n",
       "      <td>2517</td>\n",
       "      <td>2517</td>\n",
       "      <td>2517</td>\n",
       "      <td>2517</td>\n",
       "      <td>2517</td>\n",
       "      <td>2517</td>\n",
       "      <td>2517</td>\n",
       "      <td>2517</td>\n",
       "      <td>2517</td>\n",
       "      <td>2517</td>\n",
       "      <td>2517</td>\n",
       "      <td>2517</td>\n",
       "      <td>2517</td>\n",
       "      <td>2517</td>\n",
       "      <td>2517</td>\n",
       "      <td>2517</td>\n",
       "      <td>2517</td>\n",
       "    </tr>\n",
       "    <tr>\n",
       "      <th>1</th>\n",
       "      <td>1677</td>\n",
       "      <td>1677</td>\n",
       "      <td>1677</td>\n",
       "      <td>1677</td>\n",
       "      <td>1677</td>\n",
       "      <td>1677</td>\n",
       "      <td>1677</td>\n",
       "      <td>1677</td>\n",
       "      <td>1677</td>\n",
       "      <td>1677</td>\n",
       "      <td>1677</td>\n",
       "      <td>1677</td>\n",
       "      <td>1677</td>\n",
       "      <td>1677</td>\n",
       "      <td>1677</td>\n",
       "      <td>1677</td>\n",
       "      <td>1677</td>\n",
       "      <td>1677</td>\n",
       "      <td>1677</td>\n",
       "      <td>1677</td>\n",
       "    </tr>\n",
       "    <tr>\n",
       "      <th>2</th>\n",
       "      <td>1566</td>\n",
       "      <td>1566</td>\n",
       "      <td>1566</td>\n",
       "      <td>1566</td>\n",
       "      <td>1566</td>\n",
       "      <td>1566</td>\n",
       "      <td>1566</td>\n",
       "      <td>1566</td>\n",
       "      <td>1566</td>\n",
       "      <td>1566</td>\n",
       "      <td>1566</td>\n",
       "      <td>1566</td>\n",
       "      <td>1566</td>\n",
       "      <td>1566</td>\n",
       "      <td>1566</td>\n",
       "      <td>1566</td>\n",
       "      <td>1566</td>\n",
       "      <td>1566</td>\n",
       "      <td>1566</td>\n",
       "      <td>1566</td>\n",
       "    </tr>\n",
       "    <tr>\n",
       "      <th>3</th>\n",
       "      <td>1994</td>\n",
       "      <td>1994</td>\n",
       "      <td>1994</td>\n",
       "      <td>1994</td>\n",
       "      <td>1994</td>\n",
       "      <td>1994</td>\n",
       "      <td>1994</td>\n",
       "      <td>1994</td>\n",
       "      <td>1994</td>\n",
       "      <td>1994</td>\n",
       "      <td>1994</td>\n",
       "      <td>1994</td>\n",
       "      <td>1994</td>\n",
       "      <td>1994</td>\n",
       "      <td>1994</td>\n",
       "      <td>1994</td>\n",
       "      <td>1994</td>\n",
       "      <td>1994</td>\n",
       "      <td>1994</td>\n",
       "      <td>1994</td>\n",
       "    </tr>\n",
       "    <tr>\n",
       "      <th>4</th>\n",
       "      <td>6387</td>\n",
       "      <td>6387</td>\n",
       "      <td>6387</td>\n",
       "      <td>6387</td>\n",
       "      <td>6387</td>\n",
       "      <td>6387</td>\n",
       "      <td>6387</td>\n",
       "      <td>6387</td>\n",
       "      <td>6387</td>\n",
       "      <td>6387</td>\n",
       "      <td>6387</td>\n",
       "      <td>6387</td>\n",
       "      <td>6387</td>\n",
       "      <td>6387</td>\n",
       "      <td>6387</td>\n",
       "      <td>6387</td>\n",
       "      <td>6387</td>\n",
       "      <td>6387</td>\n",
       "      <td>6387</td>\n",
       "      <td>6387</td>\n",
       "    </tr>\n",
       "    <tr>\n",
       "      <th>5</th>\n",
       "      <td>5378</td>\n",
       "      <td>5378</td>\n",
       "      <td>5378</td>\n",
       "      <td>5378</td>\n",
       "      <td>5378</td>\n",
       "      <td>5378</td>\n",
       "      <td>5378</td>\n",
       "      <td>5378</td>\n",
       "      <td>5378</td>\n",
       "      <td>5378</td>\n",
       "      <td>5378</td>\n",
       "      <td>5378</td>\n",
       "      <td>5378</td>\n",
       "      <td>5378</td>\n",
       "      <td>5378</td>\n",
       "      <td>5378</td>\n",
       "      <td>5378</td>\n",
       "      <td>5378</td>\n",
       "      <td>5378</td>\n",
       "      <td>5378</td>\n",
       "    </tr>\n",
       "    <tr>\n",
       "      <th>6</th>\n",
       "      <td>2268</td>\n",
       "      <td>2268</td>\n",
       "      <td>2268</td>\n",
       "      <td>2268</td>\n",
       "      <td>2268</td>\n",
       "      <td>2268</td>\n",
       "      <td>2268</td>\n",
       "      <td>2268</td>\n",
       "      <td>2268</td>\n",
       "      <td>2268</td>\n",
       "      <td>2268</td>\n",
       "      <td>2268</td>\n",
       "      <td>2268</td>\n",
       "      <td>2268</td>\n",
       "      <td>2268</td>\n",
       "      <td>2268</td>\n",
       "      <td>2268</td>\n",
       "      <td>2268</td>\n",
       "      <td>2268</td>\n",
       "      <td>2268</td>\n",
       "    </tr>\n",
       "    <tr>\n",
       "      <th>7</th>\n",
       "      <td>2286</td>\n",
       "      <td>2286</td>\n",
       "      <td>2286</td>\n",
       "      <td>2286</td>\n",
       "      <td>2286</td>\n",
       "      <td>2286</td>\n",
       "      <td>2286</td>\n",
       "      <td>2286</td>\n",
       "      <td>2286</td>\n",
       "      <td>2286</td>\n",
       "      <td>2286</td>\n",
       "      <td>2286</td>\n",
       "      <td>2286</td>\n",
       "      <td>2286</td>\n",
       "      <td>2286</td>\n",
       "      <td>2286</td>\n",
       "      <td>2286</td>\n",
       "      <td>2286</td>\n",
       "      <td>2286</td>\n",
       "      <td>2286</td>\n",
       "    </tr>\n",
       "  </tbody>\n",
       "</table>\n",
       "</div>"
      ],
      "text/plain": [
       "         image  mouth_distance  average_distance  size_left_eye  \\\n",
       "emotion                                                           \n",
       "0         2517            2517              2517           2517   \n",
       "1         1677            1677              1677           1677   \n",
       "2         1566            1566              1566           1566   \n",
       "3         1994            1994              1994           1994   \n",
       "4         6387            6387              6387           6387   \n",
       "5         5378            5378              5378           5378   \n",
       "6         2268            2268              2268           2268   \n",
       "7         2286            2286              2286           2286   \n",
       "\n",
       "         size_right_eye  eye_brows  w_left_eye  w_right_eye  h_mouth  h_chin  \\\n",
       "emotion                                                                        \n",
       "0                  2517       2517        2517         2517     2517    2517   \n",
       "1                  1677       1677        1677         1677     1677    1677   \n",
       "2                  1566       1566        1566         1566     1566    1566   \n",
       "3                  1994       1994        1994         1994     1994    1994   \n",
       "4                  6387       6387        6387         6387     6387    6387   \n",
       "5                  5378       5378        5378         5378     5378    5378   \n",
       "6                  2268       2268        2268         2268     2268    2268   \n",
       "7                  2286       2286        2286         2286     2286    2286   \n",
       "\n",
       "         angle_left_eyebrow  angle_right_eyebrow  dis_c_lmouth_nose  \\\n",
       "emotion                                                               \n",
       "0                      2517                 2517               2517   \n",
       "1                      1677                 1677               1677   \n",
       "2                      1566                 1566               1566   \n",
       "3                      1994                 1994               1994   \n",
       "4                      6387                 6387               6387   \n",
       "5                      5378                 5378               5378   \n",
       "6                      2268                 2268               2268   \n",
       "7                      2286                 2286               2286   \n",
       "\n",
       "         dis_c_rmouth_nose  d_first_eyebrow_leye  d_first_eyebrow_reye  \\\n",
       "emotion                                                                  \n",
       "0                     2517                  2517                  2517   \n",
       "1                     1677                  1677                  1677   \n",
       "2                     1566                  1566                  1566   \n",
       "3                     1994                  1994                  1994   \n",
       "4                     6387                  6387                  6387   \n",
       "5                     5378                  5378                  5378   \n",
       "6                     2268                  2268                  2268   \n",
       "7                     2286                  2286                  2286   \n",
       "\n",
       "         a_nose_leyebrow  a_nose_reyebrow  circum_mouth  d_bottom_mouth_chin  \n",
       "emotion                                                                       \n",
       "0                   2517             2517          2517                 2517  \n",
       "1                   1677             1677          1677                 1677  \n",
       "2                   1566             1566          1566                 1566  \n",
       "3                   1994             1994          1994                 1994  \n",
       "4                   6387             6387          6387                 6387  \n",
       "5                   5378             5378          5378                 5378  \n",
       "6                   2268             2268          2268                 2268  \n",
       "7                   2286             2286          2286                 2286  "
      ]
     },
     "execution_count": 17,
     "metadata": {},
     "output_type": "execute_result"
    }
   ],
   "source": [
    "df.groupby('emotion').count()"
   ]
  },
  {
   "cell_type": "code",
   "execution_count": 18,
   "metadata": {},
   "outputs": [
    {
     "name": "stdout",
     "output_type": "stream",
     "text": [
      "19\n"
     ]
    },
    {
     "data": {
      "image/png": "[encoded data removed]",
      "text/plain": [
       "<Figure size 432x288 with 2 Axes>"
      ]
     },
     "metadata": {
      "needs_background": "light"
     },
     "output_type": "display_data"
    }
   ],
   "source": [
    "import seaborn as sns\n",
    "from matplotlib import pyplot as plt\n",
    "X = df[df.columns.difference(['Unnamed: 0', 'emotion', 'image'])]\n",
    "corr = X.corr()\n",
    "\n",
    "sns.heatmap(corr, annot=True)\n",
    "print(len(X.columns))\n"
   ]
  },
  {
   "cell_type": "code",
   "execution_count": 19,
   "metadata": {},
   "outputs": [
    {
     "name": "stdout",
     "output_type": "stream",
     "text": [
      "Filter Method :  18\n",
      "['a_nose_leyebrow', 'a_nose_reyebrow', 'angle_left_eyebrow', 'angle_right_eyebrow', 'average_distance', 'circum_mouth', 'd_bottom_mouth_chin', 'd_first_eyebrow_leye', 'd_first_eyebrow_reye', 'dis_c_lmouth_nose', 'dis_c_rmouth_nose', 'eye_brows', 'h_chin', 'h_mouth', 'mouth_distance', 'size_left_eye', 'w_left_eye', 'w_right_eye', 'emotion', 'image']\n"
     ]
    }
   ],
   "source": [
    "columns = np.full((corr.shape[0],), True, dtype=bool)\n",
    "for i in range(corr.shape[0]):\n",
    "    for j in range(i + 1, corr.shape[0]):\n",
    "        if corr.iloc[i, j] >= 0.9:\n",
    "            if columns[j]:\n",
    "                columns[j] = False\n",
    "\n",
    "print(\"Filter Method : \", len(corr.columns[columns]))\n",
    "selected_columns = list(corr.columns[columns]) + ['emotion', 'image']\n",
    "print(selected_columns)\n",
    "# data = corr[selected_columns]\n",
    "# print(selected_columns)\n",
    "# selected_columns.append('emotion')"
   ]
  },
  {
   "cell_type": "code",
   "execution_count": 20,
   "metadata": {},
   "outputs": [
    {
     "name": "stdout",
     "output_type": "stream",
     "text": [
      "                                 image  emotion  mouth_distance  \\\n",
      "0      facial-expressions_2868585k.jpg        7      -28.666667   \n",
      "1      facial-expressions_2868582k.jpg        3       -3.000000   \n",
      "2               Aaron_Peirsol_0003.jpg        4      -13.333333   \n",
      "3                Aaron_Sorkin_0002.jpg        4      -20.000000   \n",
      "4         Abdel_Nasser_Assidi_0002.jpg        5        1.666667   \n",
      "...                                ...      ...             ...   \n",
      "24108      SURPRISE/surprise (971).png        7       -3.333333   \n",
      "24109      SURPRISE/surprise (978).jpg        7      -19.666667   \n",
      "24110      SURPRISE/surprise (981).png        7      -47.666667   \n",
      "24111      SURPRISE/surprise (983).jpg        7      -23.333333   \n",
      "24112      SURPRISE/surprise (994).jpg        7      -13.333333   \n",
      "\n",
      "       average_distance  size_left_eye  size_right_eye  eye_brows  w_left_eye  \\\n",
      "0             57.849661      20.048945       19.091883      -14.0   38.639358   \n",
      "1             38.702801      17.693473       16.741736      -13.0   37.336309   \n",
      "2             48.809134      14.317438       14.932573      -15.5   32.015621   \n",
      "3             54.846611      15.636488       15.273360      -16.5   39.319207   \n",
      "4             37.752899      15.811388       16.428563      -17.5   34.785054   \n",
      "...                 ...            ...             ...        ...         ...   \n",
      "24108         44.369616      24.768364       26.208735      -27.0   47.042534   \n",
      "24109         63.395024      18.207012       17.859781      -21.5   38.000000   \n",
      "24110         75.326098      20.890573       21.360331      -14.5   38.013156   \n",
      "24111         65.942962      24.062410       23.693433      -27.0   43.104524   \n",
      "24112         51.818989      18.731266       18.222937      -25.0   38.118237   \n",
      "\n",
      "       w_right_eye    h_mouth  ...  angle_left_eyebrow  angle_right_eyebrow  \\\n",
      "0        36.055513  53.084838  ...           -0.602287             0.741947   \n",
      "1        36.055513  23.021729  ...           -0.531724             0.702257   \n",
      "2        31.400637  31.144823  ...           -0.785398             0.785398   \n",
      "3        39.000000  43.104524  ...           -0.745419             0.748378   \n",
      "4        33.955854  19.313208  ...           -0.558599             1.158386   \n",
      "...            ...        ...  ...                 ...                  ...   \n",
      "24108    49.091751  34.000000  ...           -1.022247             0.935770   \n",
      "24109    36.221541  51.000000  ...           -0.927295             0.938047   \n",
      "24110    41.000000  71.344236  ...           -0.876058             0.588003   \n",
      "24111    45.044423  55.009090  ...           -1.107149             1.046001   \n",
      "24112    40.112342  42.107007  ...           -1.172274             0.851966   \n",
      "\n",
      "       dis_c_lmouth_nose  dis_c_rmouth_nose  d_first_eyebrow_leye  \\\n",
      "0              54.083269          48.083261             29.068884   \n",
      "1              51.429563          46.141088             24.839485   \n",
      "2              50.159745          42.449971             25.495098   \n",
      "3              57.271284          60.745370             21.954498   \n",
      "4              43.462628          44.944410             27.658633   \n",
      "...                  ...                ...                   ...   \n",
      "24108          59.033889          62.201286             47.095647   \n",
      "24109          51.224994          49.517674             37.483330   \n",
      "24110          51.613952          68.095521             25.079872   \n",
      "24111          58.137767          59.396970             43.011626   \n",
      "24112          49.819675          54.817880             33.376639   \n",
      "\n",
      "       d_first_eyebrow_reye  a_nose_leyebrow  a_nose_reyebrow  circum_mouth  \\\n",
      "0                 28.460499         0.835357         1.249046    122.200822   \n",
      "1                 24.698178         0.682317         1.016489    121.277925   \n",
      "2                 23.769729         0.680521         1.315614    131.053001   \n",
      "3                 25.553865         0.785398         1.037088    176.923136   \n",
      "4                 25.709920         1.147942         1.335251     94.492867   \n",
      "...                     ...              ...              ...           ...   \n",
      "24108             50.219518         0.892677         1.349968    132.779479   \n",
      "24109             39.293765         0.933248         1.313473    100.903171   \n",
      "24110             30.000000         0.694738         0.927295    162.066050   \n",
      "24111             43.566042         0.856706         1.409421    118.447685   \n",
      "24112             34.014703         0.858439         1.146602    105.389696   \n",
      "\n",
      "       d_bottom_mouth_chin  \n",
      "0                27.073973  \n",
      "1                31.064449  \n",
      "2                44.553339  \n",
      "3                37.121422  \n",
      "4                51.662365  \n",
      "...                    ...  \n",
      "24108            45.398238  \n",
      "24109            25.079872  \n",
      "24110            21.931712  \n",
      "24111            22.203603  \n",
      "24112            30.413813  \n",
      "\n",
      "[24073 rows x 21 columns]\n",
      "       a_nose_leyebrow  a_nose_reyebrow  angle_left_eyebrow  \\\n",
      "0             0.835357         1.249046           -0.602287   \n",
      "1             0.682317         1.016489           -0.531724   \n",
      "2             0.680521         1.315614           -0.785398   \n",
      "3             0.785398         1.037088           -0.745419   \n",
      "4             1.147942         1.335251           -0.558599   \n",
      "...                ...              ...                 ...   \n",
      "24108         0.892677         1.349968           -1.022247   \n",
      "24109         0.933248         1.313473           -0.927295   \n",
      "24110         0.694738         0.927295           -0.876058   \n",
      "24111         0.856706         1.409421           -1.107149   \n",
      "24112         0.858439         1.146602           -1.172274   \n",
      "\n",
      "       angle_right_eyebrow  average_distance  circum_mouth  \\\n",
      "0                 0.741947         57.849661    122.200822   \n",
      "1                 0.702257         38.702801    121.277925   \n",
      "2                 0.785398         48.809134    131.053001   \n",
      "3                 0.748378         54.846611    176.923136   \n",
      "4                 1.158386         37.752899     94.492867   \n",
      "...                    ...               ...           ...   \n",
      "24108             0.935770         44.369616    132.779479   \n",
      "24109             0.938047         63.395024    100.903171   \n",
      "24110             0.588003         75.326098    162.066050   \n",
      "24111             1.046001         65.942962    118.447685   \n",
      "24112             0.851966         51.818989    105.389696   \n",
      "\n",
      "       d_bottom_mouth_chin  d_first_eyebrow_leye  d_first_eyebrow_reye  \\\n",
      "0                27.073973             29.068884             28.460499   \n",
      "1                31.064449             24.839485             24.698178   \n",
      "2                44.553339             25.495098             23.769729   \n",
      "3                37.121422             21.954498             25.553865   \n",
      "4                51.662365             27.658633             25.709920   \n",
      "...                    ...                   ...                   ...   \n",
      "24108            45.398238             47.095647             50.219518   \n",
      "24109            25.079872             37.483330             39.293765   \n",
      "24110            21.931712             25.079872             30.000000   \n",
      "24111            22.203603             43.011626             43.566042   \n",
      "24112            30.413813             33.376639             34.014703   \n",
      "\n",
      "       dis_c_lmouth_nose  dis_c_rmouth_nose  eye_brows     h_chin    h_mouth  \\\n",
      "0              54.083269          48.083261      -14.0  80.156098  53.084838   \n",
      "1              51.429563          46.141088      -13.0  54.083269  23.021729   \n",
      "2              50.159745          42.449971      -15.5  75.663730  31.144823   \n",
      "3              57.271284          60.745370      -16.5  80.224684  43.104524   \n",
      "4              43.462628          44.944410      -17.5  70.880181  19.313208   \n",
      "...                  ...                ...        ...        ...        ...   \n",
      "24108          59.033889          62.201286      -27.0  79.227520  34.000000   \n",
      "24109          51.224994          49.517674      -21.5  76.026311  51.000000   \n",
      "24110          51.613952          68.095521      -14.5  92.395887  71.344236   \n",
      "24111          58.137767          59.396970      -27.0  77.103826  55.009090   \n",
      "24112          49.819675          54.817880      -25.0  72.443081  42.107007   \n",
      "\n",
      "       mouth_distance  size_left_eye  w_left_eye  w_right_eye  emotion  \\\n",
      "0          -28.666667      20.048945   38.639358    36.055513        7   \n",
      "1           -3.000000      17.693473   37.336309    36.055513        3   \n",
      "2          -13.333333      14.317438   32.015621    31.400637        4   \n",
      "3          -20.000000      15.636488   39.319207    39.000000        4   \n",
      "4            1.666667      15.811388   34.785054    33.955854        5   \n",
      "...               ...            ...         ...          ...      ...   \n",
      "24108       -3.333333      24.768364   47.042534    49.091751        7   \n",
      "24109      -19.666667      18.207012   38.000000    36.221541        7   \n",
      "24110      -47.666667      20.890573   38.013156    41.000000        7   \n",
      "24111      -23.333333      24.062410   43.104524    45.044423        7   \n",
      "24112      -13.333333      18.731266   38.118237    40.112342        7   \n",
      "\n",
      "                                 image  \n",
      "0      facial-expressions_2868585k.jpg  \n",
      "1      facial-expressions_2868582k.jpg  \n",
      "2               Aaron_Peirsol_0003.jpg  \n",
      "3                Aaron_Sorkin_0002.jpg  \n",
      "4         Abdel_Nasser_Assidi_0002.jpg  \n",
      "...                                ...  \n",
      "24108      SURPRISE/surprise (971).png  \n",
      "24109      SURPRISE/surprise (978).jpg  \n",
      "24110      SURPRISE/surprise (981).png  \n",
      "24111      SURPRISE/surprise (983).jpg  \n",
      "24112      SURPRISE/surprise (994).jpg  \n",
      "\n",
      "[24073 rows x 20 columns]\n"
     ]
    }
   ],
   "source": [
    "df_filter = new_df.copy()\n",
    "print(new_df)\n",
    "df_filter = df_filter[selected_columns]\n",
    "print(df_filter)"
   ]
  },
  {
   "cell_type": "code",
   "execution_count": 21,
   "metadata": {},
   "outputs": [
    {
     "name": "stderr",
     "output_type": "stream",
     "text": [
      "C:\\Users\\Sunny\\AppData\\Local\\Temp/ipykernel_9324/3834602630.py:12: DataConversionWarning: A column-vector y was passed when a 1d array was expected. Please change the shape of y to (n_samples,), for example using ravel().\n",
      "  model.fit(X_train, y_train)\n"
     ]
    },
    {
     "data": {
      "text/plain": [
       "<AxesSubplot:>"
      ]
     },
     "execution_count": 21,
     "metadata": {},
     "output_type": "execute_result"
    },
    {
     "data": {
      "image/png": "[encoded data removed]",
      "text/plain": [
       "<Figure size 432x288 with 1 Axes>"
      ]
     },
     "metadata": {
      "needs_background": "light"
     },
     "output_type": "display_data"
    }
   ],
   "source": [
    "# Critical To Model (Feature important)\n",
    "from sklearn.model_selection import train_test_split\n",
    "from sklearn.ensemble import RandomForestClassifier\n",
    "\n",
    "model = RandomForestClassifier(n_estimators=250, random_state=7)\n",
    "\n",
    "X = df[df.columns.difference(['emotion', 'image'])]\n",
    "y = df[['emotion']]\n",
    "\n",
    "X_train, X_test, y_train, y_test = train_test_split(X, y, test_size=0.1)\n",
    "\n",
    "model.fit(X_train, y_train)  \n",
    "\n",
    "fs = pd.Series(model.feature_importances_, index=X.columns).sort_values(ascending=True)\n",
    "fs.plot(kind='barh')"
   ]
  },
  {
   "cell_type": "code",
   "execution_count": 22,
   "metadata": {},
   "outputs": [
    {
     "name": "stdout",
     "output_type": "stream",
     "text": [
      "[0.044986791651098416, 0.04679461277692251, 0.041137984540430474, 0.038374893902493656, 0.05454252347439888, 0.12297642409702801, 0.0432999521341654, 0.04892493782489063, 0.04963940401860801, 0.048179446462878486, 0.05230123954388722, 0.03627255448209821, 0.04692999721042596, 0.053619735776807564, 0.07936776960876528, 0.0486854633526447, 0.05058040178814366, 0.046242642719618636, 0.04714322463469414]\n"
     ]
    }
   ],
   "source": [
    "important = list(model.feature_importances_)\n",
    "print(important)"
   ]
  },
  {
   "cell_type": "code",
   "execution_count": 23,
   "metadata": {},
   "outputs": [
    {
     "name": "stderr",
     "output_type": "stream",
     "text": [
      "C:\\Users\\Sunny\\anaconda3\\lib\\site-packages\\statsmodels\\tsa\\tsatools.py:142: FutureWarning: In a future version of pandas all arguments of concat except for the argument 'objs' will be keyword-only\n",
      "  x = pd.concat(x[::order], 1)\n"
     ]
    },
    {
     "data": {
      "text/plain": [
       "const                   5.904937e-44\n",
       "a_nose_leyebrow         4.379347e-09\n",
       "a_nose_reyebrow         9.547745e-07\n",
       "angle_left_eyebrow      4.694787e-02\n",
       "angle_right_eyebrow     1.065031e-02\n",
       "average_distance        8.143142e-12\n",
       "circum_mouth            7.413865e-03\n",
       "d_bottom_mouth_chin     1.216732e-04\n",
       "d_first_eyebrow_leye    2.245868e-22\n",
       "d_first_eyebrow_reye    2.551563e-21\n",
       "dis_c_lmouth_nose       1.850596e-12\n",
       "dis_c_rmouth_nose       4.726268e-04\n",
       "eye_brows               2.581396e-03\n",
       "h_chin                  6.613714e-04\n",
       "h_mouth                 1.416715e-03\n",
       "mouth_distance          6.799339e-08\n",
       "size_left_eye           1.184270e-01\n",
       "size_right_eye          1.254357e-01\n",
       "w_left_eye              3.671489e-02\n",
       "w_right_eye             2.609248e-09\n",
       "dtype: float64"
      ]
     },
     "execution_count": 23,
     "metadata": {},
     "output_type": "execute_result"
    }
   ],
   "source": [
    "# Wrapper (Backward Elimination)\n",
    "import statsmodels.api as sm\n",
    "from sklearn.feature_selection import RFE\n",
    "\n",
    "X_1 = sm.add_constant(X)\n",
    "model = sm.OLS(y,X_1).fit()\n",
    "model.pvalues"
   ]
  },
  {
   "cell_type": "code",
   "execution_count": 24,
   "metadata": {},
   "outputs": [
    {
     "name": "stdout",
     "output_type": "stream",
     "text": [
      "Number of Feature Selected BE :  18\n",
      "['a_nose_leyebrow', 'a_nose_reyebrow', 'angle_left_eyebrow', 'angle_right_eyebrow', 'average_distance', 'circum_mouth', 'd_bottom_mouth_chin', 'd_first_eyebrow_leye', 'd_first_eyebrow_reye', 'dis_c_lmouth_nose', 'dis_c_rmouth_nose', 'eye_brows', 'h_chin', 'h_mouth', 'mouth_distance', 'size_left_eye', 'w_left_eye', 'w_right_eye']\n"
     ]
    },
    {
     "name": "stderr",
     "output_type": "stream",
     "text": [
      "C:\\Users\\Sunny\\anaconda3\\lib\\site-packages\\statsmodels\\tsa\\tsatools.py:142: FutureWarning: In a future version of pandas all arguments of concat except for the argument 'objs' will be keyword-only\n",
      "  x = pd.concat(x[::order], 1)\n",
      "C:\\Users\\Sunny\\anaconda3\\lib\\site-packages\\statsmodels\\tsa\\tsatools.py:142: FutureWarning: In a future version of pandas all arguments of concat except for the argument 'objs' will be keyword-only\n",
      "  x = pd.concat(x[::order], 1)\n"
     ]
    }
   ],
   "source": [
    "cols = list(X.columns)\n",
    "pmax = 1\n",
    "\n",
    "while len(cols) > 0:\n",
    "    p = []\n",
    "    X_1 = X[cols]\n",
    "    X_1 = sm.add_constant(X_1)\n",
    "\n",
    "    model = sm.OLS(y,X_1).fit()\n",
    "\n",
    "    p = pd.Series(model.pvalues.values[1:], index = cols)      \n",
    "    pmax = max(p)\n",
    "    feature_with_p_max = p.idxmax()\n",
    "    if pmax > 0.05 :\n",
    "        cols.remove(feature_with_p_max)\n",
    "    else:\n",
    "        break\n",
    "\n",
    "selected_features_BE = list(cols)\n",
    "print(\"Number of Feature Selected BE : \", len(selected_features_BE))\n",
    "print(selected_features_BE)"
   ]
  },
  {
   "cell_type": "code",
   "execution_count": 25,
   "metadata": {},
   "outputs": [
    {
     "name": "stdout",
     "output_type": "stream",
     "text": [
      "Optimum number of features: 17\n",
      "Score with 17 features: 0.099993\n"
     ]
    }
   ],
   "source": [
    "from sklearn.linear_model import LinearRegression\n",
    "\n",
    "#no of features\n",
    "nof_list = np.arange(1,21)            \n",
    "high_score = 0\n",
    "\n",
    "#Variable to store the optimum features\n",
    "nof = 0           \n",
    "score_list = []\n",
    "\n",
    "for n in range(len(nof_list)):\n",
    "    X_train, X_test, y_train, y_test = train_test_split(X,y, test_size = 0.1, random_state = 0)\n",
    "\n",
    "    model = LinearRegression()\n",
    "    rfe = RFE(model, n_features_to_select=nof_list[n])\n",
    "\n",
    "    X_train_rfe = rfe.fit_transform(X_train,y_train)\n",
    "    X_test_rfe = rfe.transform(X_test)\n",
    "\n",
    "    model.fit(X_train_rfe,y_train)\n",
    "\n",
    "    score = model.score(X_test_rfe,y_test)\n",
    "    score_list.append(score)\n",
    "    if score > high_score:\n",
    "        high_score = score\n",
    "        nof = nof_list[n]\n",
    "\n",
    "print(\"Optimum number of features: %d\" %nof)\n",
    "print(\"Score with %d features: %f\" % (nof, high_score))"
   ]
  },
  {
   "cell_type": "code",
   "execution_count": 26,
   "metadata": {},
   "outputs": [
    {
     "name": "stdout",
     "output_type": "stream",
     "text": [
      "[ True  True False  True  True False  True  True  True  True False False\n",
      "  True  True  True  True  True False  True]\n",
      "[1 1 2 1 1 6 1 1 1 1 5 3 1 1 1 1 1 4 1]\n",
      "Number of feature rfe :  14\n"
     ]
    }
   ],
   "source": [
    "model = LinearRegression()\n",
    "#Initializing RFE model\n",
    "rfe = RFE(model, n_features_to_select=14)\n",
    "#Transforming data using RFE\n",
    "X_rfe = rfe.fit_transform(X,y) \n",
    "model.fit(X_rfe,y)\n",
    "print(rfe.support_)\n",
    "print(rfe.ranking_)\n",
    "cols = list(X.columns)\n",
    "temp = pd.Series(rfe.support_,index = cols)\n",
    "selected_features_rfe = list(temp[temp==True].index)\n",
    "print(\"Number of feature rfe : \", len(selected_features_rfe))\n",
    "\n",
    "# end of Wrapper (Backward Elimination)"
   ]
  },
  {
   "cell_type": "code",
   "execution_count": 27,
   "metadata": {},
   "outputs": [],
   "source": [
    "# selected_features_rfe = selected_features_rfe.extend(['emotion', 'image'])\n",
    "selected_features_rfe = ['image', 'emotion'] + selected_features_rfe\n",
    "df_wrapper = new_df.copy()\n",
    "df_wrapper = df_wrapper[selected_features_rfe]\n",
    "df_wrapper.to_csv(cwd + \"/data_csv/use_feature_data_wrapper.csv\", index=False)\n"
   ]
  },
  {
   "cell_type": "code",
   "execution_count": 28,
   "metadata": {},
   "outputs": [
    {
     "name": "stderr",
     "output_type": "stream",
     "text": [
      "C:\\Users\\Sunny\\anaconda3\\lib\\site-packages\\sklearn\\utils\\validation.py:63: DataConversionWarning: A column-vector y was passed when a 1d array was expected. Please change the shape of y to (n_samples, ), for example using ravel().\n",
      "  return f(*args, **kwargs)\n",
      "C:\\Users\\Sunny\\anaconda3\\lib\\site-packages\\sklearn\\linear_model\\_coordinate_descent.py:526: ConvergenceWarning: Objective did not converge. You might want to increase the number of iterations. Duality gap: 6.45043728571909, tolerance: 5.369622328383016\n",
      "  model = cd_fast.enet_coordinate_descent_gram(\n",
      "C:\\Users\\Sunny\\anaconda3\\lib\\site-packages\\sklearn\\linear_model\\_coordinate_descent.py:526: ConvergenceWarning: Objective did not converge. You might want to increase the number of iterations. Duality gap: 6.768840995740902, tolerance: 5.369622328383016\n",
      "  model = cd_fast.enet_coordinate_descent_gram(\n",
      "C:\\Users\\Sunny\\anaconda3\\lib\\site-packages\\sklearn\\linear_model\\_coordinate_descent.py:526: ConvergenceWarning: Objective did not converge. You might want to increase the number of iterations. Duality gap: 53.03481708775507, tolerance: 9.691456703707557\n",
      "  model = cd_fast.enet_coordinate_descent_gram(\n",
      "C:\\Users\\Sunny\\anaconda3\\lib\\site-packages\\sklearn\\linear_model\\_coordinate_descent.py:526: ConvergenceWarning: Objective did not converge. You might want to increase the number of iterations. Duality gap: 72.39270844891143, tolerance: 9.691456703707557\n",
      "  model = cd_fast.enet_coordinate_descent_gram(\n",
      "C:\\Users\\Sunny\\anaconda3\\lib\\site-packages\\sklearn\\linear_model\\_coordinate_descent.py:526: ConvergenceWarning: Objective did not converge. You might want to increase the number of iterations. Duality gap: 78.7227178082685, tolerance: 9.691456703707557\n",
      "  model = cd_fast.enet_coordinate_descent_gram(\n",
      "C:\\Users\\Sunny\\anaconda3\\lib\\site-packages\\sklearn\\linear_model\\_coordinate_descent.py:526: ConvergenceWarning: Objective did not converge. You might want to increase the number of iterations. Duality gap: 80.62654845556244, tolerance: 9.691456703707557\n",
      "  model = cd_fast.enet_coordinate_descent_gram(\n",
      "C:\\Users\\Sunny\\anaconda3\\lib\\site-packages\\sklearn\\linear_model\\_coordinate_descent.py:526: ConvergenceWarning: Objective did not converge. You might want to increase the number of iterations. Duality gap: 81.14503735395556, tolerance: 9.691456703707557\n",
      "  model = cd_fast.enet_coordinate_descent_gram(\n",
      "C:\\Users\\Sunny\\anaconda3\\lib\\site-packages\\sklearn\\linear_model\\_coordinate_descent.py:526: ConvergenceWarning: Objective did not converge. You might want to increase the number of iterations. Duality gap: 81.23631178238429, tolerance: 9.691456703707557\n",
      "  model = cd_fast.enet_coordinate_descent_gram(\n",
      "C:\\Users\\Sunny\\anaconda3\\lib\\site-packages\\sklearn\\linear_model\\_coordinate_descent.py:526: ConvergenceWarning: Objective did not converge. You might want to increase the number of iterations. Duality gap: 81.19436115834105, tolerance: 9.691456703707557\n",
      "  model = cd_fast.enet_coordinate_descent_gram(\n",
      "C:\\Users\\Sunny\\anaconda3\\lib\\site-packages\\sklearn\\linear_model\\_coordinate_descent.py:526: ConvergenceWarning: Objective did not converge. You might want to increase the number of iterations. Duality gap: 81.10948939334776, tolerance: 9.691456703707557\n",
      "  model = cd_fast.enet_coordinate_descent_gram(\n",
      "C:\\Users\\Sunny\\anaconda3\\lib\\site-packages\\sklearn\\linear_model\\_coordinate_descent.py:526: ConvergenceWarning: Objective did not converge. You might want to increase the number of iterations. Duality gap: 54.73670330148889, tolerance: 9.279306287969264\n",
      "  model = cd_fast.enet_coordinate_descent_gram(\n",
      "C:\\Users\\Sunny\\anaconda3\\lib\\site-packages\\sklearn\\linear_model\\_coordinate_descent.py:526: ConvergenceWarning: Objective did not converge. You might want to increase the number of iterations. Duality gap: 75.03433855753974, tolerance: 9.279306287969264\n",
      "  model = cd_fast.enet_coordinate_descent_gram(\n",
      "C:\\Users\\Sunny\\anaconda3\\lib\\site-packages\\sklearn\\linear_model\\_coordinate_descent.py:526: ConvergenceWarning: Objective did not converge. You might want to increase the number of iterations. Duality gap: 81.616527963517, tolerance: 9.279306287969264\n",
      "  model = cd_fast.enet_coordinate_descent_gram(\n",
      "C:\\Users\\Sunny\\anaconda3\\lib\\site-packages\\sklearn\\linear_model\\_coordinate_descent.py:526: ConvergenceWarning: Objective did not converge. You might want to increase the number of iterations. Duality gap: 29.329146107462293, tolerance: 5.7660268549769\n",
      "  model = cd_fast.enet_coordinate_descent_gram(\n"
     ]
    },
    {
     "name": "stdout",
     "output_type": "stream",
     "text": [
      "Best alpha using built-in LassoCV: 0.450836\n",
      "Best score using built-in LassoCV: 0.098182\n"
     ]
    },
    {
     "name": "stderr",
     "output_type": "stream",
     "text": [
      "C:\\Users\\Sunny\\anaconda3\\lib\\site-packages\\sklearn\\linear_model\\_coordinate_descent.py:526: ConvergenceWarning: Objective did not converge. You might want to increase the number of iterations. Duality gap: 95.33408280952426, tolerance: 5.7660268549769\n",
      "  model = cd_fast.enet_coordinate_descent_gram(\n",
      "C:\\Users\\Sunny\\anaconda3\\lib\\site-packages\\sklearn\\linear_model\\_coordinate_descent.py:526: ConvergenceWarning: Objective did not converge. You might want to increase the number of iterations. Duality gap: 135.25346666922997, tolerance: 5.7660268549769\n",
      "  model = cd_fast.enet_coordinate_descent_gram(\n",
      "C:\\Users\\Sunny\\anaconda3\\lib\\site-packages\\sklearn\\linear_model\\_coordinate_descent.py:526: ConvergenceWarning: Objective did not converge. You might want to increase the number of iterations. Duality gap: 154.94037745104288, tolerance: 5.7660268549769\n",
      "  model = cd_fast.enet_coordinate_descent_gram(\n",
      "C:\\Users\\Sunny\\anaconda3\\lib\\site-packages\\sklearn\\linear_model\\_coordinate_descent.py:526: ConvergenceWarning: Objective did not converge. You might want to increase the number of iterations. Duality gap: 164.01196453045122, tolerance: 5.7660268549769\n",
      "  model = cd_fast.enet_coordinate_descent_gram(\n",
      "C:\\Users\\Sunny\\anaconda3\\lib\\site-packages\\sklearn\\linear_model\\_coordinate_descent.py:526: ConvergenceWarning: Objective did not converge. You might want to increase the number of iterations. Duality gap: 168.0140271079581, tolerance: 5.7660268549769\n",
      "  model = cd_fast.enet_coordinate_descent_gram(\n"
     ]
    }
   ],
   "source": [
    "# Embedded\n",
    "from sklearn.linear_model import RidgeCV, LassoCV, Ridge, Lasso\n",
    "\n",
    "reg = LassoCV()\n",
    "reg.fit(X, y)\n",
    "print(\"Best alpha using built-in LassoCV: %f\" % reg.alpha_)\n",
    "print(\"Best score using built-in LassoCV: %f\" %reg.score(X,y))\n",
    "coef = pd.Series(reg.coef_, index = X.columns)"
   ]
  },
  {
   "cell_type": "code",
   "execution_count": 29,
   "metadata": {},
   "outputs": [
    {
     "name": "stdout",
     "output_type": "stream",
     "text": [
      "Lasso picked 5 variables and eliminated the other 14 variables\n"
     ]
    }
   ],
   "source": [
    "print(\"Lasso picked \" + str(sum(coef != 0)) + \" variables and eliminated the other \" +  str(sum(coef == 0)) + \" variables\")"
   ]
  },
  {
   "cell_type": "code",
   "execution_count": 30,
   "metadata": {},
   "outputs": [
    {
     "data": {
      "text/plain": [
       "Text(0.5, 1.0, 'Feature importance using Lasso Model')"
      ]
     },
     "execution_count": 30,
     "metadata": {},
     "output_type": "execute_result"
    },
    {
     "data": {
      "image/png": "[encoded data removed]",
      "text/plain": [
       "<Figure size 576x720 with 1 Axes>"
      ]
     },
     "metadata": {
      "needs_background": "light"
     },
     "output_type": "display_data"
    }
   ],
   "source": [
    "imp_coef = coef.sort_values()\n",
    "import matplotlib\n",
    "matplotlib.rcParams['figure.figsize'] = (8.0, 10.0)\n",
    "imp_coef.plot(kind = \"barh\")\n",
    "plt.title(\"Feature importance using Lasso Model\")"
   ]
  },
  {
   "cell_type": "code",
   "execution_count": 31,
   "metadata": {},
   "outputs": [
    {
     "name": "stdout",
     "output_type": "stream",
     "text": [
      "6\n"
     ]
    }
   ],
   "source": [
    "feature_selected_embed = [\n",
    "    'image',\n",
    "    'emotion',\n",
    "    'd_first_eyebrow_reye',\n",
    "    'd_first_eyebrow_leye', \n",
    "    'circum_mouth',\n",
    "    'd_bottom_mouth_chin',\n",
    "]\n",
    "df_embedded = new_df.copy()\n",
    "df_embedded = df_embedded[feature_selected_embed]\n",
    "print(len(df_embedded.columns))\n",
    "df_embedded.to_csv(cwd + \"/data_csv/use_feature_data_embedded.csv\", index=False)\n"
   ]
  },
  {
   "cell_type": "code",
   "execution_count": 32,
   "metadata": {},
   "outputs": [
    {
     "name": "stderr",
     "output_type": "stream",
     "text": [
      "C:\\Users\\Sunny\\anaconda3\\lib\\site-packages\\sklearn\\utils\\validation.py:63: DataConversionWarning: A column-vector y was passed when a 1d array was expected. Please change the shape of y to (n_samples, ), for example using ravel().\n",
      "  return f(*args, **kwargs)\n",
      "C:\\Users\\Sunny\\anaconda3\\lib\\site-packages\\sklearn\\utils\\validation.py:63: DataConversionWarning: A column-vector y was passed when a 1d array was expected. Please change the shape of y to (n_samples, ), for example using ravel().\n",
      "  return f(*args, **kwargs)\n",
      "C:\\Users\\Sunny\\anaconda3\\lib\\site-packages\\sklearn\\utils\\validation.py:63: DataConversionWarning: A column-vector y was passed when a 1d array was expected. Please change the shape of y to (n_samples, ), for example using ravel().\n",
      "  return f(*args, **kwargs)\n",
      "C:\\Users\\Sunny\\anaconda3\\lib\\site-packages\\sklearn\\utils\\validation.py:63: DataConversionWarning: A column-vector y was passed when a 1d array was expected. Please change the shape of y to (n_samples, ), for example using ravel().\n",
      "  return f(*args, **kwargs)\n",
      "C:\\Users\\Sunny\\anaconda3\\lib\\site-packages\\sklearn\\utils\\validation.py:63: DataConversionWarning: A column-vector y was passed when a 1d array was expected. Please change the shape of y to (n_samples, ), for example using ravel().\n",
      "  return f(*args, **kwargs)\n",
      "C:\\Users\\Sunny\\anaconda3\\lib\\site-packages\\sklearn\\utils\\validation.py:63: DataConversionWarning: A column-vector y was passed when a 1d array was expected. Please change the shape of y to (n_samples, ), for example using ravel().\n",
      "  return f(*args, **kwargs)\n",
      "C:\\Users\\Sunny\\anaconda3\\lib\\site-packages\\sklearn\\utils\\validation.py:63: DataConversionWarning: A column-vector y was passed when a 1d array was expected. Please change the shape of y to (n_samples, ), for example using ravel().\n",
      "  return f(*args, **kwargs)\n",
      "C:\\Users\\Sunny\\anaconda3\\lib\\site-packages\\sklearn\\utils\\validation.py:63: DataConversionWarning: A column-vector y was passed when a 1d array was expected. Please change the shape of y to (n_samples, ), for example using ravel().\n",
      "  return f(*args, **kwargs)\n",
      "C:\\Users\\Sunny\\anaconda3\\lib\\site-packages\\sklearn\\utils\\validation.py:63: DataConversionWarning: A column-vector y was passed when a 1d array was expected. Please change the shape of y to (n_samples, ), for example using ravel().\n",
      "  return f(*args, **kwargs)\n",
      "C:\\Users\\Sunny\\anaconda3\\lib\\site-packages\\sklearn\\utils\\validation.py:63: DataConversionWarning: A column-vector y was passed when a 1d array was expected. Please change the shape of y to (n_samples, ), for example using ravel().\n",
      "  return f(*args, **kwargs)\n",
      "C:\\Users\\Sunny\\anaconda3\\lib\\site-packages\\sklearn\\utils\\validation.py:63: DataConversionWarning: A column-vector y was passed when a 1d array was expected. Please change the shape of y to (n_samples, ), for example using ravel().\n",
      "  return f(*args, **kwargs)\n"
     ]
    }
   ],
   "source": [
    "# Wrapper Methods\n",
    "from sklearn.ensemble import GradientBoostingClassifier\n",
    "estimator = GradientBoostingClassifier(n_estimators = 100)\n",
    "selector = RFE(estimator, step= 1)\n",
    "selector = selector.fit(X_train, y_train)"
   ]
  },
  {
   "cell_type": "code",
   "execution_count": 33,
   "metadata": {},
   "outputs": [
    {
     "data": {
      "text/plain": [
       "array(['average_distance', 'circum_mouth', 'd_first_eyebrow_reye',\n",
       "       'dis_c_lmouth_nose', 'dis_c_rmouth_nose', 'h_mouth',\n",
       "       'mouth_distance', 'size_right_eye', 'w_right_eye'], dtype=object)"
      ]
     },
     "execution_count": 33,
     "metadata": {},
     "output_type": "execute_result"
    }
   ],
   "source": [
    "sel_cols = np.array(X.columns)[selector.support_]\n",
    "sel_cols"
   ]
  }
 ],
 "metadata": {
  "interpreter": {
   "hash": "4d02cdae7faed44485a20a1dfe89a6c1f0576f684e5ae49a964539fc51d957e1"
  },
  "kernelspec": {
   "display_name": "Python 3.8.2 64-bit",
   "language": "python",
   "name": "python3"
  },
  "language_info": {
   "codemirror_mode": {
    "name": "ipython",
    "version": 3
   },
   "file_extension": ".py",
   "mimetype": "text/x-python",
   "name": "python",
   "nbconvert_exporter": "python",
   "pygments_lexer": "ipython3",
   "version": "3.9.7"
  },
  "orig_nbformat": 4
 },
 "nbformat": 4,
 "nbformat_minor": 2
}
